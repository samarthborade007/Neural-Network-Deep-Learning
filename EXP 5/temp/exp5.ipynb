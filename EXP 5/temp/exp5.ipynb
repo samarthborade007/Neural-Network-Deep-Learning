{
  "cells": [
    {
      "cell_type": "code",
      "execution_count": 10,
      "metadata": {},
      "outputs": [],
      "source": [
        "#Samarth Borade\n",
        "#BTI SEM 10\n",
        "#C009\n",
        "#EXP 5 : Implementing parameter tuning and sequential model in python"
      ]
    },
    {
      "cell_type": "code",
      "execution_count": 11,
      "metadata": {
        "id": "gdzBRgzfLSaO"
      },
      "outputs": [],
      "source": [
        "import pandas as pd\n",
        "import numpy as np\n",
        "from sklearn.model_selection import train_test_split\n"
      ]
    },
    {
      "cell_type": "code",
      "execution_count": 12,
      "metadata": {
        "colab": {
          "base_uri": "https://localhost:8080/",
          "height": 417
        },
        "id": "wnCdJULnOKBa",
        "outputId": "2b4b73d6-5751-41c2-8c4a-3f23e7a94558"
      },
      "outputs": [
        {
          "data": {
            "text/html": [
              "<div>\n",
              "<style scoped>\n",
              "    .dataframe tbody tr th:only-of-type {\n",
              "        vertical-align: middle;\n",
              "    }\n",
              "\n",
              "    .dataframe tbody tr th {\n",
              "        vertical-align: top;\n",
              "    }\n",
              "\n",
              "    .dataframe thead th {\n",
              "        text-align: right;\n",
              "    }\n",
              "</style>\n",
              "<table border=\"1\" class=\"dataframe\">\n",
              "  <thead>\n",
              "    <tr style=\"text-align: right;\">\n",
              "      <th></th>\n",
              "      <th>date</th>\n",
              "      <th>price</th>\n",
              "      <th>bedrooms</th>\n",
              "      <th>bathrooms</th>\n",
              "      <th>sqft_living</th>\n",
              "      <th>sqft_lot</th>\n",
              "      <th>floors</th>\n",
              "      <th>waterfront</th>\n",
              "      <th>view</th>\n",
              "      <th>condition</th>\n",
              "      <th>sqft_above</th>\n",
              "      <th>sqft_basement</th>\n",
              "      <th>yr_built</th>\n",
              "      <th>yr_renovated</th>\n",
              "      <th>street</th>\n",
              "      <th>city</th>\n",
              "      <th>statezip</th>\n",
              "      <th>country</th>\n",
              "    </tr>\n",
              "  </thead>\n",
              "  <tbody>\n",
              "    <tr>\n",
              "      <th>0</th>\n",
              "      <td>2014-05-02 00:00:00</td>\n",
              "      <td>313000.0</td>\n",
              "      <td>3.0</td>\n",
              "      <td>1.50</td>\n",
              "      <td>1340</td>\n",
              "      <td>7912</td>\n",
              "      <td>1.5</td>\n",
              "      <td>0</td>\n",
              "      <td>0</td>\n",
              "      <td>3</td>\n",
              "      <td>1340</td>\n",
              "      <td>0</td>\n",
              "      <td>1955</td>\n",
              "      <td>2005</td>\n",
              "      <td>18810 Densmore Ave N</td>\n",
              "      <td>Shoreline</td>\n",
              "      <td>WA 98133</td>\n",
              "      <td>USA</td>\n",
              "    </tr>\n",
              "    <tr>\n",
              "      <th>1</th>\n",
              "      <td>2014-05-02 00:00:00</td>\n",
              "      <td>2384000.0</td>\n",
              "      <td>5.0</td>\n",
              "      <td>2.50</td>\n",
              "      <td>3650</td>\n",
              "      <td>9050</td>\n",
              "      <td>2.0</td>\n",
              "      <td>0</td>\n",
              "      <td>4</td>\n",
              "      <td>5</td>\n",
              "      <td>3370</td>\n",
              "      <td>280</td>\n",
              "      <td>1921</td>\n",
              "      <td>0</td>\n",
              "      <td>709 W Blaine St</td>\n",
              "      <td>Seattle</td>\n",
              "      <td>WA 98119</td>\n",
              "      <td>USA</td>\n",
              "    </tr>\n",
              "    <tr>\n",
              "      <th>2</th>\n",
              "      <td>2014-05-02 00:00:00</td>\n",
              "      <td>342000.0</td>\n",
              "      <td>3.0</td>\n",
              "      <td>2.00</td>\n",
              "      <td>1930</td>\n",
              "      <td>11947</td>\n",
              "      <td>1.0</td>\n",
              "      <td>0</td>\n",
              "      <td>0</td>\n",
              "      <td>4</td>\n",
              "      <td>1930</td>\n",
              "      <td>0</td>\n",
              "      <td>1966</td>\n",
              "      <td>0</td>\n",
              "      <td>26206-26214 143rd Ave SE</td>\n",
              "      <td>Kent</td>\n",
              "      <td>WA 98042</td>\n",
              "      <td>USA</td>\n",
              "    </tr>\n",
              "    <tr>\n",
              "      <th>3</th>\n",
              "      <td>2014-05-02 00:00:00</td>\n",
              "      <td>420000.0</td>\n",
              "      <td>3.0</td>\n",
              "      <td>2.25</td>\n",
              "      <td>2000</td>\n",
              "      <td>8030</td>\n",
              "      <td>1.0</td>\n",
              "      <td>0</td>\n",
              "      <td>0</td>\n",
              "      <td>4</td>\n",
              "      <td>1000</td>\n",
              "      <td>1000</td>\n",
              "      <td>1963</td>\n",
              "      <td>0</td>\n",
              "      <td>857 170th Pl NE</td>\n",
              "      <td>Bellevue</td>\n",
              "      <td>WA 98008</td>\n",
              "      <td>USA</td>\n",
              "    </tr>\n",
              "    <tr>\n",
              "      <th>4</th>\n",
              "      <td>2014-05-02 00:00:00</td>\n",
              "      <td>550000.0</td>\n",
              "      <td>4.0</td>\n",
              "      <td>2.50</td>\n",
              "      <td>1940</td>\n",
              "      <td>10500</td>\n",
              "      <td>1.0</td>\n",
              "      <td>0</td>\n",
              "      <td>0</td>\n",
              "      <td>4</td>\n",
              "      <td>1140</td>\n",
              "      <td>800</td>\n",
              "      <td>1976</td>\n",
              "      <td>1992</td>\n",
              "      <td>9105 170th Ave NE</td>\n",
              "      <td>Redmond</td>\n",
              "      <td>WA 98052</td>\n",
              "      <td>USA</td>\n",
              "    </tr>\n",
              "  </tbody>\n",
              "</table>\n",
              "</div>"
            ],
            "text/plain": [
              "                  date      price  bedrooms  bathrooms  sqft_living  sqft_lot  \\\n",
              "0  2014-05-02 00:00:00   313000.0       3.0       1.50         1340      7912   \n",
              "1  2014-05-02 00:00:00  2384000.0       5.0       2.50         3650      9050   \n",
              "2  2014-05-02 00:00:00   342000.0       3.0       2.00         1930     11947   \n",
              "3  2014-05-02 00:00:00   420000.0       3.0       2.25         2000      8030   \n",
              "4  2014-05-02 00:00:00   550000.0       4.0       2.50         1940     10500   \n",
              "\n",
              "   floors  waterfront  view  condition  sqft_above  sqft_basement  yr_built  \\\n",
              "0     1.5           0     0          3        1340              0      1955   \n",
              "1     2.0           0     4          5        3370            280      1921   \n",
              "2     1.0           0     0          4        1930              0      1966   \n",
              "3     1.0           0     0          4        1000           1000      1963   \n",
              "4     1.0           0     0          4        1140            800      1976   \n",
              "\n",
              "   yr_renovated                    street       city  statezip country  \n",
              "0          2005      18810 Densmore Ave N  Shoreline  WA 98133     USA  \n",
              "1             0           709 W Blaine St    Seattle  WA 98119     USA  \n",
              "2             0  26206-26214 143rd Ave SE       Kent  WA 98042     USA  \n",
              "3             0           857 170th Pl NE   Bellevue  WA 98008     USA  \n",
              "4          1992         9105 170th Ave NE    Redmond  WA 98052     USA  "
            ]
          },
          "execution_count": 12,
          "metadata": {},
          "output_type": "execute_result"
        }
      ],
      "source": [
        "df=pd.read_csv('house_price.csv')\n",
        "df.head()"
      ]
    },
    {
      "cell_type": "code",
      "execution_count": 13,
      "metadata": {
        "colab": {
          "base_uri": "https://localhost:8080/"
        },
        "id": "32ahq2tiOU5J",
        "outputId": "2dc7a015-930c-494a-da66-3c0d17d70344"
      },
      "outputs": [
        {
          "data": {
            "text/plain": [
              "date              object\n",
              "price            float64\n",
              "bedrooms         float64\n",
              "bathrooms        float64\n",
              "sqft_living        int64\n",
              "sqft_lot           int64\n",
              "floors           float64\n",
              "waterfront         int64\n",
              "view               int64\n",
              "condition          int64\n",
              "sqft_above         int64\n",
              "sqft_basement      int64\n",
              "yr_built           int64\n",
              "yr_renovated       int64\n",
              "street            object\n",
              "city              object\n",
              "statezip          object\n",
              "country           object\n",
              "dtype: object"
            ]
          },
          "execution_count": 13,
          "metadata": {},
          "output_type": "execute_result"
        }
      ],
      "source": [
        "df.dtypes"
      ]
    },
    {
      "cell_type": "code",
      "execution_count": 14,
      "metadata": {
        "id": "9lcLWcOaPMIg"
      },
      "outputs": [],
      "source": [
        "from sklearn.preprocessing import LabelEncoder"
      ]
    },
    {
      "cell_type": "code",
      "execution_count": 15,
      "metadata": {
        "id": "NK1JHflMPyDh"
      },
      "outputs": [],
      "source": [
        "label_encoder = LabelEncoder()"
      ]
    },
    {
      "cell_type": "code",
      "execution_count": 16,
      "metadata": {
        "colab": {
          "base_uri": "https://localhost:8080/",
          "height": 424
        },
        "id": "BaXRQYl7QZWx",
        "outputId": "07b00096-c531-4104-e6bd-58a86ef46e29"
      },
      "outputs": [
        {
          "data": {
            "text/html": [
              "<div>\n",
              "<style scoped>\n",
              "    .dataframe tbody tr th:only-of-type {\n",
              "        vertical-align: middle;\n",
              "    }\n",
              "\n",
              "    .dataframe tbody tr th {\n",
              "        vertical-align: top;\n",
              "    }\n",
              "\n",
              "    .dataframe thead th {\n",
              "        text-align: right;\n",
              "    }\n",
              "</style>\n",
              "<table border=\"1\" class=\"dataframe\">\n",
              "  <thead>\n",
              "    <tr style=\"text-align: right;\">\n",
              "      <th></th>\n",
              "      <th>street</th>\n",
              "      <th>city</th>\n",
              "      <th>statezip</th>\n",
              "      <th>country</th>\n",
              "    </tr>\n",
              "  </thead>\n",
              "  <tbody>\n",
              "    <tr>\n",
              "      <th>0</th>\n",
              "      <td>18810 Densmore Ave N</td>\n",
              "      <td>Shoreline</td>\n",
              "      <td>WA 98133</td>\n",
              "      <td>USA</td>\n",
              "    </tr>\n",
              "    <tr>\n",
              "      <th>1</th>\n",
              "      <td>709 W Blaine St</td>\n",
              "      <td>Seattle</td>\n",
              "      <td>WA 98119</td>\n",
              "      <td>USA</td>\n",
              "    </tr>\n",
              "    <tr>\n",
              "      <th>2</th>\n",
              "      <td>26206-26214 143rd Ave SE</td>\n",
              "      <td>Kent</td>\n",
              "      <td>WA 98042</td>\n",
              "      <td>USA</td>\n",
              "    </tr>\n",
              "    <tr>\n",
              "      <th>3</th>\n",
              "      <td>857 170th Pl NE</td>\n",
              "      <td>Bellevue</td>\n",
              "      <td>WA 98008</td>\n",
              "      <td>USA</td>\n",
              "    </tr>\n",
              "    <tr>\n",
              "      <th>4</th>\n",
              "      <td>9105 170th Ave NE</td>\n",
              "      <td>Redmond</td>\n",
              "      <td>WA 98052</td>\n",
              "      <td>USA</td>\n",
              "    </tr>\n",
              "    <tr>\n",
              "      <th>...</th>\n",
              "      <td>...</td>\n",
              "      <td>...</td>\n",
              "      <td>...</td>\n",
              "      <td>...</td>\n",
              "    </tr>\n",
              "    <tr>\n",
              "      <th>4595</th>\n",
              "      <td>501 N 143rd St</td>\n",
              "      <td>Seattle</td>\n",
              "      <td>WA 98133</td>\n",
              "      <td>USA</td>\n",
              "    </tr>\n",
              "    <tr>\n",
              "      <th>4596</th>\n",
              "      <td>14855 SE 10th Pl</td>\n",
              "      <td>Bellevue</td>\n",
              "      <td>WA 98007</td>\n",
              "      <td>USA</td>\n",
              "    </tr>\n",
              "    <tr>\n",
              "      <th>4597</th>\n",
              "      <td>759 Ilwaco Pl NE</td>\n",
              "      <td>Renton</td>\n",
              "      <td>WA 98059</td>\n",
              "      <td>USA</td>\n",
              "    </tr>\n",
              "    <tr>\n",
              "      <th>4598</th>\n",
              "      <td>5148 S Creston St</td>\n",
              "      <td>Seattle</td>\n",
              "      <td>WA 98178</td>\n",
              "      <td>USA</td>\n",
              "    </tr>\n",
              "    <tr>\n",
              "      <th>4599</th>\n",
              "      <td>18717 SE 258th St</td>\n",
              "      <td>Covington</td>\n",
              "      <td>WA 98042</td>\n",
              "      <td>USA</td>\n",
              "    </tr>\n",
              "  </tbody>\n",
              "</table>\n",
              "<p>4600 rows × 4 columns</p>\n",
              "</div>"
            ],
            "text/plain": [
              "                        street       city  statezip country\n",
              "0         18810 Densmore Ave N  Shoreline  WA 98133     USA\n",
              "1              709 W Blaine St    Seattle  WA 98119     USA\n",
              "2     26206-26214 143rd Ave SE       Kent  WA 98042     USA\n",
              "3              857 170th Pl NE   Bellevue  WA 98008     USA\n",
              "4            9105 170th Ave NE    Redmond  WA 98052     USA\n",
              "...                        ...        ...       ...     ...\n",
              "4595            501 N 143rd St    Seattle  WA 98133     USA\n",
              "4596          14855 SE 10th Pl   Bellevue  WA 98007     USA\n",
              "4597          759 Ilwaco Pl NE     Renton  WA 98059     USA\n",
              "4598         5148 S Creston St    Seattle  WA 98178     USA\n",
              "4599         18717 SE 258th St  Covington  WA 98042     USA\n",
              "\n",
              "[4600 rows x 4 columns]"
            ]
          },
          "execution_count": 16,
          "metadata": {},
          "output_type": "execute_result"
        }
      ],
      "source": [
        "df.iloc[:,-4:]"
      ]
    },
    {
      "cell_type": "code",
      "execution_count": 17,
      "metadata": {
        "id": "jKgYEWhVQWvx"
      },
      "outputs": [],
      "source": [
        "df['street']=label_encoder.fit_transform(df['street'])\n",
        "df['city']=label_encoder.fit_transform(df['city'])\n",
        "df['statezip']=label_encoder.fit_transform(df['statezip'])"
      ]
    },
    {
      "cell_type": "code",
      "execution_count": 18,
      "metadata": {
        "colab": {
          "base_uri": "https://localhost:8080/"
        },
        "id": "AwyedYxDQ3sg",
        "outputId": "581113d1-c062-4ef0-9804-6f270cde94a8"
      },
      "outputs": [
        {
          "data": {
            "text/plain": [
              "Index(['date', 'price', 'bedrooms', 'bathrooms', 'sqft_living', 'sqft_lot',\n",
              "       'floors', 'waterfront', 'view', 'condition', 'sqft_above',\n",
              "       'sqft_basement', 'yr_built', 'yr_renovated', 'street', 'city',\n",
              "       'statezip', 'country'],\n",
              "      dtype='object')"
            ]
          },
          "execution_count": 18,
          "metadata": {},
          "output_type": "execute_result"
        }
      ],
      "source": [
        "df.columns"
      ]
    },
    {
      "cell_type": "code",
      "execution_count": 19,
      "metadata": {
        "id": "iQt_I3tAQDoI"
      },
      "outputs": [],
      "source": [
        "X=df[['bedrooms', 'bathrooms', 'sqft_living', 'sqft_lot',\n",
        "       'floors', 'waterfront', 'view', 'condition', 'sqft_above',\n",
        "       'sqft_basement', 'yr_built', 'yr_renovated']]"
      ]
    },
    {
      "cell_type": "code",
      "execution_count": 20,
      "metadata": {
        "id": "eoK_KszYRBHZ"
      },
      "outputs": [],
      "source": [
        "y=df['price']"
      ]
    },
    {
      "cell_type": "code",
      "execution_count": 21,
      "metadata": {
        "id": "0kfn2AuyRGWA"
      },
      "outputs": [],
      "source": [
        "from sklearn.preprocessing import StandardScaler"
      ]
    },
    {
      "cell_type": "code",
      "execution_count": 22,
      "metadata": {
        "colab": {
          "base_uri": "https://localhost:8080/"
        },
        "id": "N5N7PBkARWB3",
        "outputId": "8be0016f-ad56-40a1-b15a-03b50eb72c22"
      },
      "outputs": [
        {
          "name": "stderr",
          "output_type": "stream",
          "text": [
            "/var/folders/fp/tqnwc7rd219_w0rxtd8b8pz00000gn/T/ipykernel_93811/3103609303.py:4: SettingWithCopyWarning: \n",
            "A value is trying to be set on a copy of a slice from a DataFrame.\n",
            "Try using .loc[row_indexer,col_indexer] = value instead\n",
            "\n",
            "See the caveats in the documentation: https://pandas.pydata.org/pandas-docs/stable/user_guide/indexing.html#returning-a-view-versus-a-copy\n",
            "  X[col]=scaler.fit_transform(X[[col]])\n",
            "/var/folders/fp/tqnwc7rd219_w0rxtd8b8pz00000gn/T/ipykernel_93811/3103609303.py:4: SettingWithCopyWarning: \n",
            "A value is trying to be set on a copy of a slice from a DataFrame.\n",
            "Try using .loc[row_indexer,col_indexer] = value instead\n",
            "\n",
            "See the caveats in the documentation: https://pandas.pydata.org/pandas-docs/stable/user_guide/indexing.html#returning-a-view-versus-a-copy\n",
            "  X[col]=scaler.fit_transform(X[[col]])\n",
            "/var/folders/fp/tqnwc7rd219_w0rxtd8b8pz00000gn/T/ipykernel_93811/3103609303.py:4: SettingWithCopyWarning: \n",
            "A value is trying to be set on a copy of a slice from a DataFrame.\n",
            "Try using .loc[row_indexer,col_indexer] = value instead\n",
            "\n",
            "See the caveats in the documentation: https://pandas.pydata.org/pandas-docs/stable/user_guide/indexing.html#returning-a-view-versus-a-copy\n",
            "  X[col]=scaler.fit_transform(X[[col]])\n",
            "/var/folders/fp/tqnwc7rd219_w0rxtd8b8pz00000gn/T/ipykernel_93811/3103609303.py:4: SettingWithCopyWarning: \n",
            "A value is trying to be set on a copy of a slice from a DataFrame.\n",
            "Try using .loc[row_indexer,col_indexer] = value instead\n",
            "\n",
            "See the caveats in the documentation: https://pandas.pydata.org/pandas-docs/stable/user_guide/indexing.html#returning-a-view-versus-a-copy\n",
            "  X[col]=scaler.fit_transform(X[[col]])\n",
            "/var/folders/fp/tqnwc7rd219_w0rxtd8b8pz00000gn/T/ipykernel_93811/3103609303.py:4: SettingWithCopyWarning: \n",
            "A value is trying to be set on a copy of a slice from a DataFrame.\n",
            "Try using .loc[row_indexer,col_indexer] = value instead\n",
            "\n",
            "See the caveats in the documentation: https://pandas.pydata.org/pandas-docs/stable/user_guide/indexing.html#returning-a-view-versus-a-copy\n",
            "  X[col]=scaler.fit_transform(X[[col]])\n",
            "/var/folders/fp/tqnwc7rd219_w0rxtd8b8pz00000gn/T/ipykernel_93811/3103609303.py:4: SettingWithCopyWarning: \n",
            "A value is trying to be set on a copy of a slice from a DataFrame.\n",
            "Try using .loc[row_indexer,col_indexer] = value instead\n",
            "\n",
            "See the caveats in the documentation: https://pandas.pydata.org/pandas-docs/stable/user_guide/indexing.html#returning-a-view-versus-a-copy\n",
            "  X[col]=scaler.fit_transform(X[[col]])\n",
            "/var/folders/fp/tqnwc7rd219_w0rxtd8b8pz00000gn/T/ipykernel_93811/3103609303.py:4: SettingWithCopyWarning: \n",
            "A value is trying to be set on a copy of a slice from a DataFrame.\n",
            "Try using .loc[row_indexer,col_indexer] = value instead\n",
            "\n",
            "See the caveats in the documentation: https://pandas.pydata.org/pandas-docs/stable/user_guide/indexing.html#returning-a-view-versus-a-copy\n",
            "  X[col]=scaler.fit_transform(X[[col]])\n",
            "/var/folders/fp/tqnwc7rd219_w0rxtd8b8pz00000gn/T/ipykernel_93811/3103609303.py:4: SettingWithCopyWarning: \n",
            "A value is trying to be set on a copy of a slice from a DataFrame.\n",
            "Try using .loc[row_indexer,col_indexer] = value instead\n",
            "\n",
            "See the caveats in the documentation: https://pandas.pydata.org/pandas-docs/stable/user_guide/indexing.html#returning-a-view-versus-a-copy\n",
            "  X[col]=scaler.fit_transform(X[[col]])\n",
            "/var/folders/fp/tqnwc7rd219_w0rxtd8b8pz00000gn/T/ipykernel_93811/3103609303.py:4: SettingWithCopyWarning: \n",
            "A value is trying to be set on a copy of a slice from a DataFrame.\n",
            "Try using .loc[row_indexer,col_indexer] = value instead\n",
            "\n",
            "See the caveats in the documentation: https://pandas.pydata.org/pandas-docs/stable/user_guide/indexing.html#returning-a-view-versus-a-copy\n",
            "  X[col]=scaler.fit_transform(X[[col]])\n",
            "/var/folders/fp/tqnwc7rd219_w0rxtd8b8pz00000gn/T/ipykernel_93811/3103609303.py:4: SettingWithCopyWarning: \n",
            "A value is trying to be set on a copy of a slice from a DataFrame.\n",
            "Try using .loc[row_indexer,col_indexer] = value instead\n",
            "\n",
            "See the caveats in the documentation: https://pandas.pydata.org/pandas-docs/stable/user_guide/indexing.html#returning-a-view-versus-a-copy\n",
            "  X[col]=scaler.fit_transform(X[[col]])\n",
            "/var/folders/fp/tqnwc7rd219_w0rxtd8b8pz00000gn/T/ipykernel_93811/3103609303.py:4: SettingWithCopyWarning: \n",
            "A value is trying to be set on a copy of a slice from a DataFrame.\n",
            "Try using .loc[row_indexer,col_indexer] = value instead\n",
            "\n",
            "See the caveats in the documentation: https://pandas.pydata.org/pandas-docs/stable/user_guide/indexing.html#returning-a-view-versus-a-copy\n",
            "  X[col]=scaler.fit_transform(X[[col]])\n",
            "/var/folders/fp/tqnwc7rd219_w0rxtd8b8pz00000gn/T/ipykernel_93811/3103609303.py:4: SettingWithCopyWarning: \n",
            "A value is trying to be set on a copy of a slice from a DataFrame.\n",
            "Try using .loc[row_indexer,col_indexer] = value instead\n",
            "\n",
            "See the caveats in the documentation: https://pandas.pydata.org/pandas-docs/stable/user_guide/indexing.html#returning-a-view-versus-a-copy\n",
            "  X[col]=scaler.fit_transform(X[[col]])\n"
          ]
        }
      ],
      "source": [
        "scaler = StandardScaler()\n",
        "\n",
        "for col in X.columns:\n",
        "  X[col]=scaler.fit_transform(X[[col]])"
      ]
    },
    {
      "cell_type": "code",
      "execution_count": 23,
      "metadata": {
        "id": "UhEfDxrbRphi"
      },
      "outputs": [],
      "source": [
        "X_train, X_temp, y_train, y_temp = train_test_split(X, y, test_size=0.3, random_state=42)\n",
        "X_val, X_test, y_val, y_test = train_test_split(X_temp, y_temp, test_size=0.5, random_state=42)"
      ]
    },
    {
      "cell_type": "code",
      "execution_count": 24,
      "metadata": {
        "id": "QnGxzHmGR-9f"
      },
      "outputs": [],
      "source": [
        "import tensorflow as tf\n",
        "from tensorflow.keras.models import Sequential\n",
        "from tensorflow.keras.layers import Dense\n",
        "from tensorflow.keras import regularizers"
      ]
    },
    {
      "cell_type": "code",
      "execution_count": 25,
      "metadata": {
        "id": "um79DmQrTFhn"
      },
      "outputs": [
        {
          "name": "stderr",
          "output_type": "stream",
          "text": [
            "2024-01-17 20:33:07.572131: I metal_plugin/src/device/metal_device.cc:1154] Metal device set to: Apple M2\n",
            "2024-01-17 20:33:07.572151: I metal_plugin/src/device/metal_device.cc:296] systemMemory: 8.00 GB\n",
            "2024-01-17 20:33:07.572160: I metal_plugin/src/device/metal_device.cc:313] maxCacheSize: 2.67 GB\n",
            "2024-01-17 20:33:07.572400: I tensorflow/core/common_runtime/pluggable_device/pluggable_device_factory.cc:306] Could not identify NUMA node of platform GPU ID 0, defaulting to 0. Your kernel may not have been built with NUMA support.\n",
            "2024-01-17 20:33:07.572732: I tensorflow/core/common_runtime/pluggable_device/pluggable_device_factory.cc:272] Created TensorFlow device (/job:localhost/replica:0/task:0/device:GPU:0 with 0 MB memory) -> physical PluggableDevice (device: 0, name: METAL, pci bus id: <undefined>)\n"
          ]
        }
      ],
      "source": [
        "model = Sequential()\n",
        "model.add(Dense(16, activation='relu', input_shape=(X_train.shape[1],)))\n",
        "model.add(Dense(8, activation='relu',kernel_regularizer=regularizers.l2(0.01)))\n",
        "model.add(Dense(4, activation='relu', kernel_regularizer=regularizers.l2(0.01)))\n",
        "model.add(Dense(2, activation='relu'))\n",
        "model.add(Dense(1))"
      ]
    },
    {
      "cell_type": "code",
      "execution_count": 26,
      "metadata": {
        "id": "t2k8WyURUbUv"
      },
      "outputs": [],
      "source": [
        "from sklearn.metrics import mean_squared_error"
      ]
    },
    {
      "cell_type": "code",
      "execution_count": 27,
      "metadata": {
        "colab": {
          "base_uri": "https://localhost:8080/"
        },
        "id": "SyK43fZaUebO",
        "outputId": "4745c692-42e7-4f85-917e-24a99349bc83"
      },
      "outputs": [
        {
          "name": "stdout",
          "output_type": "stream",
          "text": [
            "Epoch 1/50\n"
          ]
        },
        {
          "name": "stderr",
          "output_type": "stream",
          "text": [
            "2024-01-17 20:33:08.155305: I tensorflow/core/grappler/optimizers/custom_graph_optimizer_registry.cc:117] Plugin optimizer for device_type GPU is enabled.\n"
          ]
        },
        {
          "name": "stdout",
          "output_type": "stream",
          "text": [
            "101/101 [==============================] - 3s 13ms/step - loss: 442253574144.0000 - val_loss: 391403175936.0000\n",
            "Epoch 2/50\n",
            "101/101 [==============================] - 1s 12ms/step - loss: 442253246464.0000 - val_loss: 391402881024.0000\n",
            "Epoch 3/50\n",
            "101/101 [==============================] - 1s 12ms/step - loss: 442252984320.0000 - val_loss: 391402520576.0000\n",
            "Epoch 4/50\n",
            "101/101 [==============================] - 1s 12ms/step - loss: 442252034048.0000 - val_loss: 391401275392.0000\n",
            "Epoch 5/50\n",
            "101/101 [==============================] - 1s 12ms/step - loss: 442250657792.0000 - val_loss: 391400161280.0000\n",
            "Epoch 6/50\n",
            "101/101 [==============================] - 1s 13ms/step - loss: 442249445376.0000 - val_loss: 391398719488.0000\n",
            "Epoch 7/50\n",
            "101/101 [==============================] - 1s 12ms/step - loss: 442247905280.0000 - val_loss: 391397212160.0000\n",
            "Epoch 8/50\n",
            "101/101 [==============================] - 1s 12ms/step - loss: 442246037504.0000 - val_loss: 391395704832.0000\n",
            "Epoch 9/50\n",
            "101/101 [==============================] - 1s 12ms/step - loss: 442244399104.0000 - val_loss: 391394066432.0000\n",
            "Epoch 10/50\n",
            "101/101 [==============================] - 1s 12ms/step - loss: 442242400256.0000 - val_loss: 391392231424.0000\n",
            "Epoch 11/50\n",
            "101/101 [==============================] - 1s 12ms/step - loss: 442240499712.0000 - val_loss: 391390265344.0000\n",
            "Epoch 12/50\n",
            "101/101 [==============================] - 1s 12ms/step - loss: 442238238720.0000 - val_loss: 391388233728.0000\n",
            "Epoch 13/50\n",
            "101/101 [==============================] - 1s 13ms/step - loss: 442235944960.0000 - val_loss: 391386071040.0000\n",
            "Epoch 14/50\n",
            "101/101 [==============================] - 1s 12ms/step - loss: 442233520128.0000 - val_loss: 391383711744.0000\n",
            "Epoch 15/50\n",
            "101/101 [==============================] - 1s 13ms/step - loss: 442230898688.0000 - val_loss: 391381352448.0000\n",
            "Epoch 16/50\n",
            "101/101 [==============================] - 1s 12ms/step - loss: 442228146176.0000 - val_loss: 391378829312.0000\n",
            "Epoch 17/50\n",
            "101/101 [==============================] - 1s 12ms/step - loss: 442225229824.0000 - val_loss: 391376142336.0000\n",
            "Epoch 18/50\n",
            "101/101 [==============================] - 1s 12ms/step - loss: 442222444544.0000 - val_loss: 391373389824.0000\n",
            "Epoch 19/50\n",
            "101/101 [==============================] - 1s 13ms/step - loss: 442219200512.0000 - val_loss: 391370539008.0000\n",
            "Epoch 20/50\n",
            "101/101 [==============================] - 1s 13ms/step - loss: 442216054784.0000 - val_loss: 391367622656.0000\n",
            "Epoch 21/50\n",
            "101/101 [==============================] - 1s 12ms/step - loss: 442212810752.0000 - val_loss: 391364509696.0000\n",
            "Epoch 22/50\n",
            "101/101 [==============================] - 1s 13ms/step - loss: 442209402880.0000 - val_loss: 391361331200.0000\n",
            "Epoch 23/50\n",
            "101/101 [==============================] - 1s 13ms/step - loss: 442205896704.0000 - val_loss: 391358119936.0000\n",
            "Epoch 24/50\n",
            "101/101 [==============================] - 1s 12ms/step - loss: 442202095616.0000 - val_loss: 391354712064.0000\n",
            "Epoch 25/50\n",
            "101/101 [==============================] - 1s 12ms/step - loss: 442198491136.0000 - val_loss: 391351238656.0000\n",
            "Epoch 26/50\n",
            "101/101 [==============================] - 1s 12ms/step - loss: 442194755584.0000 - val_loss: 391347732480.0000\n",
            "Epoch 27/50\n",
            "101/101 [==============================] - 1s 12ms/step - loss: 442190757888.0000 - val_loss: 391344062464.0000\n",
            "Epoch 28/50\n",
            "101/101 [==============================] - 1s 12ms/step - loss: 442186760192.0000 - val_loss: 391340294144.0000\n",
            "Epoch 29/50\n",
            "101/101 [==============================] - 1s 12ms/step - loss: 442182336512.0000 - val_loss: 391336493056.0000\n",
            "Epoch 30/50\n",
            "101/101 [==============================] - 1s 12ms/step - loss: 442178371584.0000 - val_loss: 391332560896.0000\n",
            "Epoch 31/50\n",
            "101/101 [==============================] - 1s 12ms/step - loss: 442173816832.0000 - val_loss: 391328595968.0000\n",
            "Epoch 32/50\n",
            "101/101 [==============================] - 1s 12ms/step - loss: 442169425920.0000 - val_loss: 391324565504.0000\n",
            "Epoch 33/50\n",
            "101/101 [==============================] - 1s 12ms/step - loss: 442165035008.0000 - val_loss: 391320403968.0000\n",
            "Epoch 34/50\n",
            "101/101 [==============================] - 1s 12ms/step - loss: 442160414720.0000 - val_loss: 391316078592.0000\n",
            "Epoch 35/50\n",
            "101/101 [==============================] - 1s 12ms/step - loss: 442155597824.0000 - val_loss: 391311720448.0000\n",
            "Epoch 36/50\n",
            "101/101 [==============================] - 1s 12ms/step - loss: 442150748160.0000 - val_loss: 391307395072.0000\n",
            "Epoch 37/50\n",
            "101/101 [==============================] - 1s 12ms/step - loss: 442145800192.0000 - val_loss: 391302873088.0000\n",
            "Epoch 38/50\n",
            "101/101 [==============================] - 1s 12ms/step - loss: 442140917760.0000 - val_loss: 391298252800.0000\n",
            "Epoch 39/50\n",
            "101/101 [==============================] - 1s 12ms/step - loss: 442135740416.0000 - val_loss: 391293534208.0000\n",
            "Epoch 40/50\n",
            "101/101 [==============================] - 1s 12ms/step - loss: 442130661376.0000 - val_loss: 391288848384.0000\n",
            "Epoch 41/50\n",
            "101/101 [==============================] - 1s 13ms/step - loss: 442125320192.0000 - val_loss: 391283998720.0000\n",
            "Epoch 42/50\n",
            "101/101 [==============================] - 1s 12ms/step - loss: 442119913472.0000 - val_loss: 391279116288.0000\n",
            "Epoch 43/50\n",
            "101/101 [==============================] - 1s 12ms/step - loss: 442114441216.0000 - val_loss: 391274070016.0000\n",
            "Epoch 44/50\n",
            "101/101 [==============================] - 1s 12ms/step - loss: 442109067264.0000 - val_loss: 391269056512.0000\n",
            "Epoch 45/50\n",
            "101/101 [==============================] - 1s 12ms/step - loss: 442103365632.0000 - val_loss: 391263911936.0000\n",
            "Epoch 46/50\n",
            "101/101 [==============================] - 1s 12ms/step - loss: 442097729536.0000 - val_loss: 391258669056.0000\n",
            "Epoch 47/50\n",
            "101/101 [==============================] - 1s 12ms/step - loss: 442091995136.0000 - val_loss: 391253393408.0000\n",
            "Epoch 48/50\n",
            "101/101 [==============================] - 1s 12ms/step - loss: 442086064128.0000 - val_loss: 391247986688.0000\n",
            "Epoch 49/50\n",
            "101/101 [==============================] - 1s 12ms/step - loss: 442080067584.0000 - val_loss: 391242547200.0000\n",
            "Epoch 50/50\n",
            "101/101 [==============================] - 1s 12ms/step - loss: 442074169344.0000 - val_loss: 391237009408.0000\n"
          ]
        }
      ],
      "source": [
        "model.compile(optimizer='adam', loss='mean_squared_error')\n",
        "history = model.fit(X_train, y_train, epochs=50, batch_size=32, validation_data=(X_val, y_val))"
      ]
    },
    {
      "cell_type": "code",
      "execution_count": 28,
      "metadata": {
        "id": "JUagYjW-UgLH"
      },
      "outputs": [],
      "source": [
        "import matplotlib.pyplot as plt"
      ]
    },
    {
      "cell_type": "code",
      "execution_count": 29,
      "metadata": {
        "colab": {
          "base_uri": "https://localhost:8080/",
          "height": 465
        },
        "id": "0DtD11ecUutv",
        "outputId": "97531363-19b5-4142-827c-36c764e18131"
      },
      "outputs": [
        {
          "data": {
            "image/png": "[encoded data removed]",
            "text/plain": [
              "<Figure size 640x480 with 1 Axes>"
            ]
          },
          "metadata": {},
          "output_type": "display_data"
        }
      ],
      "source": [
        "plt.plot(history.history['loss'], label='Training Loss')\n",
        "plt.plot(history.history['val_loss'], label='Validation Loss')\n",
        "plt.xlabel('Epochs')\n",
        "plt.ylabel('Loss')\n",
        "plt.legend()\n",
        "plt.show()"
      ]
    },
    {
      "cell_type": "code",
      "execution_count": 30,
      "metadata": {
        "colab": {
          "base_uri": "https://localhost:8080/"
        },
        "id": "lgFlXyGbUwGm",
        "outputId": "b79bee35-e13f-4586-a2c2-fcd5366ec792"
      },
      "outputs": [
        {
          "name": "stdout",
          "output_type": "stream",
          "text": [
            "22/22 [==============================] - 0s 2ms/step\n",
            "Mean Squared Error on Test Set: 1694557511160.4268\n"
          ]
        }
      ],
      "source": [
        "y_pred = model.predict(X_test)\n",
        "mse =mean_squared_error(y_test, y_pred)\n",
        "print(f'Mean Squared Error on Test Set: {mse}')"
      ]
    },
    {
      "cell_type": "code",
      "execution_count": 55,
      "metadata": {
        "id": "qq5E1X5zUzIX"
      },
      "outputs": [
        {
          "name": "stdout",
          "output_type": "stream",
          "text": [
            "1. Song 2 - Similarity Score: 0.6\n",
            "2. Song 1 - Similarity Score: 0.2\n"
          ]
        }
      ],
      "source": [
        "import numpy as np\n",
        "\n",
        "# Sample data representing recommendations from your initial model\n",
        "recommendations = [\n",
        "    {\"song_id\": 1, \"popularity\": 80, \"artist\": \"Artist1\", \"artist_popularity\": 90, \"genre\": \"Pop\", \"decade\": 2000},\n",
        "    {\"song_id\": 2, \"popularity\": 70, \"artist\": \"Artist2\", \"artist_popularity\": 85, \"genre\": \"Rock\", \"decade\": 1990},\n",
        "    # Add more recommendations as needed\n",
        "]\n",
        "\n",
        "# New input song\n",
        "input_song = {\"song_id\": 3, \"popularity\": 90, \"artist\": \"Artist2\", \"artist_popularity\": 85, \"genre\": \"Rock\", \"decade\": 2000}\n",
        "\n",
        "# User preferences (weights for each parameter)\n",
        "weights = {\n",
        "    \"popularity\": 0.1,\n",
        "    \"artist_popularity\": 0.1,\n",
        "    \"artist\": 0.2,\n",
        "    \"genre\": 0.3,\n",
        "    \"decade\": 0.2,\n",
        "}\n",
        "\n",
        "# Add the new input song to recommendations\n",
        "recommendations.append(input_song)\n",
        "\n",
        "# Separate the input song from recommendations\n",
        "input_song_index = len(recommendations) - 1\n",
        "input_song = recommendations.pop(input_song_index)\n",
        "\n",
        "def calculate_similarity_score(song1, song2, weights):\n",
        "    # Calculate the similarity score between two songs based on the assigned weights\n",
        "    similarity_score = sum(weights[parameter] * float(song1[parameter] == song2[parameter]) for parameter in weights)\n",
        "    return similarity_score\n",
        "\n",
        "def rank_songs(recommendations, input_song, weights):\n",
        "    # Calculate similarity scores\n",
        "    for recommendation in recommendations:\n",
        "        recommendation['similarity_score'] = calculate_similarity_score(input_song, recommendation, weights)\n",
        "\n",
        "    # Rank songs based on similarity scores\n",
        "    ranked_songs = sorted(recommendations, key=lambda x: x['similarity_score'], reverse=True)\n",
        "\n",
        "    return ranked_songs\n",
        "\n",
        "# Example usage\n",
        "ranked_songs = rank_songs(recommendations, input_song, weights)\n",
        "\n",
        "# Display the top-ranked songs with scores rounded to 2 decimal places\n",
        "for i, song in enumerate(ranked_songs):\n",
        "    print(f\"{i + 1}. Song {song['song_id']} - Similarity Score: {round(song['similarity_score'], 2)}\")\n"
      ]
    },
    {
      "cell_type": "code",
      "execution_count": null,
      "metadata": {},
      "outputs": [],
      "source": []
    }
  ],
  "metadata": {
    "accelerator": "GPU",
    "colab": {
      "gpuType": "T4",
      "provenance": []
    },
    "kernelspec": {
      "display_name": "Python 3",
      "name": "python3"
    },
    "language_info": {
      "codemirror_mode": {
        "name": "ipython",
        "version": 3
      },
      "file_extension": ".py",
      "mimetype": "text/x-python",
      "name": "python",
      "nbconvert_exporter": "python",
      "pygments_lexer": "ipython3",
      "version": "3.11.6"
    }
  },
  "nbformat": 4,
  "nbformat_minor": 0
}
