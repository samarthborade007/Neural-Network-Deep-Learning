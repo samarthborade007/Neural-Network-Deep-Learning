{
  "cells": [
    {
      "cell_type": "markdown",
      "id": "80950a7b",
      "metadata": {
        "id": "80950a7b"
      },
      "source": [
        "<ins><b>Neural Network & Deep Learning : Experiment No. 1</b></ins>\n",
        "\n",
        "\n",
        "<ins><b>Lab - 1 :</b></ins> Implementation of Perceptron from scratch"
      ]
    },
    {
      "cell_type": "markdown",
      "id": "b686a7e2",
      "metadata": {
        "id": "b686a7e2"
      },
      "source": [
        "# Key components of the Lab Experiment"
      ]
    },
    {
      "cell_type": "markdown",
      "id": "09d8bf45",
      "metadata": {
        "id": "09d8bf45"
      },
      "source": [
        "1. Reading the dataset\n",
        "2. Exploratory Data Analsis\n",
        "3. Pre-processing\n",
        "4. Test-Train Split\n",
        "5. Implementation of the Perceptron\n",
        "6. Tuning the number of epochs\n",
        "7. Final Model\n",
        "8. References"
      ]
    },
    {
      "cell_type": "markdown",
      "id": "715bb81c",
      "metadata": {
        "id": "715bb81c"
      },
      "source": [
        "# Importing the required modules"
      ]
    },
    {
      "cell_type": "code",
      "execution_count": 31,
      "id": "25e39b57",
      "metadata": {
        "id": "25e39b57"
      },
      "outputs": [],
      "source": [
        "# Modules used for data handling and linear algebra operations.\n",
        "import pandas as pd\n",
        "import numpy as np\n",
        "\n",
        "# Modules used for data visualization\n",
        "import matplotlib.pyplot as plt\n",
        "import seaborn as sns\n",
        "sns.set_style()\n",
        "\n",
        "# Modules used for encoding the categorical variables.\n",
        "from sklearn.preprocessing import OneHotEncoder"
      ]
    },
    {
      "cell_type": "markdown",
      "id": "faf23945",
      "metadata": {
        "id": "faf23945"
      },
      "source": [
        "# Reading the dataset"
      ]
    },
    {
      "cell_type": "code",
      "execution_count": 32,
      "id": "9816f1e8",
      "metadata": {
        "id": "9816f1e8"
      },
      "outputs": [],
      "source": [
        "df = pd.read_csv(\"cirrhosis.csv\",header=None)"
      ]
    },
    {
      "cell_type": "code",
      "execution_count": 33,
      "id": "bdc7a4cd",
      "metadata": {
        "id": "bdc7a4cd",
        "outputId": "303abca4-6c73-4ebf-e3c1-1e01f73bd707"
      },
      "outputs": [
        {
          "data": {
            "text/html": [
              "<div>\n",
              "<style scoped>\n",
              "    .dataframe tbody tr th:only-of-type {\n",
              "        vertical-align: middle;\n",
              "    }\n",
              "\n",
              "    .dataframe tbody tr th {\n",
              "        vertical-align: top;\n",
              "    }\n",
              "\n",
              "    .dataframe thead th {\n",
              "        text-align: right;\n",
              "    }\n",
              "</style>\n",
              "<table border=\"1\" class=\"dataframe\">\n",
              "  <thead>\n",
              "    <tr style=\"text-align: right;\">\n",
              "      <th></th>\n",
              "      <th>0</th>\n",
              "      <th>1</th>\n",
              "      <th>2</th>\n",
              "      <th>3</th>\n",
              "      <th>4</th>\n",
              "      <th>5</th>\n",
              "      <th>6</th>\n",
              "      <th>7</th>\n",
              "      <th>8</th>\n",
              "      <th>9</th>\n",
              "      <th>10</th>\n",
              "      <th>11</th>\n",
              "      <th>12</th>\n",
              "      <th>13</th>\n",
              "      <th>14</th>\n",
              "      <th>15</th>\n",
              "      <th>16</th>\n",
              "      <th>17</th>\n",
              "      <th>18</th>\n",
              "      <th>19</th>\n",
              "    </tr>\n",
              "  </thead>\n",
              "  <tbody>\n",
              "    <tr>\n",
              "      <th>0</th>\n",
              "      <td>ID</td>\n",
              "      <td>N_Days</td>\n",
              "      <td>Status</td>\n",
              "      <td>Drug</td>\n",
              "      <td>Age</td>\n",
              "      <td>Sex</td>\n",
              "      <td>Ascites</td>\n",
              "      <td>Hepatomegaly</td>\n",
              "      <td>Spiders</td>\n",
              "      <td>Edema</td>\n",
              "      <td>Bilirubin</td>\n",
              "      <td>Cholesterol</td>\n",
              "      <td>Albumin</td>\n",
              "      <td>Copper</td>\n",
              "      <td>Alk_Phos</td>\n",
              "      <td>SGOT</td>\n",
              "      <td>Tryglicerides</td>\n",
              "      <td>Platelets</td>\n",
              "      <td>Prothrombin</td>\n",
              "      <td>Stage</td>\n",
              "    </tr>\n",
              "    <tr>\n",
              "      <th>1</th>\n",
              "      <td>1</td>\n",
              "      <td>400</td>\n",
              "      <td>D</td>\n",
              "      <td>D-penicillamine</td>\n",
              "      <td>21464</td>\n",
              "      <td>F</td>\n",
              "      <td>Y</td>\n",
              "      <td>Y</td>\n",
              "      <td>Y</td>\n",
              "      <td>Y</td>\n",
              "      <td>14.5</td>\n",
              "      <td>261</td>\n",
              "      <td>2.6</td>\n",
              "      <td>156</td>\n",
              "      <td>1718</td>\n",
              "      <td>137.95</td>\n",
              "      <td>172</td>\n",
              "      <td>190</td>\n",
              "      <td>12.2</td>\n",
              "      <td>4</td>\n",
              "    </tr>\n",
              "    <tr>\n",
              "      <th>2</th>\n",
              "      <td>2</td>\n",
              "      <td>4500</td>\n",
              "      <td>C</td>\n",
              "      <td>D-penicillamine</td>\n",
              "      <td>20617</td>\n",
              "      <td>F</td>\n",
              "      <td>N</td>\n",
              "      <td>Y</td>\n",
              "      <td>Y</td>\n",
              "      <td>N</td>\n",
              "      <td>1.1</td>\n",
              "      <td>302</td>\n",
              "      <td>4.14</td>\n",
              "      <td>54</td>\n",
              "      <td>7394.8</td>\n",
              "      <td>113.52</td>\n",
              "      <td>88</td>\n",
              "      <td>221</td>\n",
              "      <td>10.6</td>\n",
              "      <td>3</td>\n",
              "    </tr>\n",
              "    <tr>\n",
              "      <th>3</th>\n",
              "      <td>3</td>\n",
              "      <td>1012</td>\n",
              "      <td>D</td>\n",
              "      <td>D-penicillamine</td>\n",
              "      <td>25594</td>\n",
              "      <td>M</td>\n",
              "      <td>N</td>\n",
              "      <td>N</td>\n",
              "      <td>N</td>\n",
              "      <td>S</td>\n",
              "      <td>1.4</td>\n",
              "      <td>176</td>\n",
              "      <td>3.48</td>\n",
              "      <td>210</td>\n",
              "      <td>516</td>\n",
              "      <td>96.1</td>\n",
              "      <td>55</td>\n",
              "      <td>151</td>\n",
              "      <td>12</td>\n",
              "      <td>4</td>\n",
              "    </tr>\n",
              "    <tr>\n",
              "      <th>4</th>\n",
              "      <td>4</td>\n",
              "      <td>1925</td>\n",
              "      <td>D</td>\n",
              "      <td>D-penicillamine</td>\n",
              "      <td>19994</td>\n",
              "      <td>F</td>\n",
              "      <td>N</td>\n",
              "      <td>Y</td>\n",
              "      <td>Y</td>\n",
              "      <td>S</td>\n",
              "      <td>1.8</td>\n",
              "      <td>244</td>\n",
              "      <td>2.54</td>\n",
              "      <td>64</td>\n",
              "      <td>6121.8</td>\n",
              "      <td>60.63</td>\n",
              "      <td>92</td>\n",
              "      <td>183</td>\n",
              "      <td>10.3</td>\n",
              "      <td>4</td>\n",
              "    </tr>\n",
              "  </tbody>\n",
              "</table>\n",
              "</div>"
            ],
            "text/plain": [
              "   0       1       2                3      4    5        6             7   \\\n",
              "0  ID  N_Days  Status             Drug    Age  Sex  Ascites  Hepatomegaly   \n",
              "1   1     400       D  D-penicillamine  21464    F        Y             Y   \n",
              "2   2    4500       C  D-penicillamine  20617    F        N             Y   \n",
              "3   3    1012       D  D-penicillamine  25594    M        N             N   \n",
              "4   4    1925       D  D-penicillamine  19994    F        N             Y   \n",
              "\n",
              "        8      9          10           11       12      13        14      15  \\\n",
              "0  Spiders  Edema  Bilirubin  Cholesterol  Albumin  Copper  Alk_Phos    SGOT   \n",
              "1        Y      Y       14.5          261      2.6     156      1718  137.95   \n",
              "2        Y      N        1.1          302     4.14      54    7394.8  113.52   \n",
              "3        N      S        1.4          176     3.48     210       516    96.1   \n",
              "4        Y      S        1.8          244     2.54      64    6121.8   60.63   \n",
              "\n",
              "              16         17           18     19  \n",
              "0  Tryglicerides  Platelets  Prothrombin  Stage  \n",
              "1            172        190         12.2      4  \n",
              "2             88        221         10.6      3  \n",
              "3             55        151           12      4  \n",
              "4             92        183         10.3      4  "
            ]
          },
          "execution_count": 33,
          "metadata": {},
          "output_type": "execute_result"
        }
      ],
      "source": [
        "df.head()"
      ]
    },
    {
      "cell_type": "code",
      "execution_count": 34,
      "id": "2e1db764",
      "metadata": {},
      "outputs": [
        {
          "data": {
            "text/html": [
              "<div>\n",
              "<style scoped>\n",
              "    .dataframe tbody tr th:only-of-type {\n",
              "        vertical-align: middle;\n",
              "    }\n",
              "\n",
              "    .dataframe tbody tr th {\n",
              "        vertical-align: top;\n",
              "    }\n",
              "\n",
              "    .dataframe thead th {\n",
              "        text-align: right;\n",
              "    }\n",
              "</style>\n",
              "<table border=\"1\" class=\"dataframe\">\n",
              "  <thead>\n",
              "    <tr style=\"text-align: right;\">\n",
              "      <th></th>\n",
              "      <th>ID</th>\n",
              "      <th>N_Days</th>\n",
              "      <th>Status</th>\n",
              "      <th>Drug</th>\n",
              "      <th>Age</th>\n",
              "      <th>Sex</th>\n",
              "      <th>Ascites</th>\n",
              "      <th>Hepatomegaly</th>\n",
              "      <th>Spiders</th>\n",
              "      <th>Edema</th>\n",
              "      <th>Bilirubin</th>\n",
              "      <th>Cholesterol</th>\n",
              "      <th>Albumin</th>\n",
              "      <th>Copper</th>\n",
              "      <th>Alk_Phos</th>\n",
              "      <th>SGOT</th>\n",
              "      <th>Tryglicerides</th>\n",
              "      <th>Platelets</th>\n",
              "      <th>Prothrombin</th>\n",
              "      <th>Stage</th>\n",
              "    </tr>\n",
              "  </thead>\n",
              "  <tbody>\n",
              "    <tr>\n",
              "      <th>1</th>\n",
              "      <td>1</td>\n",
              "      <td>400</td>\n",
              "      <td>D</td>\n",
              "      <td>D-penicillamine</td>\n",
              "      <td>21464</td>\n",
              "      <td>F</td>\n",
              "      <td>Y</td>\n",
              "      <td>Y</td>\n",
              "      <td>Y</td>\n",
              "      <td>Y</td>\n",
              "      <td>14.5</td>\n",
              "      <td>261</td>\n",
              "      <td>2.6</td>\n",
              "      <td>156</td>\n",
              "      <td>1718</td>\n",
              "      <td>137.95</td>\n",
              "      <td>172</td>\n",
              "      <td>190</td>\n",
              "      <td>12.2</td>\n",
              "      <td>4</td>\n",
              "    </tr>\n",
              "    <tr>\n",
              "      <th>2</th>\n",
              "      <td>2</td>\n",
              "      <td>4500</td>\n",
              "      <td>C</td>\n",
              "      <td>D-penicillamine</td>\n",
              "      <td>20617</td>\n",
              "      <td>F</td>\n",
              "      <td>N</td>\n",
              "      <td>Y</td>\n",
              "      <td>Y</td>\n",
              "      <td>N</td>\n",
              "      <td>1.1</td>\n",
              "      <td>302</td>\n",
              "      <td>4.14</td>\n",
              "      <td>54</td>\n",
              "      <td>7394.8</td>\n",
              "      <td>113.52</td>\n",
              "      <td>88</td>\n",
              "      <td>221</td>\n",
              "      <td>10.6</td>\n",
              "      <td>3</td>\n",
              "    </tr>\n",
              "    <tr>\n",
              "      <th>3</th>\n",
              "      <td>3</td>\n",
              "      <td>1012</td>\n",
              "      <td>D</td>\n",
              "      <td>D-penicillamine</td>\n",
              "      <td>25594</td>\n",
              "      <td>M</td>\n",
              "      <td>N</td>\n",
              "      <td>N</td>\n",
              "      <td>N</td>\n",
              "      <td>S</td>\n",
              "      <td>1.4</td>\n",
              "      <td>176</td>\n",
              "      <td>3.48</td>\n",
              "      <td>210</td>\n",
              "      <td>516</td>\n",
              "      <td>96.1</td>\n",
              "      <td>55</td>\n",
              "      <td>151</td>\n",
              "      <td>12</td>\n",
              "      <td>4</td>\n",
              "    </tr>\n",
              "    <tr>\n",
              "      <th>4</th>\n",
              "      <td>4</td>\n",
              "      <td>1925</td>\n",
              "      <td>D</td>\n",
              "      <td>D-penicillamine</td>\n",
              "      <td>19994</td>\n",
              "      <td>F</td>\n",
              "      <td>N</td>\n",
              "      <td>Y</td>\n",
              "      <td>Y</td>\n",
              "      <td>S</td>\n",
              "      <td>1.8</td>\n",
              "      <td>244</td>\n",
              "      <td>2.54</td>\n",
              "      <td>64</td>\n",
              "      <td>6121.8</td>\n",
              "      <td>60.63</td>\n",
              "      <td>92</td>\n",
              "      <td>183</td>\n",
              "      <td>10.3</td>\n",
              "      <td>4</td>\n",
              "    </tr>\n",
              "    <tr>\n",
              "      <th>5</th>\n",
              "      <td>5</td>\n",
              "      <td>1504</td>\n",
              "      <td>CL</td>\n",
              "      <td>Placebo</td>\n",
              "      <td>13918</td>\n",
              "      <td>F</td>\n",
              "      <td>N</td>\n",
              "      <td>Y</td>\n",
              "      <td>Y</td>\n",
              "      <td>N</td>\n",
              "      <td>3.4</td>\n",
              "      <td>279</td>\n",
              "      <td>3.53</td>\n",
              "      <td>143</td>\n",
              "      <td>671</td>\n",
              "      <td>113.15</td>\n",
              "      <td>72</td>\n",
              "      <td>136</td>\n",
              "      <td>10.9</td>\n",
              "      <td>3</td>\n",
              "    </tr>\n",
              "  </tbody>\n",
              "</table>\n",
              "</div>"
            ],
            "text/plain": [
              "0 ID N_Days Status             Drug    Age Sex Ascites Hepatomegaly Spiders  \\\n",
              "1  1    400      D  D-penicillamine  21464   F       Y            Y       Y   \n",
              "2  2   4500      C  D-penicillamine  20617   F       N            Y       Y   \n",
              "3  3   1012      D  D-penicillamine  25594   M       N            N       N   \n",
              "4  4   1925      D  D-penicillamine  19994   F       N            Y       Y   \n",
              "5  5   1504     CL          Placebo  13918   F       N            Y       Y   \n",
              "\n",
              "0 Edema Bilirubin Cholesterol Albumin Copper Alk_Phos    SGOT Tryglicerides  \\\n",
              "1     Y      14.5         261     2.6    156     1718  137.95           172   \n",
              "2     N       1.1         302    4.14     54   7394.8  113.52            88   \n",
              "3     S       1.4         176    3.48    210      516    96.1            55   \n",
              "4     S       1.8         244    2.54     64   6121.8   60.63            92   \n",
              "5     N       3.4         279    3.53    143      671  113.15            72   \n",
              "\n",
              "0 Platelets Prothrombin Stage  \n",
              "1       190        12.2     4  \n",
              "2       221        10.6     3  \n",
              "3       151          12     4  \n",
              "4       183        10.3     4  \n",
              "5       136        10.9     3  "
            ]
          },
          "execution_count": 34,
          "metadata": {},
          "output_type": "execute_result"
        }
      ],
      "source": [
        "df.columns = df.iloc[0]\n",
        "df = df[1:]\n",
        "df.head()"
      ]
    },
    {
      "cell_type": "code",
      "execution_count": 35,
      "id": "c20b070f",
      "metadata": {
        "id": "c20b070f",
        "outputId": "21257de1-d6ca-4b07-bb93-0ccdf612e064"
      },
      "outputs": [
        {
          "name": "stdout",
          "output_type": "stream",
          "text": [
            "<class 'pandas.core.frame.DataFrame'>\n",
            "RangeIndex: 418 entries, 1 to 418\n",
            "Data columns (total 20 columns):\n",
            " #   Column         Non-Null Count  Dtype \n",
            "---  ------         --------------  ----- \n",
            " 0   ID             418 non-null    object\n",
            " 1   N_Days         418 non-null    object\n",
            " 2   Status         418 non-null    object\n",
            " 3   Drug           312 non-null    object\n",
            " 4   Age            418 non-null    object\n",
            " 5   Sex            418 non-null    object\n",
            " 6   Ascites        312 non-null    object\n",
            " 7   Hepatomegaly   312 non-null    object\n",
            " 8   Spiders        312 non-null    object\n",
            " 9   Edema          418 non-null    object\n",
            " 10  Bilirubin      418 non-null    object\n",
            " 11  Cholesterol    284 non-null    object\n",
            " 12  Albumin        418 non-null    object\n",
            " 13  Copper         310 non-null    object\n",
            " 14  Alk_Phos       312 non-null    object\n",
            " 15  SGOT           312 non-null    object\n",
            " 16  Tryglicerides  282 non-null    object\n",
            " 17  Platelets      407 non-null    object\n",
            " 18  Prothrombin    416 non-null    object\n",
            " 19  Stage          412 non-null    object\n",
            "dtypes: object(20)\n",
            "memory usage: 65.4+ KB\n"
          ]
        }
      ],
      "source": [
        "df.info()"
      ]
    },
    {
      "cell_type": "code",
      "execution_count": 36,
      "id": "73188d61",
      "metadata": {
        "id": "73188d61",
        "outputId": "980eb3af-1fd7-4f81-b115-4d128b6a0dd6"
      },
      "outputs": [
        {
          "data": {
            "image/png": "[encoded data removed]",
            "text/plain": [
              "<Figure size 640x480 with 1 Axes>"
            ]
          },
          "metadata": {},
          "output_type": "display_data"
        }
      ],
      "source": [
        "df.dtypes.value_counts().plot(kind=\"bar\",\n",
        "                              title=\"Types of Data\",\n",
        "                              xlabel=\"Data Type\",\n",
        "                              ylabel=\"No.of columns\",\n",
        "                              rot=0,\n",
        "                              color=[\"crimson\",\"orange\"])\n",
        "plt.show()"
      ]
    },
    {
      "cell_type": "markdown",
      "id": "c0249710",
      "metadata": {
        "id": "c0249710"
      },
      "source": [
        "The dataset has mainly categorical variables and few numericals variables."
      ]
    },
    {
      "cell_type": "markdown",
      "id": "018f2b7c",
      "metadata": {
        "id": "018f2b7c"
      },
      "source": [
        "# Exploratory Data Analysis"
      ]
    },
    {
      "cell_type": "markdown",
      "id": "03fbf4f2",
      "metadata": {
        "id": "03fbf4f2"
      },
      "source": [
        "In Exploratory Data Analysis the following parts are included:\n",
        "1. Seggragation of columns (into categorical and numerical)\n",
        "2. Analysis of Missing Values\n",
        "3. Target Variable Class Distribution"
      ]
    },
    {
      "cell_type": "markdown",
      "id": "dcf1b549",
      "metadata": {
        "id": "dcf1b549"
      },
      "source": [
        "## Seggregating columns"
      ]
    },
    {
      "cell_type": "markdown",
      "id": "7e0855bc",
      "metadata": {
        "id": "7e0855bc"
      },
      "source": [
        "The columns with data type as Object are considered as categorical while others are considered as numerical."
      ]
    },
    {
      "cell_type": "code",
      "execution_count": 37,
      "id": "df762c1d",
      "metadata": {
        "id": "df762c1d"
      },
      "outputs": [],
      "source": [
        "cat_cols = []\n",
        "num_cols = []\n",
        "\n",
        "for i in df.columns:\n",
        "    if df[i].dtype == \"O\":\n",
        "        cat_cols.append(i)\n",
        "    else:\n",
        "        num_cols.append(i)"
      ]
    },
    {
      "cell_type": "markdown",
      "id": "5ada92d8",
      "metadata": {
        "id": "5ada92d8"
      },
      "source": [
        "## Missing Values Analysis"
      ]
    },
    {
      "cell_type": "markdown",
      "id": "6f400de1",
      "metadata": {
        "id": "6f400de1"
      },
      "source": [
        "Since, the UCI data repository mentions missing values as \"?\" instead of null values the analysis has to be carried out accordingly."
      ]
    },
    {
      "cell_type": "code",
      "execution_count": 38,
      "id": "a821c616",
      "metadata": {
        "id": "a821c616"
      },
      "outputs": [],
      "source": [
        "null_freq = []\n",
        "for i in df.columns:\n",
        "    f = dict(df[i].value_counts())\n",
        "    if \"?\" in f.keys():\n",
        "        null_freq.append(f[\"?\"]*100/len(df))\n",
        "    else:\n",
        "        null_freq.append(0)"
      ]
    },
    {
      "cell_type": "code",
      "execution_count": 39,
      "id": "37551e17",
      "metadata": {},
      "outputs": [
        {
          "data": {
            "text/plain": [
              "[0, 0, 0, 0, 0, 0, 0, 0, 0, 0, 0, 0, 0, 0, 0, 0, 0, 0, 0, 0]"
            ]
          },
          "execution_count": 39,
          "metadata": {},
          "output_type": "execute_result"
        }
      ],
      "source": [
        "null_freq"
      ]
    },
    {
      "cell_type": "markdown",
      "id": "651506dc",
      "metadata": {
        "id": "651506dc"
      },
      "source": [
        "## Target Variable Analysis"
      ]
    },
    {
      "cell_type": "code",
      "execution_count": 40,
      "id": "1db7acfa",
      "metadata": {
        "id": "1db7acfa",
        "outputId": "a6ce09dc-d0eb-46a0-8228-8f2e5305f80c"
      },
      "outputs": [
        {
          "data": {
            "image/png": "[encoded data removed]",
            "text/plain": [
              "<Figure size 640x480 with 1 Axes>"
            ]
          },
          "metadata": {},
          "output_type": "display_data"
        }
      ],
      "source": [
        "df['Stage'].value_counts().plot(kind=\"bar\",\n",
        "                           title=\"Class Distribution\",\n",
        "                           xlabel=\"Stages\",\n",
        "                           ylabel=\"Frequency of the Status\",\n",
        "                           color=[\"crimson\",\"orange\"],\n",
        "                           rot=0)\n",
        "plt.show()"
      ]
    },
    {
      "cell_type": "markdown",
      "id": "a2c81eb6",
      "metadata": {
        "id": "a2c81eb6"
      },
      "source": [
        "# Pre-processing"
      ]
    },
    {
      "cell_type": "markdown",
      "id": "951e0a95",
      "metadata": {
        "id": "951e0a95"
      },
      "source": [
        "## Handling Missing Values"
      ]
    },
    {
      "cell_type": "code",
      "execution_count": 41,
      "id": "7f11db51",
      "metadata": {
        "id": "7f11db51"
      },
      "outputs": [],
      "source": [
        "df = df.replace({\"?\":None})"
      ]
    },
    {
      "cell_type": "code",
      "execution_count": 42,
      "id": "717ba7e0",
      "metadata": {
        "id": "717ba7e0"
      },
      "outputs": [],
      "source": [
        "df = df.dropna()"
      ]
    },
    {
      "cell_type": "markdown",
      "id": "39e545df",
      "metadata": {
        "id": "39e545df"
      },
      "source": [
        "## Encoding the columns"
      ]
    },
    {
      "cell_type": "code",
      "execution_count": 43,
      "id": "bf6a5872",
      "metadata": {
        "id": "bf6a5872"
      },
      "outputs": [
        {
          "name": "stderr",
          "output_type": "stream",
          "text": [
            "/Library/Frameworks/Python.framework/Versions/3.11/lib/python3.11/site-packages/sklearn/preprocessing/_encoders.py:975: FutureWarning: `sparse` was renamed to `sparse_output` in version 1.2 and will be removed in 1.4. `sparse_output` is ignored unless you leave `sparse` to its default value.\n",
            "  warnings.warn(\n",
            "/Library/Frameworks/Python.framework/Versions/3.11/lib/python3.11/site-packages/sklearn/preprocessing/_encoders.py:975: FutureWarning: `sparse` was renamed to `sparse_output` in version 1.2 and will be removed in 1.4. `sparse_output` is ignored unless you leave `sparse` to its default value.\n",
            "  warnings.warn(\n",
            "/Library/Frameworks/Python.framework/Versions/3.11/lib/python3.11/site-packages/sklearn/preprocessing/_encoders.py:975: FutureWarning: `sparse` was renamed to `sparse_output` in version 1.2 and will be removed in 1.4. `sparse_output` is ignored unless you leave `sparse` to its default value.\n",
            "  warnings.warn(\n",
            "/Library/Frameworks/Python.framework/Versions/3.11/lib/python3.11/site-packages/sklearn/preprocessing/_encoders.py:975: FutureWarning: `sparse` was renamed to `sparse_output` in version 1.2 and will be removed in 1.4. `sparse_output` is ignored unless you leave `sparse` to its default value.\n",
            "  warnings.warn(\n",
            "/Library/Frameworks/Python.framework/Versions/3.11/lib/python3.11/site-packages/sklearn/preprocessing/_encoders.py:975: FutureWarning: `sparse` was renamed to `sparse_output` in version 1.2 and will be removed in 1.4. `sparse_output` is ignored unless you leave `sparse` to its default value.\n",
            "  warnings.warn(\n",
            "/Library/Frameworks/Python.framework/Versions/3.11/lib/python3.11/site-packages/sklearn/preprocessing/_encoders.py:975: FutureWarning: `sparse` was renamed to `sparse_output` in version 1.2 and will be removed in 1.4. `sparse_output` is ignored unless you leave `sparse` to its default value.\n",
            "  warnings.warn(\n",
            "/Library/Frameworks/Python.framework/Versions/3.11/lib/python3.11/site-packages/sklearn/preprocessing/_encoders.py:975: FutureWarning: `sparse` was renamed to `sparse_output` in version 1.2 and will be removed in 1.4. `sparse_output` is ignored unless you leave `sparse` to its default value.\n",
            "  warnings.warn(\n",
            "/Library/Frameworks/Python.framework/Versions/3.11/lib/python3.11/site-packages/sklearn/preprocessing/_encoders.py:975: FutureWarning: `sparse` was renamed to `sparse_output` in version 1.2 and will be removed in 1.4. `sparse_output` is ignored unless you leave `sparse` to its default value.\n",
            "  warnings.warn(\n",
            "/Library/Frameworks/Python.framework/Versions/3.11/lib/python3.11/site-packages/sklearn/preprocessing/_encoders.py:975: FutureWarning: `sparse` was renamed to `sparse_output` in version 1.2 and will be removed in 1.4. `sparse_output` is ignored unless you leave `sparse` to its default value.\n",
            "  warnings.warn(\n",
            "/Library/Frameworks/Python.framework/Versions/3.11/lib/python3.11/site-packages/sklearn/preprocessing/_encoders.py:975: FutureWarning: `sparse` was renamed to `sparse_output` in version 1.2 and will be removed in 1.4. `sparse_output` is ignored unless you leave `sparse` to its default value.\n",
            "  warnings.warn(\n",
            "/Library/Frameworks/Python.framework/Versions/3.11/lib/python3.11/site-packages/sklearn/preprocessing/_encoders.py:975: FutureWarning: `sparse` was renamed to `sparse_output` in version 1.2 and will be removed in 1.4. `sparse_output` is ignored unless you leave `sparse` to its default value.\n",
            "  warnings.warn(\n",
            "/Library/Frameworks/Python.framework/Versions/3.11/lib/python3.11/site-packages/sklearn/preprocessing/_encoders.py:975: FutureWarning: `sparse` was renamed to `sparse_output` in version 1.2 and will be removed in 1.4. `sparse_output` is ignored unless you leave `sparse` to its default value.\n",
            "  warnings.warn(\n",
            "/Library/Frameworks/Python.framework/Versions/3.11/lib/python3.11/site-packages/sklearn/preprocessing/_encoders.py:975: FutureWarning: `sparse` was renamed to `sparse_output` in version 1.2 and will be removed in 1.4. `sparse_output` is ignored unless you leave `sparse` to its default value.\n",
            "  warnings.warn(\n",
            "/Library/Frameworks/Python.framework/Versions/3.11/lib/python3.11/site-packages/sklearn/preprocessing/_encoders.py:975: FutureWarning: `sparse` was renamed to `sparse_output` in version 1.2 and will be removed in 1.4. `sparse_output` is ignored unless you leave `sparse` to its default value.\n",
            "  warnings.warn(\n",
            "/Library/Frameworks/Python.framework/Versions/3.11/lib/python3.11/site-packages/sklearn/preprocessing/_encoders.py:975: FutureWarning: `sparse` was renamed to `sparse_output` in version 1.2 and will be removed in 1.4. `sparse_output` is ignored unless you leave `sparse` to its default value.\n",
            "  warnings.warn(\n",
            "/Library/Frameworks/Python.framework/Versions/3.11/lib/python3.11/site-packages/sklearn/preprocessing/_encoders.py:975: FutureWarning: `sparse` was renamed to `sparse_output` in version 1.2 and will be removed in 1.4. `sparse_output` is ignored unless you leave `sparse` to its default value.\n",
            "  warnings.warn(\n",
            "/Library/Frameworks/Python.framework/Versions/3.11/lib/python3.11/site-packages/sklearn/preprocessing/_encoders.py:975: FutureWarning: `sparse` was renamed to `sparse_output` in version 1.2 and will be removed in 1.4. `sparse_output` is ignored unless you leave `sparse` to its default value.\n",
            "  warnings.warn(\n",
            "/Library/Frameworks/Python.framework/Versions/3.11/lib/python3.11/site-packages/sklearn/preprocessing/_encoders.py:975: FutureWarning: `sparse` was renamed to `sparse_output` in version 1.2 and will be removed in 1.4. `sparse_output` is ignored unless you leave `sparse` to its default value.\n",
            "  warnings.warn(\n",
            "/Library/Frameworks/Python.framework/Versions/3.11/lib/python3.11/site-packages/sklearn/preprocessing/_encoders.py:975: FutureWarning: `sparse` was renamed to `sparse_output` in version 1.2 and will be removed in 1.4. `sparse_output` is ignored unless you leave `sparse` to its default value.\n",
            "  warnings.warn(\n",
            "/Library/Frameworks/Python.framework/Versions/3.11/lib/python3.11/site-packages/sklearn/preprocessing/_encoders.py:975: FutureWarning: `sparse` was renamed to `sparse_output` in version 1.2 and will be removed in 1.4. `sparse_output` is ignored unless you leave `sparse` to its default value.\n",
            "  warnings.warn(\n"
          ]
        }
      ],
      "source": [
        "encoder = OneHotEncoder(sparse=False)\n",
        "for i in cat_cols:\n",
        "    df[i] = encoder.fit_transform(df[i].values.reshape(-1,1))"
      ]
    },
    {
      "cell_type": "code",
      "execution_count": 44,
      "id": "e5135011",
      "metadata": {
        "id": "e5135011"
      },
      "outputs": [],
      "source": [
        "df = df.reset_index()"
      ]
    },
    {
      "cell_type": "markdown",
      "id": "0894320f",
      "metadata": {
        "id": "0894320f"
      },
      "source": [
        "# Test Train Split"
      ]
    },
    {
      "cell_type": "code",
      "execution_count": 45,
      "id": "cea8cf9c",
      "metadata": {
        "id": "cea8cf9c",
        "outputId": "f3c3cc7c-2497-4d76-e80d-e8e1120254bc"
      },
      "outputs": [
        {
          "data": {
            "text/plain": [
              "184    0.0\n",
              "15     0.0\n",
              "55     1.0\n",
              "74     0.0\n",
              "188    0.0\n",
              "209    0.0\n",
              "92     0.0\n",
              "223    0.0\n",
              "125    0.0\n",
              "190    0.0\n",
              "116    0.0\n",
              "218    0.0\n",
              "244    0.0\n",
              "101    0.0\n",
              "189    0.0\n",
              "22     0.0\n",
              "59     0.0\n",
              "156    0.0\n",
              "270    0.0\n",
              "8      0.0\n",
              "63     0.0\n",
              "152    0.0\n",
              "194    0.0\n",
              "200    0.0\n",
              "12     0.0\n",
              "173    0.0\n",
              "89     1.0\n",
              "122    0.0\n",
              "Name: Stage, dtype: float64"
            ]
          },
          "execution_count": 45,
          "metadata": {},
          "output_type": "execute_result"
        }
      ],
      "source": [
        "from sklearn.model_selection import train_test_split\n",
        "X_train,X_test,y_train,y_test = train_test_split(df,\n",
        "    df['Stage'],\n",
        "    test_size = 0.10,\n",
        "    train_size=0.90,\n",
        "    random_state = 0\n",
        ")\n",
        "X_train.pop('Stage')\n",
        "X_test.pop('Stage')"
      ]
    },
    {
      "cell_type": "code",
      "execution_count": 46,
      "id": "be541c1f",
      "metadata": {
        "id": "be541c1f",
        "outputId": "380a4d67-ce0f-4277-9367-aa4aa7476b03"
      },
      "outputs": [
        {
          "data": {
            "text/html": [
              "<div>\n",
              "<style scoped>\n",
              "    .dataframe tbody tr th:only-of-type {\n",
              "        vertical-align: middle;\n",
              "    }\n",
              "\n",
              "    .dataframe tbody tr th {\n",
              "        vertical-align: top;\n",
              "    }\n",
              "\n",
              "    .dataframe thead th {\n",
              "        text-align: right;\n",
              "    }\n",
              "</style>\n",
              "<table border=\"1\" class=\"dataframe\">\n",
              "  <thead>\n",
              "    <tr style=\"text-align: right;\">\n",
              "      <th></th>\n",
              "      <th>index</th>\n",
              "      <th>ID</th>\n",
              "      <th>N_Days</th>\n",
              "      <th>Status</th>\n",
              "      <th>Drug</th>\n",
              "      <th>Age</th>\n",
              "      <th>Sex</th>\n",
              "      <th>Ascites</th>\n",
              "      <th>Hepatomegaly</th>\n",
              "      <th>Spiders</th>\n",
              "      <th>Edema</th>\n",
              "      <th>Bilirubin</th>\n",
              "      <th>Cholesterol</th>\n",
              "      <th>Albumin</th>\n",
              "      <th>Copper</th>\n",
              "      <th>Alk_Phos</th>\n",
              "      <th>SGOT</th>\n",
              "      <th>Tryglicerides</th>\n",
              "      <th>Platelets</th>\n",
              "      <th>Prothrombin</th>\n",
              "    </tr>\n",
              "  </thead>\n",
              "  <tbody>\n",
              "    <tr>\n",
              "      <th>7</th>\n",
              "      <td>9</td>\n",
              "      <td>1.0</td>\n",
              "      <td>0.0</td>\n",
              "      <td>0.0</td>\n",
              "      <td>0.0</td>\n",
              "      <td>0.0</td>\n",
              "      <td>0.0</td>\n",
              "      <td>1.0</td>\n",
              "      <td>0.0</td>\n",
              "      <td>1.0</td>\n",
              "      <td>1.0</td>\n",
              "      <td>1.0</td>\n",
              "      <td>0.0</td>\n",
              "      <td>1.0</td>\n",
              "      <td>0.0</td>\n",
              "      <td>0.0</td>\n",
              "      <td>0.0</td>\n",
              "      <td>0.0</td>\n",
              "      <td>0.0</td>\n",
              "      <td>0.0</td>\n",
              "    </tr>\n",
              "    <tr>\n",
              "      <th>215</th>\n",
              "      <td>249</td>\n",
              "      <td>0.0</td>\n",
              "      <td>0.0</td>\n",
              "      <td>1.0</td>\n",
              "      <td>0.0</td>\n",
              "      <td>0.0</td>\n",
              "      <td>1.0</td>\n",
              "      <td>1.0</td>\n",
              "      <td>0.0</td>\n",
              "      <td>1.0</td>\n",
              "      <td>1.0</td>\n",
              "      <td>1.0</td>\n",
              "      <td>0.0</td>\n",
              "      <td>1.0</td>\n",
              "      <td>0.0</td>\n",
              "      <td>0.0</td>\n",
              "      <td>0.0</td>\n",
              "      <td>0.0</td>\n",
              "      <td>0.0</td>\n",
              "      <td>0.0</td>\n",
              "    </tr>\n",
              "    <tr>\n",
              "      <th>220</th>\n",
              "      <td>254</td>\n",
              "      <td>0.0</td>\n",
              "      <td>1.0</td>\n",
              "      <td>0.0</td>\n",
              "      <td>0.0</td>\n",
              "      <td>0.0</td>\n",
              "      <td>0.0</td>\n",
              "      <td>1.0</td>\n",
              "      <td>0.0</td>\n",
              "      <td>1.0</td>\n",
              "      <td>1.0</td>\n",
              "      <td>0.0</td>\n",
              "      <td>0.0</td>\n",
              "      <td>1.0</td>\n",
              "      <td>0.0</td>\n",
              "      <td>0.0</td>\n",
              "      <td>0.0</td>\n",
              "      <td>0.0</td>\n",
              "      <td>0.0</td>\n",
              "      <td>0.0</td>\n",
              "    </tr>\n",
              "    <tr>\n",
              "      <th>108</th>\n",
              "      <td>122</td>\n",
              "      <td>0.0</td>\n",
              "      <td>1.0</td>\n",
              "      <td>0.0</td>\n",
              "      <td>0.0</td>\n",
              "      <td>0.0</td>\n",
              "      <td>1.0</td>\n",
              "      <td>1.0</td>\n",
              "      <td>0.0</td>\n",
              "      <td>1.0</td>\n",
              "      <td>1.0</td>\n",
              "      <td>1.0</td>\n",
              "      <td>1.0</td>\n",
              "      <td>1.0</td>\n",
              "      <td>0.0</td>\n",
              "      <td>0.0</td>\n",
              "      <td>0.0</td>\n",
              "      <td>0.0</td>\n",
              "      <td>0.0</td>\n",
              "      <td>0.0</td>\n",
              "    </tr>\n",
              "    <tr>\n",
              "      <th>81</th>\n",
              "      <td>92</td>\n",
              "      <td>0.0</td>\n",
              "      <td>0.0</td>\n",
              "      <td>1.0</td>\n",
              "      <td>0.0</td>\n",
              "      <td>0.0</td>\n",
              "      <td>0.0</td>\n",
              "      <td>1.0</td>\n",
              "      <td>0.0</td>\n",
              "      <td>1.0</td>\n",
              "      <td>0.0</td>\n",
              "      <td>1.0</td>\n",
              "      <td>1.0</td>\n",
              "      <td>0.0</td>\n",
              "      <td>0.0</td>\n",
              "      <td>0.0</td>\n",
              "      <td>0.0</td>\n",
              "      <td>0.0</td>\n",
              "      <td>0.0</td>\n",
              "      <td>0.0</td>\n",
              "    </tr>\n",
              "    <tr>\n",
              "      <th>...</th>\n",
              "      <td>...</td>\n",
              "      <td>...</td>\n",
              "      <td>...</td>\n",
              "      <td>...</td>\n",
              "      <td>...</td>\n",
              "      <td>...</td>\n",
              "      <td>...</td>\n",
              "      <td>...</td>\n",
              "      <td>...</td>\n",
              "      <td>...</td>\n",
              "      <td>...</td>\n",
              "      <td>...</td>\n",
              "      <td>...</td>\n",
              "      <td>...</td>\n",
              "      <td>...</td>\n",
              "      <td>...</td>\n",
              "      <td>...</td>\n",
              "      <td>...</td>\n",
              "      <td>...</td>\n",
              "      <td>...</td>\n",
              "    </tr>\n",
              "    <tr>\n",
              "      <th>251</th>\n",
              "      <td>287</td>\n",
              "      <td>0.0</td>\n",
              "      <td>0.0</td>\n",
              "      <td>1.0</td>\n",
              "      <td>0.0</td>\n",
              "      <td>0.0</td>\n",
              "      <td>1.0</td>\n",
              "      <td>1.0</td>\n",
              "      <td>0.0</td>\n",
              "      <td>1.0</td>\n",
              "      <td>1.0</td>\n",
              "      <td>1.0</td>\n",
              "      <td>0.0</td>\n",
              "      <td>1.0</td>\n",
              "      <td>0.0</td>\n",
              "      <td>0.0</td>\n",
              "      <td>0.0</td>\n",
              "      <td>0.0</td>\n",
              "      <td>0.0</td>\n",
              "      <td>0.0</td>\n",
              "    </tr>\n",
              "    <tr>\n",
              "      <th>192</th>\n",
              "      <td>225</td>\n",
              "      <td>1.0</td>\n",
              "      <td>0.0</td>\n",
              "      <td>0.0</td>\n",
              "      <td>0.0</td>\n",
              "      <td>0.0</td>\n",
              "      <td>1.0</td>\n",
              "      <td>1.0</td>\n",
              "      <td>0.0</td>\n",
              "      <td>1.0</td>\n",
              "      <td>1.0</td>\n",
              "      <td>1.0</td>\n",
              "      <td>1.0</td>\n",
              "      <td>1.0</td>\n",
              "      <td>0.0</td>\n",
              "      <td>0.0</td>\n",
              "      <td>0.0</td>\n",
              "      <td>0.0</td>\n",
              "      <td>0.0</td>\n",
              "      <td>0.0</td>\n",
              "    </tr>\n",
              "    <tr>\n",
              "      <th>117</th>\n",
              "      <td>135</td>\n",
              "      <td>1.0</td>\n",
              "      <td>0.0</td>\n",
              "      <td>0.0</td>\n",
              "      <td>0.0</td>\n",
              "      <td>0.0</td>\n",
              "      <td>1.0</td>\n",
              "      <td>1.0</td>\n",
              "      <td>0.0</td>\n",
              "      <td>1.0</td>\n",
              "      <td>1.0</td>\n",
              "      <td>1.0</td>\n",
              "      <td>1.0</td>\n",
              "      <td>1.0</td>\n",
              "      <td>0.0</td>\n",
              "      <td>0.0</td>\n",
              "      <td>0.0</td>\n",
              "      <td>0.0</td>\n",
              "      <td>0.0</td>\n",
              "      <td>0.0</td>\n",
              "    </tr>\n",
              "    <tr>\n",
              "      <th>47</th>\n",
              "      <td>56</td>\n",
              "      <td>1.0</td>\n",
              "      <td>0.0</td>\n",
              "      <td>0.0</td>\n",
              "      <td>0.0</td>\n",
              "      <td>0.0</td>\n",
              "      <td>0.0</td>\n",
              "      <td>0.0</td>\n",
              "      <td>0.0</td>\n",
              "      <td>1.0</td>\n",
              "      <td>1.0</td>\n",
              "      <td>0.0</td>\n",
              "      <td>0.0</td>\n",
              "      <td>1.0</td>\n",
              "      <td>0.0</td>\n",
              "      <td>0.0</td>\n",
              "      <td>0.0</td>\n",
              "      <td>0.0</td>\n",
              "      <td>0.0</td>\n",
              "      <td>0.0</td>\n",
              "    </tr>\n",
              "    <tr>\n",
              "      <th>172</th>\n",
              "      <td>200</td>\n",
              "      <td>0.0</td>\n",
              "      <td>1.0</td>\n",
              "      <td>0.0</td>\n",
              "      <td>0.0</td>\n",
              "      <td>0.0</td>\n",
              "      <td>1.0</td>\n",
              "      <td>0.0</td>\n",
              "      <td>0.0</td>\n",
              "      <td>1.0</td>\n",
              "      <td>1.0</td>\n",
              "      <td>1.0</td>\n",
              "      <td>0.0</td>\n",
              "      <td>1.0</td>\n",
              "      <td>0.0</td>\n",
              "      <td>0.0</td>\n",
              "      <td>0.0</td>\n",
              "      <td>0.0</td>\n",
              "      <td>0.0</td>\n",
              "      <td>0.0</td>\n",
              "    </tr>\n",
              "  </tbody>\n",
              "</table>\n",
              "<p>248 rows × 20 columns</p>\n",
              "</div>"
            ],
            "text/plain": [
              "0    index   ID  N_Days  Status  Drug  Age  Sex  Ascites  Hepatomegaly  \\\n",
              "7        9  1.0     0.0     0.0   0.0  0.0  0.0      1.0           0.0   \n",
              "215    249  0.0     0.0     1.0   0.0  0.0  1.0      1.0           0.0   \n",
              "220    254  0.0     1.0     0.0   0.0  0.0  0.0      1.0           0.0   \n",
              "108    122  0.0     1.0     0.0   0.0  0.0  1.0      1.0           0.0   \n",
              "81      92  0.0     0.0     1.0   0.0  0.0  0.0      1.0           0.0   \n",
              "..     ...  ...     ...     ...   ...  ...  ...      ...           ...   \n",
              "251    287  0.0     0.0     1.0   0.0  0.0  1.0      1.0           0.0   \n",
              "192    225  1.0     0.0     0.0   0.0  0.0  1.0      1.0           0.0   \n",
              "117    135  1.0     0.0     0.0   0.0  0.0  1.0      1.0           0.0   \n",
              "47      56  1.0     0.0     0.0   0.0  0.0  0.0      0.0           0.0   \n",
              "172    200  0.0     1.0     0.0   0.0  0.0  1.0      0.0           0.0   \n",
              "\n",
              "0    Spiders  Edema  Bilirubin  Cholesterol  Albumin  Copper  Alk_Phos  SGOT  \\\n",
              "7        1.0    1.0        1.0          0.0      1.0     0.0       0.0   0.0   \n",
              "215      1.0    1.0        1.0          0.0      1.0     0.0       0.0   0.0   \n",
              "220      1.0    1.0        0.0          0.0      1.0     0.0       0.0   0.0   \n",
              "108      1.0    1.0        1.0          1.0      1.0     0.0       0.0   0.0   \n",
              "81       1.0    0.0        1.0          1.0      0.0     0.0       0.0   0.0   \n",
              "..       ...    ...        ...          ...      ...     ...       ...   ...   \n",
              "251      1.0    1.0        1.0          0.0      1.0     0.0       0.0   0.0   \n",
              "192      1.0    1.0        1.0          1.0      1.0     0.0       0.0   0.0   \n",
              "117      1.0    1.0        1.0          1.0      1.0     0.0       0.0   0.0   \n",
              "47       1.0    1.0        0.0          0.0      1.0     0.0       0.0   0.0   \n",
              "172      1.0    1.0        1.0          0.0      1.0     0.0       0.0   0.0   \n",
              "\n",
              "0    Tryglicerides  Platelets  Prothrombin  \n",
              "7              0.0        0.0          0.0  \n",
              "215            0.0        0.0          0.0  \n",
              "220            0.0        0.0          0.0  \n",
              "108            0.0        0.0          0.0  \n",
              "81             0.0        0.0          0.0  \n",
              "..             ...        ...          ...  \n",
              "251            0.0        0.0          0.0  \n",
              "192            0.0        0.0          0.0  \n",
              "117            0.0        0.0          0.0  \n",
              "47             0.0        0.0          0.0  \n",
              "172            0.0        0.0          0.0  \n",
              "\n",
              "[248 rows x 20 columns]"
            ]
          },
          "execution_count": 46,
          "metadata": {},
          "output_type": "execute_result"
        }
      ],
      "source": [
        "X_train"
      ]
    },
    {
      "cell_type": "markdown",
      "id": "61d59a88",
      "metadata": {
        "id": "61d59a88"
      },
      "source": [
        "# Perceptron"
      ]
    },
    {
      "cell_type": "code",
      "execution_count": 47,
      "id": "8fe6fd41",
      "metadata": {
        "id": "8fe6fd41"
      },
      "outputs": [],
      "source": [
        "class Perceptron:\n",
        "\n",
        "    # Initialising the required parameters for the perceptron.\n",
        "    def __init__(self, X, y, learning_rate, epochs : int):\n",
        "        self.X = X\n",
        "        self.y = y\n",
        "        self.learning_rate = learning_rate\n",
        "        self.epochs = epochs\n",
        "\n",
        "    # Activation function.\n",
        "    def __activation_function(self,x):\n",
        "        return 1.0 if (x > 0) else 0.0\n",
        "\n",
        "    # The model training or fitting by updating weights.\n",
        "    def fit(self):\n",
        "        n_rows,n_cols = self.X.shape\n",
        "        self.weights = np.zeros((n_cols + 1, 1))\n",
        "        for epoch in range(self.epochs):\n",
        "            for index, features in enumerate(self.X.values):\n",
        "                feature_transposed = np.insert(features, 0, 1).reshape(-1,1)\n",
        "                predicted_target = self.__activation_function(np.dot(feature_transposed.T, self.weights))\n",
        "                flag = np.squeeze(predicted_target) - self.y[index]\n",
        "                if flag != 0:\n",
        "                    self.weights += self.learning_rate*((self.y[index] - predicted_target)*feature_transposed)\n",
        "\n",
        "    # Predicting on a single instance.\n",
        "    def predict(self, X_test):\n",
        "        return self.__activation_function(np.dot(p.weights.reshape(1,-1)[0],X_test))\n",
        "\n",
        "    # Predicting on a larger number of instances and returning accuracy.\n",
        "    def test(self, test_data, y):\n",
        "        x = []\n",
        "        for i in range(len(test_data.values)):\n",
        "            X_test = np.array(test_data.iloc[i])\n",
        "            x.append(p.predict(np.insert(X_test,0,1)) == p.y[i])\n",
        "        return sum(x)*100/len(test_data)"
      ]
    },
    {
      "cell_type": "markdown",
      "id": "a9ed5286",
      "metadata": {
        "id": "a9ed5286"
      },
      "source": [
        "# Initialising the Perceptron Parameters"
      ]
    },
    {
      "cell_type": "code",
      "execution_count": 48,
      "id": "964998c7",
      "metadata": {
        "id": "964998c7"
      },
      "outputs": [],
      "source": [
        "y = np.array(pd.DataFrame(y_train).reset_index().drop([\"index\"],axis=1))\n",
        "X = pd.DataFrame(X_train).reset_index().drop([\"index\"],axis=1)\n",
        "p = Perceptron(X, y, 0.5, 50)"
      ]
    },
    {
      "cell_type": "markdown",
      "id": "da97f561",
      "metadata": {
        "id": "da97f561"
      },
      "source": [
        "# Fitting the model"
      ]
    },
    {
      "cell_type": "code",
      "execution_count": 49,
      "id": "0ad88a66",
      "metadata": {
        "id": "0ad88a66"
      },
      "outputs": [],
      "source": [
        "p.fit()"
      ]
    },
    {
      "cell_type": "markdown",
      "id": "5535102b",
      "metadata": {
        "id": "5535102b"
      },
      "source": [
        "# Test Accuracy"
      ]
    },
    {
      "cell_type": "code",
      "execution_count": 50,
      "id": "f52db71b",
      "metadata": {
        "id": "f52db71b",
        "outputId": "61853cdb-3143-49f7-f5a1-50d3b01efab3"
      },
      "outputs": [
        {
          "data": {
            "text/plain": [
              "array([96.42857143])"
            ]
          },
          "execution_count": 50,
          "metadata": {},
          "output_type": "execute_result"
        }
      ],
      "source": [
        "p.test(pd.DataFrame(X_test).reset_index().drop([\"index\"],axis=1),\n",
        "     np.array(pd.DataFrame(y_test).reset_index().drop([\"index\"],axis=1)))"
      ]
    },
    {
      "cell_type": "markdown",
      "id": "3423cb8b",
      "metadata": {
        "id": "3423cb8b"
      },
      "source": [
        "# Train Accuracy"
      ]
    },
    {
      "cell_type": "code",
      "execution_count": 51,
      "id": "932d0ccb",
      "metadata": {
        "id": "932d0ccb",
        "outputId": "0aef0f5d-822f-4bd1-8c35-4a145f0cc209"
      },
      "outputs": [
        {
          "data": {
            "text/plain": [
              "array([95.96774194])"
            ]
          },
          "execution_count": 51,
          "metadata": {},
          "output_type": "execute_result"
        }
      ],
      "source": [
        "p.test(X,y)"
      ]
    },
    {
      "cell_type": "markdown",
      "id": "65ea2d8c",
      "metadata": {
        "id": "65ea2d8c"
      },
      "source": [
        "# Tuning the number of epochs"
      ]
    },
    {
      "cell_type": "code",
      "execution_count": 52,
      "id": "ff3adda4",
      "metadata": {
        "id": "ff3adda4"
      },
      "outputs": [],
      "source": [
        "train_acc = []\n",
        "test_acc = []\n",
        "epochs = []\n",
        "\n",
        "for i in range(20,200,20):\n",
        "    y = np.array(pd.DataFrame(y_train).reset_index().drop([\"index\"],axis=1))\n",
        "    X = pd.DataFrame(X_train).reset_index().drop([\"index\"],axis=1)\n",
        "    p = Perceptron(X, y, 0.5, i)\n",
        "    p.fit()\n",
        "    train_acc.append(p.test(X,y))\n",
        "    test_acc.append(p.test(pd.DataFrame(X_test).reset_index().drop([\"index\"],axis=1),\n",
        "     np.array(pd.DataFrame(y_test).reset_index().drop([\"index\"],axis=1))))\n",
        "    epochs.append(i)"
      ]
    },
    {
      "cell_type": "markdown",
      "id": "b092910e",
      "metadata": {
        "id": "b092910e"
      },
      "source": [
        "# Train-Test Accuracies across different epochs"
      ]
    },
    {
      "cell_type": "code",
      "execution_count": 53,
      "id": "f29e4d13",
      "metadata": {
        "id": "f29e4d13",
        "outputId": "5b892df2-3746-422d-e168-19196569d8cf"
      },
      "outputs": [
        {
          "data": {
            "image/png": "[encoded data removed]",
            "text/plain": [
              "<Figure size 1000x1000 with 1 Axes>"
            ]
          },
          "metadata": {},
          "output_type": "display_data"
        }
      ],
      "source": [
        "plt.figure(figsize=(10,10))\n",
        "plt.plot(epochs,train_acc)\n",
        "plt.plot(epochs,test_acc)\n",
        "plt.xlabel(\"Number of Epochs\")\n",
        "plt.ylabel(\"Accuracy of the model\")\n",
        "plt.legend(['Train Accuracy',\"Test Accuracy\"])\n",
        "plt.show()"
      ]
    },
    {
      "cell_type": "markdown",
      "id": "93264bad",
      "metadata": {
        "id": "93264bad"
      },
      "source": [
        "# Final Model"
      ]
    },
    {
      "cell_type": "code",
      "execution_count": 54,
      "id": "0203ce5a",
      "metadata": {
        "id": "0203ce5a"
      },
      "outputs": [],
      "source": [
        "tuning = pd.DataFrame({\"epochs\":np.array(epochs).squeeze(),\"train accuracy\":np.array(train_acc).squeeze(), \"test accuracy\":np.array(test_acc).squeeze()})"
      ]
    },
    {
      "cell_type": "code",
      "execution_count": 55,
      "id": "8b0528ac",
      "metadata": {
        "id": "8b0528ac"
      },
      "outputs": [],
      "source": [
        "def diff(row):\n",
        "    return row[1] - row[2]"
      ]
    },
    {
      "cell_type": "code",
      "execution_count": 56,
      "id": "efd8bd99",
      "metadata": {
        "id": "efd8bd99"
      },
      "outputs": [
        {
          "name": "stderr",
          "output_type": "stream",
          "text": [
            "/var/folders/fp/tqnwc7rd219_w0rxtd8b8pz00000gn/T/ipykernel_85335/844949158.py:2: FutureWarning: Series.__getitem__ treating keys as positions is deprecated. In a future version, integer keys will always be treated as labels (consistent with DataFrame behavior). To access a value by position, use `ser.iloc[pos]`\n",
            "  return row[1] - row[2]\n"
          ]
        }
      ],
      "source": [
        "tuning[\"Difference\"] = tuning.apply(diff,axis=1)"
      ]
    },
    {
      "cell_type": "code",
      "execution_count": 57,
      "id": "99eb71d5",
      "metadata": {
        "id": "99eb71d5",
        "outputId": "905734e9-1796-4b8d-8092-6711a5cbbe42"
      },
      "outputs": [
        {
          "data": {
            "text/html": [
              "<div>\n",
              "<style scoped>\n",
              "    .dataframe tbody tr th:only-of-type {\n",
              "        vertical-align: middle;\n",
              "    }\n",
              "\n",
              "    .dataframe tbody tr th {\n",
              "        vertical-align: top;\n",
              "    }\n",
              "\n",
              "    .dataframe thead th {\n",
              "        text-align: right;\n",
              "    }\n",
              "</style>\n",
              "<table border=\"1\" class=\"dataframe\">\n",
              "  <thead>\n",
              "    <tr style=\"text-align: right;\">\n",
              "      <th></th>\n",
              "      <th>epochs</th>\n",
              "      <th>train accuracy</th>\n",
              "      <th>test accuracy</th>\n",
              "      <th>Difference</th>\n",
              "    </tr>\n",
              "  </thead>\n",
              "  <tbody>\n",
              "    <tr>\n",
              "      <th>6</th>\n",
              "      <td>140</td>\n",
              "      <td>95.564516</td>\n",
              "      <td>96.428571</td>\n",
              "      <td>-0.864055</td>\n",
              "    </tr>\n",
              "    <tr>\n",
              "      <th>7</th>\n",
              "      <td>160</td>\n",
              "      <td>95.564516</td>\n",
              "      <td>96.428571</td>\n",
              "      <td>-0.864055</td>\n",
              "    </tr>\n",
              "    <tr>\n",
              "      <th>8</th>\n",
              "      <td>180</td>\n",
              "      <td>95.564516</td>\n",
              "      <td>96.428571</td>\n",
              "      <td>-0.864055</td>\n",
              "    </tr>\n",
              "    <tr>\n",
              "      <th>0</th>\n",
              "      <td>20</td>\n",
              "      <td>95.967742</td>\n",
              "      <td>96.428571</td>\n",
              "      <td>-0.460829</td>\n",
              "    </tr>\n",
              "    <tr>\n",
              "      <th>1</th>\n",
              "      <td>40</td>\n",
              "      <td>95.967742</td>\n",
              "      <td>96.428571</td>\n",
              "      <td>-0.460829</td>\n",
              "    </tr>\n",
              "    <tr>\n",
              "      <th>2</th>\n",
              "      <td>60</td>\n",
              "      <td>95.967742</td>\n",
              "      <td>96.428571</td>\n",
              "      <td>-0.460829</td>\n",
              "    </tr>\n",
              "    <tr>\n",
              "      <th>3</th>\n",
              "      <td>80</td>\n",
              "      <td>95.967742</td>\n",
              "      <td>96.428571</td>\n",
              "      <td>-0.460829</td>\n",
              "    </tr>\n",
              "    <tr>\n",
              "      <th>4</th>\n",
              "      <td>100</td>\n",
              "      <td>95.967742</td>\n",
              "      <td>96.428571</td>\n",
              "      <td>-0.460829</td>\n",
              "    </tr>\n",
              "    <tr>\n",
              "      <th>5</th>\n",
              "      <td>120</td>\n",
              "      <td>95.967742</td>\n",
              "      <td>96.428571</td>\n",
              "      <td>-0.460829</td>\n",
              "    </tr>\n",
              "  </tbody>\n",
              "</table>\n",
              "</div>"
            ],
            "text/plain": [
              "   epochs  train accuracy  test accuracy  Difference\n",
              "6     140       95.564516      96.428571   -0.864055\n",
              "7     160       95.564516      96.428571   -0.864055\n",
              "8     180       95.564516      96.428571   -0.864055\n",
              "0      20       95.967742      96.428571   -0.460829\n",
              "1      40       95.967742      96.428571   -0.460829\n",
              "2      60       95.967742      96.428571   -0.460829\n",
              "3      80       95.967742      96.428571   -0.460829\n",
              "4     100       95.967742      96.428571   -0.460829\n",
              "5     120       95.967742      96.428571   -0.460829"
            ]
          },
          "execution_count": 57,
          "metadata": {},
          "output_type": "execute_result"
        }
      ],
      "source": [
        "tuning.sort_values(by=\"Difference\")"
      ]
    }
  ],
  "metadata": {
    "colab": {
      "provenance": []
    },
    "kernelspec": {
      "display_name": "Python 3 (ipykernel)",
      "language": "python",
      "name": "python3"
    },
    "language_info": {
      "codemirror_mode": {
        "name": "ipython",
        "version": 3
      },
      "file_extension": ".py",
      "mimetype": "text/x-python",
      "name": "python",
      "nbconvert_exporter": "python",
      "pygments_lexer": "ipython3",
      "version": "3.11.6"
    }
  },
  "nbformat": 4,
  "nbformat_minor": 5
}
