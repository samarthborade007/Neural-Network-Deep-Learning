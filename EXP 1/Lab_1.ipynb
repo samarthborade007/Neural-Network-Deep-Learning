{
  "cells": [
    {
      "cell_type": "markdown",
      "id": "80950a7b",
      "metadata": {
        "id": "80950a7b"
      },
      "source": [
        "<ins><b>Neural Network & Deep Learning : Experiment No. 1</b></ins>\n",
        "\n",
        "\n",
        "<ins><b>Lab - 1 :</b></ins> Implementation of Perceptron from scratch"
      ]
    },
    {
      "cell_type": "markdown",
      "id": "b686a7e2",
      "metadata": {
        "id": "b686a7e2"
      },
      "source": [
        "# Key components of the Lab Experiment"
      ]
    },
    {
      "cell_type": "markdown",
      "id": "09d8bf45",
      "metadata": {
        "id": "09d8bf45"
      },
      "source": [
        "1. Reading the dataset\n",
        "2. Exploratory Data Analsis\n",
        "3. Pre-processing\n",
        "4. Test-Train Split\n",
        "5. Implementation of the Perceptron\n",
        "6. Tuning the number of epochs\n",
        "7. Final Model\n",
        "8. References"
      ]
    },
    {
      "cell_type": "markdown",
      "id": "715bb81c",
      "metadata": {
        "id": "715bb81c"
      },
      "source": [
        "# Importing the required modules"
      ]
    },
    {
      "cell_type": "code",
      "execution_count": 353,
      "id": "25e39b57",
      "metadata": {
        "id": "25e39b57"
      },
      "outputs": [],
      "source": [
        "# Modules used for data handling and linear algebra operations.\n",
        "import pandas as pd\n",
        "import numpy as np\n",
        "\n",
        "# Modules used for data visualization\n",
        "import matplotlib.pyplot as plt\n",
        "import seaborn as sns\n",
        "sns.set_style()\n",
        "\n",
        "# Modules used for encoding the categorical variables.\n",
        "from sklearn.preprocessing import OneHotEncoder"
      ]
    },
    {
      "cell_type": "markdown",
      "id": "faf23945",
      "metadata": {
        "id": "faf23945"
      },
      "source": [
        "# Reading the dataset"
      ]
    },
    {
      "cell_type": "code",
      "execution_count": 354,
      "id": "9816f1e8",
      "metadata": {
        "id": "9816f1e8"
      },
      "outputs": [],
      "source": [
        "df = pd.read_csv(\"crx.csv\",header=None)"
      ]
    },
    {
      "cell_type": "code",
      "execution_count": 355,
      "id": "bdc7a4cd",
      "metadata": {
        "id": "bdc7a4cd",
        "outputId": "303abca4-6c73-4ebf-e3c1-1e01f73bd707"
      },
      "outputs": [
        {
          "data": {
            "text/html": [
              "<div>\n",
              "<style scoped>\n",
              "    .dataframe tbody tr th:only-of-type {\n",
              "        vertical-align: middle;\n",
              "    }\n",
              "\n",
              "    .dataframe tbody tr th {\n",
              "        vertical-align: top;\n",
              "    }\n",
              "\n",
              "    .dataframe thead th {\n",
              "        text-align: right;\n",
              "    }\n",
              "</style>\n",
              "<table border=\"1\" class=\"dataframe\">\n",
              "  <thead>\n",
              "    <tr style=\"text-align: right;\">\n",
              "      <th></th>\n",
              "      <th>0</th>\n",
              "      <th>1</th>\n",
              "      <th>2</th>\n",
              "      <th>3</th>\n",
              "      <th>4</th>\n",
              "      <th>5</th>\n",
              "      <th>6</th>\n",
              "      <th>7</th>\n",
              "      <th>8</th>\n",
              "      <th>9</th>\n",
              "      <th>10</th>\n",
              "      <th>11</th>\n",
              "      <th>12</th>\n",
              "      <th>13</th>\n",
              "      <th>14</th>\n",
              "      <th>15</th>\n",
              "    </tr>\n",
              "  </thead>\n",
              "  <tbody>\n",
              "    <tr>\n",
              "      <th>0</th>\n",
              "      <td>a1</td>\n",
              "      <td>a2</td>\n",
              "      <td>s3</td>\n",
              "      <td>a4</td>\n",
              "      <td>a5</td>\n",
              "      <td>a6</td>\n",
              "      <td>a7</td>\n",
              "      <td>a8</td>\n",
              "      <td>a9</td>\n",
              "      <td>a10</td>\n",
              "      <td>a11</td>\n",
              "      <td>a12</td>\n",
              "      <td>a13</td>\n",
              "      <td>a14</td>\n",
              "      <td>a15</td>\n",
              "      <td>a16</td>\n",
              "    </tr>\n",
              "    <tr>\n",
              "      <th>1</th>\n",
              "      <td>b</td>\n",
              "      <td>30.83</td>\n",
              "      <td>0</td>\n",
              "      <td>u</td>\n",
              "      <td>g</td>\n",
              "      <td>w</td>\n",
              "      <td>v</td>\n",
              "      <td>1.25</td>\n",
              "      <td>t</td>\n",
              "      <td>t</td>\n",
              "      <td>01</td>\n",
              "      <td>f</td>\n",
              "      <td>g</td>\n",
              "      <td>00202</td>\n",
              "      <td>0</td>\n",
              "      <td>+</td>\n",
              "    </tr>\n",
              "    <tr>\n",
              "      <th>2</th>\n",
              "      <td>a</td>\n",
              "      <td>58.67</td>\n",
              "      <td>4.46</td>\n",
              "      <td>u</td>\n",
              "      <td>g</td>\n",
              "      <td>q</td>\n",
              "      <td>h</td>\n",
              "      <td>3.04</td>\n",
              "      <td>t</td>\n",
              "      <td>t</td>\n",
              "      <td>06</td>\n",
              "      <td>f</td>\n",
              "      <td>g</td>\n",
              "      <td>00043</td>\n",
              "      <td>560</td>\n",
              "      <td>+</td>\n",
              "    </tr>\n",
              "    <tr>\n",
              "      <th>3</th>\n",
              "      <td>a</td>\n",
              "      <td>24.50</td>\n",
              "      <td>0.5</td>\n",
              "      <td>u</td>\n",
              "      <td>g</td>\n",
              "      <td>q</td>\n",
              "      <td>h</td>\n",
              "      <td>1.5</td>\n",
              "      <td>t</td>\n",
              "      <td>f</td>\n",
              "      <td>0</td>\n",
              "      <td>f</td>\n",
              "      <td>g</td>\n",
              "      <td>00280</td>\n",
              "      <td>824</td>\n",
              "      <td>+</td>\n",
              "    </tr>\n",
              "    <tr>\n",
              "      <th>4</th>\n",
              "      <td>b</td>\n",
              "      <td>27.83</td>\n",
              "      <td>1.54</td>\n",
              "      <td>u</td>\n",
              "      <td>g</td>\n",
              "      <td>w</td>\n",
              "      <td>v</td>\n",
              "      <td>3.75</td>\n",
              "      <td>t</td>\n",
              "      <td>t</td>\n",
              "      <td>05</td>\n",
              "      <td>t</td>\n",
              "      <td>g</td>\n",
              "      <td>00100</td>\n",
              "      <td>3</td>\n",
              "      <td>+</td>\n",
              "    </tr>\n",
              "  </tbody>\n",
              "</table>\n",
              "</div>"
            ],
            "text/plain": [
              "   0      1     2   3   4   5   6     7   8    9    10   11   12     13   14  \\\n",
              "0  a1     a2    s3  a4  a5  a6  a7    a8  a9  a10  a11  a12  a13    a14  a15   \n",
              "1   b  30.83     0   u   g   w   v  1.25   t    t   01    f    g  00202    0   \n",
              "2   a  58.67  4.46   u   g   q   h  3.04   t    t   06    f    g  00043  560   \n",
              "3   a  24.50   0.5   u   g   q   h   1.5   t    f    0    f    g  00280  824   \n",
              "4   b  27.83  1.54   u   g   w   v  3.75   t    t   05    t    g  00100    3   \n",
              "\n",
              "    15  \n",
              "0  a16  \n",
              "1    +  \n",
              "2    +  \n",
              "3    +  \n",
              "4    +  "
            ]
          },
          "execution_count": 355,
          "metadata": {},
          "output_type": "execute_result"
        }
      ],
      "source": [
        "df.head()"
      ]
    },
    {
      "cell_type": "code",
      "execution_count": 356,
      "id": "67c86e8a",
      "metadata": {},
      "outputs": [
        {
          "data": {
            "text/html": [
              "<div>\n",
              "<style scoped>\n",
              "    .dataframe tbody tr th:only-of-type {\n",
              "        vertical-align: middle;\n",
              "    }\n",
              "\n",
              "    .dataframe tbody tr th {\n",
              "        vertical-align: top;\n",
              "    }\n",
              "\n",
              "    .dataframe thead th {\n",
              "        text-align: right;\n",
              "    }\n",
              "</style>\n",
              "<table border=\"1\" class=\"dataframe\">\n",
              "  <thead>\n",
              "    <tr style=\"text-align: right;\">\n",
              "      <th></th>\n",
              "      <th>a1</th>\n",
              "      <th>a2</th>\n",
              "      <th>s3</th>\n",
              "      <th>a4</th>\n",
              "      <th>a5</th>\n",
              "      <th>a6</th>\n",
              "      <th>a7</th>\n",
              "      <th>a8</th>\n",
              "      <th>a9</th>\n",
              "      <th>a10</th>\n",
              "      <th>a11</th>\n",
              "      <th>a12</th>\n",
              "      <th>a13</th>\n",
              "      <th>a14</th>\n",
              "      <th>a15</th>\n",
              "      <th>a16</th>\n",
              "    </tr>\n",
              "  </thead>\n",
              "  <tbody>\n",
              "    <tr>\n",
              "      <th>1</th>\n",
              "      <td>b</td>\n",
              "      <td>30.83</td>\n",
              "      <td>0</td>\n",
              "      <td>u</td>\n",
              "      <td>g</td>\n",
              "      <td>w</td>\n",
              "      <td>v</td>\n",
              "      <td>1.25</td>\n",
              "      <td>t</td>\n",
              "      <td>t</td>\n",
              "      <td>01</td>\n",
              "      <td>f</td>\n",
              "      <td>g</td>\n",
              "      <td>00202</td>\n",
              "      <td>0</td>\n",
              "      <td>+</td>\n",
              "    </tr>\n",
              "    <tr>\n",
              "      <th>2</th>\n",
              "      <td>a</td>\n",
              "      <td>58.67</td>\n",
              "      <td>4.46</td>\n",
              "      <td>u</td>\n",
              "      <td>g</td>\n",
              "      <td>q</td>\n",
              "      <td>h</td>\n",
              "      <td>3.04</td>\n",
              "      <td>t</td>\n",
              "      <td>t</td>\n",
              "      <td>06</td>\n",
              "      <td>f</td>\n",
              "      <td>g</td>\n",
              "      <td>00043</td>\n",
              "      <td>560</td>\n",
              "      <td>+</td>\n",
              "    </tr>\n",
              "    <tr>\n",
              "      <th>3</th>\n",
              "      <td>a</td>\n",
              "      <td>24.50</td>\n",
              "      <td>0.5</td>\n",
              "      <td>u</td>\n",
              "      <td>g</td>\n",
              "      <td>q</td>\n",
              "      <td>h</td>\n",
              "      <td>1.5</td>\n",
              "      <td>t</td>\n",
              "      <td>f</td>\n",
              "      <td>0</td>\n",
              "      <td>f</td>\n",
              "      <td>g</td>\n",
              "      <td>00280</td>\n",
              "      <td>824</td>\n",
              "      <td>+</td>\n",
              "    </tr>\n",
              "    <tr>\n",
              "      <th>4</th>\n",
              "      <td>b</td>\n",
              "      <td>27.83</td>\n",
              "      <td>1.54</td>\n",
              "      <td>u</td>\n",
              "      <td>g</td>\n",
              "      <td>w</td>\n",
              "      <td>v</td>\n",
              "      <td>3.75</td>\n",
              "      <td>t</td>\n",
              "      <td>t</td>\n",
              "      <td>05</td>\n",
              "      <td>t</td>\n",
              "      <td>g</td>\n",
              "      <td>00100</td>\n",
              "      <td>3</td>\n",
              "      <td>+</td>\n",
              "    </tr>\n",
              "    <tr>\n",
              "      <th>5</th>\n",
              "      <td>b</td>\n",
              "      <td>20.17</td>\n",
              "      <td>5.625</td>\n",
              "      <td>u</td>\n",
              "      <td>g</td>\n",
              "      <td>w</td>\n",
              "      <td>v</td>\n",
              "      <td>1.71</td>\n",
              "      <td>t</td>\n",
              "      <td>f</td>\n",
              "      <td>0</td>\n",
              "      <td>f</td>\n",
              "      <td>s</td>\n",
              "      <td>00120</td>\n",
              "      <td>0</td>\n",
              "      <td>+</td>\n",
              "    </tr>\n",
              "  </tbody>\n",
              "</table>\n",
              "</div>"
            ],
            "text/plain": [
              "0 a1     a2     s3 a4 a5 a6 a7    a8 a9 a10 a11 a12 a13    a14  a15 a16\n",
              "1  b  30.83      0  u  g  w  v  1.25  t   t  01   f   g  00202    0   +\n",
              "2  a  58.67   4.46  u  g  q  h  3.04  t   t  06   f   g  00043  560   +\n",
              "3  a  24.50    0.5  u  g  q  h   1.5  t   f   0   f   g  00280  824   +\n",
              "4  b  27.83   1.54  u  g  w  v  3.75  t   t  05   t   g  00100    3   +\n",
              "5  b  20.17  5.625  u  g  w  v  1.71  t   f   0   f   s  00120    0   +"
            ]
          },
          "execution_count": 356,
          "metadata": {},
          "output_type": "execute_result"
        }
      ],
      "source": [
        "df.columns = df.iloc[0]\n",
        "df = df[1:]\n",
        "df.head()"
      ]
    },
    {
      "cell_type": "code",
      "execution_count": 357,
      "id": "c20b070f",
      "metadata": {
        "id": "c20b070f",
        "outputId": "21257de1-d6ca-4b07-bb93-0ccdf612e064"
      },
      "outputs": [
        {
          "name": "stdout",
          "output_type": "stream",
          "text": [
            "<class 'pandas.core.frame.DataFrame'>\n",
            "RangeIndex: 690 entries, 1 to 690\n",
            "Data columns (total 16 columns):\n",
            " #   Column  Non-Null Count  Dtype \n",
            "---  ------  --------------  ----- \n",
            " 0   a1      690 non-null    object\n",
            " 1   a2      690 non-null    object\n",
            " 2   s3      690 non-null    object\n",
            " 3   a4      690 non-null    object\n",
            " 4   a5      690 non-null    object\n",
            " 5   a6      690 non-null    object\n",
            " 6   a7      690 non-null    object\n",
            " 7   a8      690 non-null    object\n",
            " 8   a9      690 non-null    object\n",
            " 9   a10     690 non-null    object\n",
            " 10  a11     690 non-null    object\n",
            " 11  a12     690 non-null    object\n",
            " 12  a13     690 non-null    object\n",
            " 13  a14     690 non-null    object\n",
            " 14  a15     690 non-null    object\n",
            " 15  a16     690 non-null    object\n",
            "dtypes: object(16)\n",
            "memory usage: 86.4+ KB\n"
          ]
        }
      ],
      "source": [
        "df.info()"
      ]
    },
    {
      "cell_type": "code",
      "execution_count": 358,
      "id": "73188d61",
      "metadata": {
        "id": "73188d61",
        "outputId": "980eb3af-1fd7-4f81-b115-4d128b6a0dd6"
      },
      "outputs": [
        {
          "data": {
            "image/png": "[encoded data removed]",
            "text/plain": [
              "<Figure size 640x480 with 1 Axes>"
            ]
          },
          "metadata": {},
          "output_type": "display_data"
        }
      ],
      "source": [
        "df.dtypes.value_counts().plot(kind=\"bar\",\n",
        "                              title=\"Types of Data\",\n",
        "                              xlabel=\"Data Type\",\n",
        "                              ylabel=\"No.of columns\",\n",
        "                              rot=0,\n",
        "                              color=[\"crimson\",\"orange\"])\n",
        "plt.show()"
      ]
    },
    {
      "cell_type": "markdown",
      "id": "c0249710",
      "metadata": {
        "id": "c0249710"
      },
      "source": [
        "The dataset has mainly categorical variables and few numericals variables."
      ]
    },
    {
      "cell_type": "markdown",
      "id": "018f2b7c",
      "metadata": {
        "id": "018f2b7c"
      },
      "source": [
        "# Exploratory Data Analysis"
      ]
    },
    {
      "cell_type": "markdown",
      "id": "03fbf4f2",
      "metadata": {
        "id": "03fbf4f2"
      },
      "source": [
        "In Exploratory Data Analysis the following parts are included:\n",
        "1. Seggragation of columns (into categorical and numerical)\n",
        "2. Analysis of Missing Values\n",
        "3. Target Variable Class Distribution"
      ]
    },
    {
      "cell_type": "markdown",
      "id": "dcf1b549",
      "metadata": {
        "id": "dcf1b549"
      },
      "source": [
        "## Seggregating columns"
      ]
    },
    {
      "cell_type": "markdown",
      "id": "7e0855bc",
      "metadata": {
        "id": "7e0855bc"
      },
      "source": [
        "The columns with data type as Object are considered as categorical while others are considered as numerical."
      ]
    },
    {
      "cell_type": "code",
      "execution_count": 359,
      "id": "df762c1d",
      "metadata": {
        "id": "df762c1d"
      },
      "outputs": [],
      "source": [
        "cat_cols = []\n",
        "num_cols = []\n",
        "\n",
        "for i in df.columns:\n",
        "    if df[i].dtype == \"O\":\n",
        "        cat_cols.append(i)\n",
        "    else:\n",
        "        num_cols.append(i)"
      ]
    },
    {
      "cell_type": "code",
      "execution_count": 360,
      "id": "f6038a42",
      "metadata": {},
      "outputs": [
        {
          "data": {
            "text/plain": [
              "['a1',\n",
              " 'a2',\n",
              " 's3',\n",
              " 'a4',\n",
              " 'a5',\n",
              " 'a6',\n",
              " 'a7',\n",
              " 'a8',\n",
              " 'a9',\n",
              " 'a10',\n",
              " 'a11',\n",
              " 'a12',\n",
              " 'a13',\n",
              " 'a14',\n",
              " 'a15',\n",
              " 'a16']"
            ]
          },
          "execution_count": 360,
          "metadata": {},
          "output_type": "execute_result"
        }
      ],
      "source": [
        "cat_cols"
      ]
    },
    {
      "cell_type": "markdown",
      "id": "5ada92d8",
      "metadata": {
        "id": "5ada92d8"
      },
      "source": [
        "## Missing Values Analysis"
      ]
    },
    {
      "cell_type": "markdown",
      "id": "6f400de1",
      "metadata": {
        "id": "6f400de1"
      },
      "source": [
        "Since, the UCI data repository mentions missing values as \"?\" instead of null values the analysis has to be carried out accordingly."
      ]
    },
    {
      "cell_type": "code",
      "execution_count": 361,
      "id": "a821c616",
      "metadata": {
        "id": "a821c616"
      },
      "outputs": [],
      "source": [
        "null_freq = []\n",
        "for i in df.columns:\n",
        "    f = dict(df[i].value_counts())\n",
        "    if \"?\" in f.keys():\n",
        "        null_freq.append(f[\"?\"]*100/len(df))\n",
        "    else:\n",
        "        null_freq.append(0)"
      ]
    },
    {
      "cell_type": "code",
      "execution_count": 362,
      "id": "07c5bc68",
      "metadata": {},
      "outputs": [
        {
          "data": {
            "text/plain": [
              "[1.7391304347826086,\n",
              " 1.7391304347826086,\n",
              " 0,\n",
              " 0.8695652173913043,\n",
              " 0.8695652173913043,\n",
              " 1.3043478260869565,\n",
              " 1.3043478260869565,\n",
              " 0,\n",
              " 0,\n",
              " 0,\n",
              " 0,\n",
              " 0,\n",
              " 0,\n",
              " 1.8840579710144927,\n",
              " 0,\n",
              " 0]"
            ]
          },
          "execution_count": 362,
          "metadata": {},
          "output_type": "execute_result"
        }
      ],
      "source": [
        "null_freq"
      ]
    },
    {
      "cell_type": "markdown",
      "id": "359c6ad7",
      "metadata": {
        "id": "359c6ad7"
      },
      "source": [
        "Only 2% of the rows have null values and hence the rows can be dropped directly instead of applying any imputation techniques."
      ]
    },
    {
      "cell_type": "code",
      "execution_count": 363,
      "id": "5e166215",
      "metadata": {
        "id": "5e166215",
        "outputId": "ac7119be-66ad-4e78-c481-0e7767bca607"
      },
      "outputs": [
        {
          "data": {
            "image/png": "[encoded data removed]",
            "text/plain": [
              "<Figure size 640x480 with 1 Axes>"
            ]
          },
          "metadata": {},
          "output_type": "display_data"
        }
      ],
      "source": [
        "pd.Series(dict(zip(df.columns,null_freq))).plot(kind=\"bar\",\n",
        "                                                rot=0,\n",
        "                                                title=\"Missing Value Frequency\",\n",
        "                                                xlabel=\"Column Name\",\n",
        "                                                ylabel=\"Percentage of missing values\",\n",
        "                                                color=[\"orange\",\"crimson\"])\n",
        "plt.show()"
      ]
    },
    {
      "cell_type": "markdown",
      "id": "651506dc",
      "metadata": {
        "id": "651506dc"
      },
      "source": [
        "## Target Variable Analysis"
      ]
    },
    {
      "cell_type": "markdown",
      "id": "88815f8c",
      "metadata": {
        "id": "88815f8c"
      },
      "source": [
        "The dataset is slightly biased towards \"-\" class since has significantly more entries."
      ]
    },
    {
      "cell_type": "code",
      "execution_count": 364,
      "id": "1db7acfa",
      "metadata": {
        "id": "1db7acfa",
        "outputId": "a6ce09dc-d0eb-46a0-8228-8f2e5305f80c"
      },
      "outputs": [
        {
          "data": {
            "image/png": "[encoded data removed]",
            "text/plain": [
              "<Figure size 640x480 with 1 Axes>"
            ]
          },
          "metadata": {},
          "output_type": "display_data"
        }
      ],
      "source": [
        "df['a16'].value_counts().plot(kind=\"bar\",\n",
        "                           title=\"Class Distribution\",\n",
        "                           xlabel=\"Status of Credit Card Approval\",\n",
        "                           ylabel=\"Frequency of the Status\",\n",
        "                           color=[\"crimson\",\"orange\"],\n",
        "                           rot=0)\n",
        "plt.show()"
      ]
    },
    {
      "cell_type": "markdown",
      "id": "a2c81eb6",
      "metadata": {
        "id": "a2c81eb6"
      },
      "source": [
        "# Pre-processing"
      ]
    },
    {
      "cell_type": "markdown",
      "id": "951e0a95",
      "metadata": {
        "id": "951e0a95"
      },
      "source": [
        "## Handling Missing Values"
      ]
    },
    {
      "cell_type": "code",
      "execution_count": 365,
      "id": "7f11db51",
      "metadata": {
        "id": "7f11db51"
      },
      "outputs": [],
      "source": [
        "df = df.replace({\"?\":None})"
      ]
    },
    {
      "cell_type": "code",
      "execution_count": 366,
      "id": "717ba7e0",
      "metadata": {
        "id": "717ba7e0"
      },
      "outputs": [],
      "source": [
        "df = df.dropna()"
      ]
    },
    {
      "cell_type": "code",
      "execution_count": 367,
      "id": "f627ef5c",
      "metadata": {},
      "outputs": [
        {
          "data": {
            "text/plain": [
              "(653, 16)"
            ]
          },
          "execution_count": 367,
          "metadata": {},
          "output_type": "execute_result"
        }
      ],
      "source": [
        "df.shape"
      ]
    },
    {
      "cell_type": "code",
      "execution_count": 368,
      "id": "a1c6d16a",
      "metadata": {},
      "outputs": [
        {
          "name": "stdout",
          "output_type": "stream",
          "text": [
            "0   a1     a2      s3 a4 a5  a6  a7    a8 a9 a10 a11 a12 a13    a14  a15 a16\n",
            "1    b  30.83       0  u  g   w   v  1.25  t   t  01   f   g  00202    0   +\n",
            "2    a  58.67    4.46  u  g   q   h  3.04  t   t  06   f   g  00043  560   +\n",
            "3    a  24.50     0.5  u  g   q   h   1.5  t   f   0   f   g  00280  824   +\n",
            "4    b  27.83    1.54  u  g   w   v  3.75  t   t  05   t   g  00100    3   +\n",
            "5    b  20.17   5.625  u  g   w   v  1.71  t   f   0   f   s  00120    0   +\n",
            "..  ..    ...     ... .. ..  ..  ..   ... ..  ..  ..  ..  ..    ...  ...  ..\n",
            "686  b  21.08  10.085  y  p   e   h  1.25  f   f   0   f   g  00260    0   -\n",
            "687  a  22.67    0.75  u  g   c   v     2  f   t  02   t   g  00200  394   -\n",
            "688  a  25.25    13.5  y  p  ff  ff     2  f   t  01   t   g  00200    1   -\n",
            "689  b  17.92   0.205  u  g  aa   v  0.04  f   f   0   f   g  00280  750   -\n",
            "690  b  35.00   3.375  u  g   c   h  8.29  f   f   0   t   g  00000    0   -\n",
            "\n",
            "[653 rows x 16 columns]\n"
          ]
        }
      ],
      "source": [
        "numerical_columns = df.select_dtypes(include=['float64', 'int64']).columns\n",
        "\n",
        "Q1 = df[numerical_columns].quantile(0.25)\n",
        "Q3 = df[numerical_columns].quantile(0.75)\n",
        "IQR = Q3 - Q1\n",
        "\n",
        "threshold = 1.5\n",
        "\n",
        "# Remove rows with values outside the acceptable range\n",
        "df = df[~((df[numerical_columns] < (Q1 - threshold * IQR)) | (df[numerical_columns] > (Q3 + threshold * IQR))).any(axis=1)]\n"
      ]
    },
    {
      "cell_type": "code",
      "execution_count": 369,
      "id": "030a5a6b",
      "metadata": {},
      "outputs": [
        {
          "data": {
            "text/plain": [
              "(653, 16)"
            ]
          },
          "execution_count": 369,
          "metadata": {},
          "output_type": "execute_result"
        }
      ],
      "source": [
        "df.shape"
      ]
    },
    {
      "cell_type": "code",
      "execution_count": 370,
      "id": "53764711",
      "metadata": {},
      "outputs": [
        {
          "data": {
            "text/html": [
              "<div>\n",
              "<style scoped>\n",
              "    .dataframe tbody tr th:only-of-type {\n",
              "        vertical-align: middle;\n",
              "    }\n",
              "\n",
              "    .dataframe tbody tr th {\n",
              "        vertical-align: top;\n",
              "    }\n",
              "\n",
              "    .dataframe thead th {\n",
              "        text-align: right;\n",
              "    }\n",
              "</style>\n",
              "<table border=\"1\" class=\"dataframe\">\n",
              "  <thead>\n",
              "    <tr style=\"text-align: right;\">\n",
              "      <th></th>\n",
              "      <th>a1</th>\n",
              "      <th>a2</th>\n",
              "      <th>s3</th>\n",
              "      <th>a4</th>\n",
              "      <th>a5</th>\n",
              "      <th>a6</th>\n",
              "      <th>a7</th>\n",
              "      <th>a8</th>\n",
              "      <th>a9</th>\n",
              "      <th>a10</th>\n",
              "      <th>a11</th>\n",
              "      <th>a12</th>\n",
              "      <th>a13</th>\n",
              "      <th>a14</th>\n",
              "      <th>a15</th>\n",
              "      <th>a16</th>\n",
              "    </tr>\n",
              "  </thead>\n",
              "  <tbody>\n",
              "    <tr>\n",
              "      <th>1</th>\n",
              "      <td>b</td>\n",
              "      <td>30.83</td>\n",
              "      <td>0</td>\n",
              "      <td>u</td>\n",
              "      <td>g</td>\n",
              "      <td>w</td>\n",
              "      <td>v</td>\n",
              "      <td>1.25</td>\n",
              "      <td>t</td>\n",
              "      <td>t</td>\n",
              "      <td>01</td>\n",
              "      <td>f</td>\n",
              "      <td>g</td>\n",
              "      <td>00202</td>\n",
              "      <td>0</td>\n",
              "      <td>+</td>\n",
              "    </tr>\n",
              "    <tr>\n",
              "      <th>2</th>\n",
              "      <td>a</td>\n",
              "      <td>58.67</td>\n",
              "      <td>4.46</td>\n",
              "      <td>u</td>\n",
              "      <td>g</td>\n",
              "      <td>q</td>\n",
              "      <td>h</td>\n",
              "      <td>3.04</td>\n",
              "      <td>t</td>\n",
              "      <td>t</td>\n",
              "      <td>06</td>\n",
              "      <td>f</td>\n",
              "      <td>g</td>\n",
              "      <td>00043</td>\n",
              "      <td>560</td>\n",
              "      <td>+</td>\n",
              "    </tr>\n",
              "    <tr>\n",
              "      <th>3</th>\n",
              "      <td>a</td>\n",
              "      <td>24.50</td>\n",
              "      <td>0.5</td>\n",
              "      <td>u</td>\n",
              "      <td>g</td>\n",
              "      <td>q</td>\n",
              "      <td>h</td>\n",
              "      <td>1.5</td>\n",
              "      <td>t</td>\n",
              "      <td>f</td>\n",
              "      <td>0</td>\n",
              "      <td>f</td>\n",
              "      <td>g</td>\n",
              "      <td>00280</td>\n",
              "      <td>824</td>\n",
              "      <td>+</td>\n",
              "    </tr>\n",
              "    <tr>\n",
              "      <th>4</th>\n",
              "      <td>b</td>\n",
              "      <td>27.83</td>\n",
              "      <td>1.54</td>\n",
              "      <td>u</td>\n",
              "      <td>g</td>\n",
              "      <td>w</td>\n",
              "      <td>v</td>\n",
              "      <td>3.75</td>\n",
              "      <td>t</td>\n",
              "      <td>t</td>\n",
              "      <td>05</td>\n",
              "      <td>t</td>\n",
              "      <td>g</td>\n",
              "      <td>00100</td>\n",
              "      <td>3</td>\n",
              "      <td>+</td>\n",
              "    </tr>\n",
              "    <tr>\n",
              "      <th>5</th>\n",
              "      <td>b</td>\n",
              "      <td>20.17</td>\n",
              "      <td>5.625</td>\n",
              "      <td>u</td>\n",
              "      <td>g</td>\n",
              "      <td>w</td>\n",
              "      <td>v</td>\n",
              "      <td>1.71</td>\n",
              "      <td>t</td>\n",
              "      <td>f</td>\n",
              "      <td>0</td>\n",
              "      <td>f</td>\n",
              "      <td>s</td>\n",
              "      <td>00120</td>\n",
              "      <td>0</td>\n",
              "      <td>+</td>\n",
              "    </tr>\n",
              "  </tbody>\n",
              "</table>\n",
              "</div>"
            ],
            "text/plain": [
              "0 a1     a2     s3 a4 a5 a6 a7    a8 a9 a10 a11 a12 a13    a14  a15 a16\n",
              "1  b  30.83      0  u  g  w  v  1.25  t   t  01   f   g  00202    0   +\n",
              "2  a  58.67   4.46  u  g  q  h  3.04  t   t  06   f   g  00043  560   +\n",
              "3  a  24.50    0.5  u  g  q  h   1.5  t   f   0   f   g  00280  824   +\n",
              "4  b  27.83   1.54  u  g  w  v  3.75  t   t  05   t   g  00100    3   +\n",
              "5  b  20.17  5.625  u  g  w  v  1.71  t   f   0   f   s  00120    0   +"
            ]
          },
          "execution_count": 370,
          "metadata": {},
          "output_type": "execute_result"
        }
      ],
      "source": [
        "df.head(5)"
      ]
    },
    {
      "cell_type": "markdown",
      "id": "39e545df",
      "metadata": {
        "id": "39e545df"
      },
      "source": [
        "## Encoding the columns"
      ]
    },
    {
      "cell_type": "code",
      "execution_count": 371,
      "id": "bf6a5872",
      "metadata": {
        "id": "bf6a5872"
      },
      "outputs": [
        {
          "name": "stderr",
          "output_type": "stream",
          "text": [
            "/Library/Frameworks/Python.framework/Versions/3.11/lib/python3.11/site-packages/sklearn/preprocessing/_encoders.py:975: FutureWarning: `sparse` was renamed to `sparse_output` in version 1.2 and will be removed in 1.4. `sparse_output` is ignored unless you leave `sparse` to its default value.\n",
            "  warnings.warn(\n",
            "/Library/Frameworks/Python.framework/Versions/3.11/lib/python3.11/site-packages/sklearn/preprocessing/_encoders.py:975: FutureWarning: `sparse` was renamed to `sparse_output` in version 1.2 and will be removed in 1.4. `sparse_output` is ignored unless you leave `sparse` to its default value.\n",
            "  warnings.warn(\n",
            "/Library/Frameworks/Python.framework/Versions/3.11/lib/python3.11/site-packages/sklearn/preprocessing/_encoders.py:975: FutureWarning: `sparse` was renamed to `sparse_output` in version 1.2 and will be removed in 1.4. `sparse_output` is ignored unless you leave `sparse` to its default value.\n",
            "  warnings.warn(\n",
            "/Library/Frameworks/Python.framework/Versions/3.11/lib/python3.11/site-packages/sklearn/preprocessing/_encoders.py:975: FutureWarning: `sparse` was renamed to `sparse_output` in version 1.2 and will be removed in 1.4. `sparse_output` is ignored unless you leave `sparse` to its default value.\n",
            "  warnings.warn(\n",
            "/Library/Frameworks/Python.framework/Versions/3.11/lib/python3.11/site-packages/sklearn/preprocessing/_encoders.py:975: FutureWarning: `sparse` was renamed to `sparse_output` in version 1.2 and will be removed in 1.4. `sparse_output` is ignored unless you leave `sparse` to its default value.\n",
            "  warnings.warn(\n",
            "/Library/Frameworks/Python.framework/Versions/3.11/lib/python3.11/site-packages/sklearn/preprocessing/_encoders.py:975: FutureWarning: `sparse` was renamed to `sparse_output` in version 1.2 and will be removed in 1.4. `sparse_output` is ignored unless you leave `sparse` to its default value.\n",
            "  warnings.warn(\n",
            "/Library/Frameworks/Python.framework/Versions/3.11/lib/python3.11/site-packages/sklearn/preprocessing/_encoders.py:975: FutureWarning: `sparse` was renamed to `sparse_output` in version 1.2 and will be removed in 1.4. `sparse_output` is ignored unless you leave `sparse` to its default value.\n",
            "  warnings.warn(\n",
            "/Library/Frameworks/Python.framework/Versions/3.11/lib/python3.11/site-packages/sklearn/preprocessing/_encoders.py:975: FutureWarning: `sparse` was renamed to `sparse_output` in version 1.2 and will be removed in 1.4. `sparse_output` is ignored unless you leave `sparse` to its default value.\n",
            "  warnings.warn(\n",
            "/Library/Frameworks/Python.framework/Versions/3.11/lib/python3.11/site-packages/sklearn/preprocessing/_encoders.py:975: FutureWarning: `sparse` was renamed to `sparse_output` in version 1.2 and will be removed in 1.4. `sparse_output` is ignored unless you leave `sparse` to its default value.\n",
            "  warnings.warn(\n",
            "/Library/Frameworks/Python.framework/Versions/3.11/lib/python3.11/site-packages/sklearn/preprocessing/_encoders.py:975: FutureWarning: `sparse` was renamed to `sparse_output` in version 1.2 and will be removed in 1.4. `sparse_output` is ignored unless you leave `sparse` to its default value.\n",
            "  warnings.warn(\n",
            "/Library/Frameworks/Python.framework/Versions/3.11/lib/python3.11/site-packages/sklearn/preprocessing/_encoders.py:975: FutureWarning: `sparse` was renamed to `sparse_output` in version 1.2 and will be removed in 1.4. `sparse_output` is ignored unless you leave `sparse` to its default value.\n",
            "  warnings.warn(\n",
            "/Library/Frameworks/Python.framework/Versions/3.11/lib/python3.11/site-packages/sklearn/preprocessing/_encoders.py:975: FutureWarning: `sparse` was renamed to `sparse_output` in version 1.2 and will be removed in 1.4. `sparse_output` is ignored unless you leave `sparse` to its default value.\n",
            "  warnings.warn(\n",
            "/Library/Frameworks/Python.framework/Versions/3.11/lib/python3.11/site-packages/sklearn/preprocessing/_encoders.py:975: FutureWarning: `sparse` was renamed to `sparse_output` in version 1.2 and will be removed in 1.4. `sparse_output` is ignored unless you leave `sparse` to its default value.\n",
            "  warnings.warn(\n",
            "/Library/Frameworks/Python.framework/Versions/3.11/lib/python3.11/site-packages/sklearn/preprocessing/_encoders.py:975: FutureWarning: `sparse` was renamed to `sparse_output` in version 1.2 and will be removed in 1.4. `sparse_output` is ignored unless you leave `sparse` to its default value.\n",
            "  warnings.warn(\n",
            "/Library/Frameworks/Python.framework/Versions/3.11/lib/python3.11/site-packages/sklearn/preprocessing/_encoders.py:975: FutureWarning: `sparse` was renamed to `sparse_output` in version 1.2 and will be removed in 1.4. `sparse_output` is ignored unless you leave `sparse` to its default value.\n",
            "  warnings.warn(\n",
            "/Library/Frameworks/Python.framework/Versions/3.11/lib/python3.11/site-packages/sklearn/preprocessing/_encoders.py:975: FutureWarning: `sparse` was renamed to `sparse_output` in version 1.2 and will be removed in 1.4. `sparse_output` is ignored unless you leave `sparse` to its default value.\n",
            "  warnings.warn(\n"
          ]
        }
      ],
      "source": [
        "encoder = OneHotEncoder(sparse=False)\n",
        "for i in cat_cols:\n",
        "    df[i] = encoder.fit_transform(df[i].values.reshape(-1,1))"
      ]
    },
    {
      "cell_type": "code",
      "execution_count": 372,
      "id": "e5135011",
      "metadata": {
        "id": "e5135011"
      },
      "outputs": [],
      "source": [
        "df = df.reset_index()"
      ]
    },
    {
      "cell_type": "markdown",
      "id": "0894320f",
      "metadata": {
        "id": "0894320f"
      },
      "source": [
        "# Test Train Split"
      ]
    },
    {
      "cell_type": "code",
      "execution_count": 373,
      "id": "cea8cf9c",
      "metadata": {
        "id": "cea8cf9c",
        "outputId": "f3c3cc7c-2497-4d76-e80d-e8e1120254bc"
      },
      "outputs": [
        {
          "data": {
            "text/plain": [
              "535    1.0\n",
              "492    1.0\n",
              "14     1.0\n",
              "247    0.0\n",
              "85     0.0\n",
              "      ... \n",
              "506    0.0\n",
              "266    0.0\n",
              "155    1.0\n",
              "403    0.0\n",
              "18     1.0\n",
              "Name: a16, Length: 66, dtype: float64"
            ]
          },
          "execution_count": 373,
          "metadata": {},
          "output_type": "execute_result"
        }
      ],
      "source": [
        "from sklearn.model_selection import train_test_split\n",
        "X_train,X_test,y_train,y_test = train_test_split(df,\n",
        "    df['a16'],\n",
        "    test_size = 0.10,\n",
        "    train_size=0.90,\n",
        "    random_state = 0\n",
        ")\n",
        "X_train.pop('a16')\n",
        "X_test.pop('a16')"
      ]
    },
    {
      "cell_type": "code",
      "execution_count": 374,
      "id": "be541c1f",
      "metadata": {
        "id": "be541c1f",
        "outputId": "380a4d67-ce0f-4277-9367-aa4aa7476b03"
      },
      "outputs": [
        {
          "data": {
            "text/html": [
              "<div>\n",
              "<style scoped>\n",
              "    .dataframe tbody tr th:only-of-type {\n",
              "        vertical-align: middle;\n",
              "    }\n",
              "\n",
              "    .dataframe tbody tr th {\n",
              "        vertical-align: top;\n",
              "    }\n",
              "\n",
              "    .dataframe thead th {\n",
              "        text-align: right;\n",
              "    }\n",
              "</style>\n",
              "<table border=\"1\" class=\"dataframe\">\n",
              "  <thead>\n",
              "    <tr style=\"text-align: right;\">\n",
              "      <th></th>\n",
              "      <th>index</th>\n",
              "      <th>a1</th>\n",
              "      <th>a2</th>\n",
              "      <th>s3</th>\n",
              "      <th>a4</th>\n",
              "      <th>a5</th>\n",
              "      <th>a6</th>\n",
              "      <th>a7</th>\n",
              "      <th>a8</th>\n",
              "      <th>a9</th>\n",
              "      <th>a10</th>\n",
              "      <th>a11</th>\n",
              "      <th>a12</th>\n",
              "      <th>a13</th>\n",
              "      <th>a14</th>\n",
              "      <th>a15</th>\n",
              "    </tr>\n",
              "  </thead>\n",
              "  <tbody>\n",
              "    <tr>\n",
              "      <th>436</th>\n",
              "      <td>460</td>\n",
              "      <td>1.0</td>\n",
              "      <td>0.0</td>\n",
              "      <td>0.0</td>\n",
              "      <td>0.0</td>\n",
              "      <td>0.0</td>\n",
              "      <td>0.0</td>\n",
              "      <td>0.0</td>\n",
              "      <td>0.0</td>\n",
              "      <td>0.0</td>\n",
              "      <td>1.0</td>\n",
              "      <td>1.0</td>\n",
              "      <td>1.0</td>\n",
              "      <td>0.0</td>\n",
              "      <td>1.0</td>\n",
              "      <td>0.0</td>\n",
              "    </tr>\n",
              "    <tr>\n",
              "      <th>75</th>\n",
              "      <td>77</td>\n",
              "      <td>1.0</td>\n",
              "      <td>0.0</td>\n",
              "      <td>0.0</td>\n",
              "      <td>0.0</td>\n",
              "      <td>0.0</td>\n",
              "      <td>1.0</td>\n",
              "      <td>1.0</td>\n",
              "      <td>0.0</td>\n",
              "      <td>0.0</td>\n",
              "      <td>0.0</td>\n",
              "      <td>1.0</td>\n",
              "      <td>1.0</td>\n",
              "      <td>0.0</td>\n",
              "      <td>1.0</td>\n",
              "      <td>0.0</td>\n",
              "    </tr>\n",
              "    <tr>\n",
              "      <th>55</th>\n",
              "      <td>56</td>\n",
              "      <td>0.0</td>\n",
              "      <td>0.0</td>\n",
              "      <td>0.0</td>\n",
              "      <td>0.0</td>\n",
              "      <td>0.0</td>\n",
              "      <td>0.0</td>\n",
              "      <td>0.0</td>\n",
              "      <td>0.0</td>\n",
              "      <td>0.0</td>\n",
              "      <td>0.0</td>\n",
              "      <td>1.0</td>\n",
              "      <td>1.0</td>\n",
              "      <td>0.0</td>\n",
              "      <td>1.0</td>\n",
              "      <td>0.0</td>\n",
              "    </tr>\n",
              "    <tr>\n",
              "      <th>49</th>\n",
              "      <td>50</td>\n",
              "      <td>0.0</td>\n",
              "      <td>0.0</td>\n",
              "      <td>0.0</td>\n",
              "      <td>0.0</td>\n",
              "      <td>0.0</td>\n",
              "      <td>1.0</td>\n",
              "      <td>0.0</td>\n",
              "      <td>0.0</td>\n",
              "      <td>0.0</td>\n",
              "      <td>1.0</td>\n",
              "      <td>1.0</td>\n",
              "      <td>1.0</td>\n",
              "      <td>1.0</td>\n",
              "      <td>1.0</td>\n",
              "      <td>0.0</td>\n",
              "    </tr>\n",
              "    <tr>\n",
              "      <th>589</th>\n",
              "      <td>624</td>\n",
              "      <td>1.0</td>\n",
              "      <td>0.0</td>\n",
              "      <td>0.0</td>\n",
              "      <td>1.0</td>\n",
              "      <td>0.0</td>\n",
              "      <td>1.0</td>\n",
              "      <td>0.0</td>\n",
              "      <td>0.0</td>\n",
              "      <td>0.0</td>\n",
              "      <td>1.0</td>\n",
              "      <td>1.0</td>\n",
              "      <td>1.0</td>\n",
              "      <td>1.0</td>\n",
              "      <td>1.0</td>\n",
              "      <td>0.0</td>\n",
              "    </tr>\n",
              "    <tr>\n",
              "      <th>...</th>\n",
              "      <td>...</td>\n",
              "      <td>...</td>\n",
              "      <td>...</td>\n",
              "      <td>...</td>\n",
              "      <td>...</td>\n",
              "      <td>...</td>\n",
              "      <td>...</td>\n",
              "      <td>...</td>\n",
              "      <td>...</td>\n",
              "      <td>...</td>\n",
              "      <td>...</td>\n",
              "      <td>...</td>\n",
              "      <td>...</td>\n",
              "      <td>...</td>\n",
              "      <td>...</td>\n",
              "      <td>...</td>\n",
              "    </tr>\n",
              "    <tr>\n",
              "      <th>9</th>\n",
              "      <td>10</td>\n",
              "      <td>0.0</td>\n",
              "      <td>0.0</td>\n",
              "      <td>0.0</td>\n",
              "      <td>0.0</td>\n",
              "      <td>0.0</td>\n",
              "      <td>0.0</td>\n",
              "      <td>0.0</td>\n",
              "      <td>0.0</td>\n",
              "      <td>0.0</td>\n",
              "      <td>0.0</td>\n",
              "      <td>1.0</td>\n",
              "      <td>1.0</td>\n",
              "      <td>0.0</td>\n",
              "      <td>1.0</td>\n",
              "      <td>0.0</td>\n",
              "    </tr>\n",
              "    <tr>\n",
              "      <th>359</th>\n",
              "      <td>378</td>\n",
              "      <td>1.0</td>\n",
              "      <td>0.0</td>\n",
              "      <td>0.0</td>\n",
              "      <td>0.0</td>\n",
              "      <td>0.0</td>\n",
              "      <td>0.0</td>\n",
              "      <td>0.0</td>\n",
              "      <td>0.0</td>\n",
              "      <td>0.0</td>\n",
              "      <td>1.0</td>\n",
              "      <td>1.0</td>\n",
              "      <td>1.0</td>\n",
              "      <td>0.0</td>\n",
              "      <td>0.0</td>\n",
              "      <td>0.0</td>\n",
              "    </tr>\n",
              "    <tr>\n",
              "      <th>192</th>\n",
              "      <td>198</td>\n",
              "      <td>0.0</td>\n",
              "      <td>0.0</td>\n",
              "      <td>0.0</td>\n",
              "      <td>0.0</td>\n",
              "      <td>0.0</td>\n",
              "      <td>1.0</td>\n",
              "      <td>0.0</td>\n",
              "      <td>0.0</td>\n",
              "      <td>0.0</td>\n",
              "      <td>0.0</td>\n",
              "      <td>0.0</td>\n",
              "      <td>0.0</td>\n",
              "      <td>1.0</td>\n",
              "      <td>1.0</td>\n",
              "      <td>1.0</td>\n",
              "    </tr>\n",
              "    <tr>\n",
              "      <th>629</th>\n",
              "      <td>666</td>\n",
              "      <td>1.0</td>\n",
              "      <td>0.0</td>\n",
              "      <td>0.0</td>\n",
              "      <td>0.0</td>\n",
              "      <td>0.0</td>\n",
              "      <td>0.0</td>\n",
              "      <td>0.0</td>\n",
              "      <td>0.0</td>\n",
              "      <td>0.0</td>\n",
              "      <td>1.0</td>\n",
              "      <td>1.0</td>\n",
              "      <td>1.0</td>\n",
              "      <td>1.0</td>\n",
              "      <td>1.0</td>\n",
              "      <td>1.0</td>\n",
              "    </tr>\n",
              "    <tr>\n",
              "      <th>559</th>\n",
              "      <td>589</td>\n",
              "      <td>0.0</td>\n",
              "      <td>0.0</td>\n",
              "      <td>0.0</td>\n",
              "      <td>0.0</td>\n",
              "      <td>0.0</td>\n",
              "      <td>0.0</td>\n",
              "      <td>0.0</td>\n",
              "      <td>0.0</td>\n",
              "      <td>0.0</td>\n",
              "      <td>0.0</td>\n",
              "      <td>0.0</td>\n",
              "      <td>0.0</td>\n",
              "      <td>0.0</td>\n",
              "      <td>1.0</td>\n",
              "      <td>0.0</td>\n",
              "    </tr>\n",
              "  </tbody>\n",
              "</table>\n",
              "<p>587 rows × 16 columns</p>\n",
              "</div>"
            ],
            "text/plain": [
              "0    index   a1   a2   s3   a4   a5   a6   a7   a8   a9  a10  a11  a12  a13  \\\n",
              "436    460  1.0  0.0  0.0  0.0  0.0  0.0  0.0  0.0  0.0  1.0  1.0  1.0  0.0   \n",
              "75      77  1.0  0.0  0.0  0.0  0.0  1.0  1.0  0.0  0.0  0.0  1.0  1.0  0.0   \n",
              "55      56  0.0  0.0  0.0  0.0  0.0  0.0  0.0  0.0  0.0  0.0  1.0  1.0  0.0   \n",
              "49      50  0.0  0.0  0.0  0.0  0.0  1.0  0.0  0.0  0.0  1.0  1.0  1.0  1.0   \n",
              "589    624  1.0  0.0  0.0  1.0  0.0  1.0  0.0  0.0  0.0  1.0  1.0  1.0  1.0   \n",
              "..     ...  ...  ...  ...  ...  ...  ...  ...  ...  ...  ...  ...  ...  ...   \n",
              "9       10  0.0  0.0  0.0  0.0  0.0  0.0  0.0  0.0  0.0  0.0  1.0  1.0  0.0   \n",
              "359    378  1.0  0.0  0.0  0.0  0.0  0.0  0.0  0.0  0.0  1.0  1.0  1.0  0.0   \n",
              "192    198  0.0  0.0  0.0  0.0  0.0  1.0  0.0  0.0  0.0  0.0  0.0  0.0  1.0   \n",
              "629    666  1.0  0.0  0.0  0.0  0.0  0.0  0.0  0.0  0.0  1.0  1.0  1.0  1.0   \n",
              "559    589  0.0  0.0  0.0  0.0  0.0  0.0  0.0  0.0  0.0  0.0  0.0  0.0  0.0   \n",
              "\n",
              "0    a14  a15  \n",
              "436  1.0  0.0  \n",
              "75   1.0  0.0  \n",
              "55   1.0  0.0  \n",
              "49   1.0  0.0  \n",
              "589  1.0  0.0  \n",
              "..   ...  ...  \n",
              "9    1.0  0.0  \n",
              "359  0.0  0.0  \n",
              "192  1.0  1.0  \n",
              "629  1.0  1.0  \n",
              "559  1.0  0.0  \n",
              "\n",
              "[587 rows x 16 columns]"
            ]
          },
          "execution_count": 374,
          "metadata": {},
          "output_type": "execute_result"
        }
      ],
      "source": [
        "X_train"
      ]
    },
    {
      "cell_type": "markdown",
      "id": "61d59a88",
      "metadata": {
        "id": "61d59a88"
      },
      "source": [
        "# Perceptron"
      ]
    },
    {
      "cell_type": "code",
      "execution_count": 375,
      "id": "8fe6fd41",
      "metadata": {
        "id": "8fe6fd41"
      },
      "outputs": [],
      "source": [
        "class Perceptron:\n",
        "\n",
        "    # Initialising the required parameters for the perceptron.\n",
        "    def __init__(self, X, y, learning_rate, epochs : int):\n",
        "        self.X = X\n",
        "        self.y = y\n",
        "        self.learning_rate = learning_rate\n",
        "        self.epochs = epochs\n",
        "\n",
        "    # Activation function.\n",
        "    def __activation_function(self,x):\n",
        "        return 1.0 if (x > 0) else 0.0\n",
        "\n",
        "    # The model training or fitting by updating weights.\n",
        "    def fit(self):\n",
        "        n_rows,n_cols = self.X.shape\n",
        "        self.weights = np.zeros((n_cols + 1, 1))\n",
        "        for epoch in range(self.epochs):\n",
        "            for index, features in enumerate(self.X.values):\n",
        "                feature_transposed = np.insert(features, 0, 1).reshape(-1,1)\n",
        "                predicted_target = self.__activation_function(np.dot(feature_transposed.T, self.weights))\n",
        "                flag = np.squeeze(predicted_target) - self.y[index]\n",
        "                if flag != 0:\n",
        "                    self.weights += self.learning_rate*((self.y[index] - predicted_target)*feature_transposed)\n",
        "\n",
        "    # Predicting on a single instance.\n",
        "    def predict(self, X_test):\n",
        "        return self.__activation_function(np.dot(p.weights.reshape(1,-1)[0],X_test))\n",
        "\n",
        "    # Predicting on a larger number of instances and returning accuracy.\n",
        "    def test(self, test_data, y):\n",
        "        x = []\n",
        "        for i in range(len(test_data.values)):\n",
        "            X_test = np.array(test_data.iloc[i])\n",
        "            x.append(p.predict(np.insert(X_test,0,1)) == p.y[i])\n",
        "        return sum(x)*100/len(test_data)"
      ]
    },
    {
      "cell_type": "markdown",
      "id": "a9ed5286",
      "metadata": {
        "id": "a9ed5286"
      },
      "source": [
        "# Initialising the Perceptron Parameters"
      ]
    },
    {
      "cell_type": "code",
      "execution_count": 376,
      "id": "964998c7",
      "metadata": {
        "id": "964998c7"
      },
      "outputs": [],
      "source": [
        "y = np.array(pd.DataFrame(y_train).reset_index().drop([\"index\"],axis=1))\n",
        "X = pd.DataFrame(X_train).reset_index().drop([\"index\"],axis=1)\n",
        "p = Perceptron(X, y, 0.5, 50)"
      ]
    },
    {
      "cell_type": "markdown",
      "id": "da97f561",
      "metadata": {
        "id": "da97f561"
      },
      "source": [
        "# Fitting the model"
      ]
    },
    {
      "cell_type": "code",
      "execution_count": 377,
      "id": "0ad88a66",
      "metadata": {
        "id": "0ad88a66"
      },
      "outputs": [],
      "source": [
        "p.fit()"
      ]
    },
    {
      "cell_type": "markdown",
      "id": "5535102b",
      "metadata": {
        "id": "5535102b"
      },
      "source": [
        "# Test Accuracy"
      ]
    },
    {
      "cell_type": "code",
      "execution_count": 378,
      "id": "f52db71b",
      "metadata": {
        "id": "f52db71b",
        "outputId": "61853cdb-3143-49f7-f5a1-50d3b01efab3"
      },
      "outputs": [
        {
          "data": {
            "text/plain": [
              "array([48.48484848])"
            ]
          },
          "execution_count": 378,
          "metadata": {},
          "output_type": "execute_result"
        }
      ],
      "source": [
        "p.test(pd.DataFrame(X_test).reset_index().drop([\"index\"],axis=1),\n",
        "     np.array(pd.DataFrame(y_test).reset_index().drop([\"index\"],axis=1)))"
      ]
    },
    {
      "cell_type": "markdown",
      "id": "3423cb8b",
      "metadata": {
        "id": "3423cb8b"
      },
      "source": [
        "# Train Accuracy"
      ]
    },
    {
      "cell_type": "code",
      "execution_count": 379,
      "id": "932d0ccb",
      "metadata": {
        "id": "932d0ccb",
        "outputId": "0aef0f5d-822f-4bd1-8c35-4a145f0cc209"
      },
      "outputs": [
        {
          "data": {
            "text/plain": [
              "array([45.65587734])"
            ]
          },
          "execution_count": 379,
          "metadata": {},
          "output_type": "execute_result"
        }
      ],
      "source": [
        "p.test(X,y)"
      ]
    },
    {
      "cell_type": "markdown",
      "id": "65ea2d8c",
      "metadata": {
        "id": "65ea2d8c"
      },
      "source": [
        "# Tuning the number of epochs"
      ]
    },
    {
      "cell_type": "code",
      "execution_count": 380,
      "id": "ff3adda4",
      "metadata": {
        "id": "ff3adda4"
      },
      "outputs": [],
      "source": [
        "train_acc = []\n",
        "test_acc = []\n",
        "epochs = []\n",
        "\n",
        "for i in range(20,200,20):\n",
        "    y = np.array(pd.DataFrame(y_train).reset_index().drop([\"index\"],axis=1))\n",
        "    X = pd.DataFrame(X_train).reset_index().drop([\"index\"],axis=1)\n",
        "    p = Perceptron(X, y, 0.5, i)\n",
        "    p.fit()\n",
        "    train_acc.append(p.test(X,y))\n",
        "    test_acc.append(p.test(pd.DataFrame(X_test).reset_index().drop([\"index\"],axis=1),\n",
        "     np.array(pd.DataFrame(y_test).reset_index().drop([\"index\"],axis=1))))\n",
        "    epochs.append(i)"
      ]
    },
    {
      "cell_type": "code",
      "execution_count": 381,
      "id": "011198be",
      "metadata": {},
      "outputs": [
        {
          "data": {
            "text/plain": [
              "[20, 40, 60, 80, 100, 120, 140, 160, 180]"
            ]
          },
          "execution_count": 381,
          "metadata": {},
          "output_type": "execute_result"
        }
      ],
      "source": [
        "epochs"
      ]
    },
    {
      "cell_type": "markdown",
      "id": "b092910e",
      "metadata": {
        "id": "b092910e"
      },
      "source": [
        "# Train-Test Accuracies across different epochs"
      ]
    },
    {
      "cell_type": "code",
      "execution_count": 382,
      "id": "f29e4d13",
      "metadata": {
        "id": "f29e4d13",
        "outputId": "5b892df2-3746-422d-e168-19196569d8cf"
      },
      "outputs": [
        {
          "data": {
            "image/png": "[encoded data removed]",
            "text/plain": [
              "<Figure size 1000x1000 with 1 Axes>"
            ]
          },
          "metadata": {},
          "output_type": "display_data"
        }
      ],
      "source": [
        "plt.figure(figsize=(10,10))\n",
        "plt.plot(epochs,train_acc)\n",
        "plt.plot(epochs,test_acc)\n",
        "plt.xlabel(\"Number of Epochs\")\n",
        "plt.ylabel(\"Accuracy of the model\")\n",
        "plt.legend(['Train Accuracy',\"Test Accuracy\"])\n",
        "plt.show()"
      ]
    },
    {
      "cell_type": "markdown",
      "id": "93264bad",
      "metadata": {
        "id": "93264bad"
      },
      "source": [
        "# Final Model"
      ]
    },
    {
      "cell_type": "code",
      "execution_count": 383,
      "id": "0203ce5a",
      "metadata": {
        "id": "0203ce5a"
      },
      "outputs": [],
      "source": [
        "tuning = pd.DataFrame({\"epochs\":np.array(epochs).squeeze(),\"train accuracy\":np.array(train_acc).squeeze(), \"test accuracy\":np.array(test_acc).squeeze()})"
      ]
    },
    {
      "cell_type": "code",
      "execution_count": 384,
      "id": "8b0528ac",
      "metadata": {
        "id": "8b0528ac"
      },
      "outputs": [],
      "source": [
        "def diff(row):\n",
        "    return row[1] - row[2]"
      ]
    },
    {
      "cell_type": "code",
      "execution_count": 385,
      "id": "efd8bd99",
      "metadata": {
        "id": "efd8bd99"
      },
      "outputs": [
        {
          "name": "stderr",
          "output_type": "stream",
          "text": [
            "/var/folders/fp/tqnwc7rd219_w0rxtd8b8pz00000gn/T/ipykernel_85185/844949158.py:2: FutureWarning: Series.__getitem__ treating keys as positions is deprecated. In a future version, integer keys will always be treated as labels (consistent with DataFrame behavior). To access a value by position, use `ser.iloc[pos]`\n",
            "  return row[1] - row[2]\n"
          ]
        }
      ],
      "source": [
        "tuning[\"Difference\"] = tuning.apply(diff,axis=1)"
      ]
    },
    {
      "cell_type": "code",
      "execution_count": 386,
      "id": "99eb71d5",
      "metadata": {
        "id": "99eb71d5",
        "outputId": "905734e9-1796-4b8d-8092-6711a5cbbe42"
      },
      "outputs": [
        {
          "data": {
            "text/html": [
              "<div>\n",
              "<style scoped>\n",
              "    .dataframe tbody tr th:only-of-type {\n",
              "        vertical-align: middle;\n",
              "    }\n",
              "\n",
              "    .dataframe tbody tr th {\n",
              "        vertical-align: top;\n",
              "    }\n",
              "\n",
              "    .dataframe thead th {\n",
              "        text-align: right;\n",
              "    }\n",
              "</style>\n",
              "<table border=\"1\" class=\"dataframe\">\n",
              "  <thead>\n",
              "    <tr style=\"text-align: right;\">\n",
              "      <th></th>\n",
              "      <th>epochs</th>\n",
              "      <th>train accuracy</th>\n",
              "      <th>test accuracy</th>\n",
              "      <th>Difference</th>\n",
              "    </tr>\n",
              "  </thead>\n",
              "  <tbody>\n",
              "    <tr>\n",
              "      <th>1</th>\n",
              "      <td>40</td>\n",
              "      <td>45.655877</td>\n",
              "      <td>48.484848</td>\n",
              "      <td>-2.828971</td>\n",
              "    </tr>\n",
              "    <tr>\n",
              "      <th>2</th>\n",
              "      <td>60</td>\n",
              "      <td>45.655877</td>\n",
              "      <td>48.484848</td>\n",
              "      <td>-2.828971</td>\n",
              "    </tr>\n",
              "    <tr>\n",
              "      <th>0</th>\n",
              "      <td>20</td>\n",
              "      <td>95.911414</td>\n",
              "      <td>43.939394</td>\n",
              "      <td>51.972020</td>\n",
              "    </tr>\n",
              "    <tr>\n",
              "      <th>7</th>\n",
              "      <td>160</td>\n",
              "      <td>95.741056</td>\n",
              "      <td>42.424242</td>\n",
              "      <td>53.316814</td>\n",
              "    </tr>\n",
              "    <tr>\n",
              "      <th>8</th>\n",
              "      <td>180</td>\n",
              "      <td>96.422487</td>\n",
              "      <td>42.424242</td>\n",
              "      <td>53.998245</td>\n",
              "    </tr>\n",
              "    <tr>\n",
              "      <th>5</th>\n",
              "      <td>120</td>\n",
              "      <td>96.763203</td>\n",
              "      <td>40.909091</td>\n",
              "      <td>55.854112</td>\n",
              "    </tr>\n",
              "    <tr>\n",
              "      <th>3</th>\n",
              "      <td>80</td>\n",
              "      <td>96.933560</td>\n",
              "      <td>40.909091</td>\n",
              "      <td>56.024470</td>\n",
              "    </tr>\n",
              "    <tr>\n",
              "      <th>4</th>\n",
              "      <td>100</td>\n",
              "      <td>96.933560</td>\n",
              "      <td>40.909091</td>\n",
              "      <td>56.024470</td>\n",
              "    </tr>\n",
              "    <tr>\n",
              "      <th>6</th>\n",
              "      <td>140</td>\n",
              "      <td>97.444634</td>\n",
              "      <td>40.909091</td>\n",
              "      <td>56.535543</td>\n",
              "    </tr>\n",
              "  </tbody>\n",
              "</table>\n",
              "</div>"
            ],
            "text/plain": [
              "   epochs  train accuracy  test accuracy  Difference\n",
              "1      40       45.655877      48.484848   -2.828971\n",
              "2      60       45.655877      48.484848   -2.828971\n",
              "0      20       95.911414      43.939394   51.972020\n",
              "7     160       95.741056      42.424242   53.316814\n",
              "8     180       96.422487      42.424242   53.998245\n",
              "5     120       96.763203      40.909091   55.854112\n",
              "3      80       96.933560      40.909091   56.024470\n",
              "4     100       96.933560      40.909091   56.024470\n",
              "6     140       97.444634      40.909091   56.535543"
            ]
          },
          "execution_count": 386,
          "metadata": {},
          "output_type": "execute_result"
        }
      ],
      "source": [
        "tuning.sort_values(by=\"Difference\")"
      ]
    },
    {
      "cell_type": "markdown",
      "id": "07e44b74",
      "metadata": {
        "id": "07e44b74"
      },
      "source": [
        "The best model is the one which is trained for 40 epochs. There can be many other hyperparameters but since Perceptron is coded from scratch those cannot be incorporated. The one with 80 epoches is not considered since the train accuracy must be greater than the test accuracy because the model is trained on the former."
      ]
    },
    {
      "cell_type": "markdown",
      "id": "6RjR8-Il_HaE",
      "metadata": {
        "id": "6RjR8-Il_HaE"
      },
      "source": [
        "Apply the perceptron to anyone of the dataset from the following link.\n",
        "\n",
        "https://www.kaggle.com/datasets?tags=14201-Binary+Classification\n",
        "\n",
        "Prepare the Part B and upload."
      ]
    },
    {
      "cell_type": "markdown",
      "id": "a58111ed",
      "metadata": {
        "id": "a58111ed"
      },
      "source": [
        "# References"
      ]
    },
    {
      "cell_type": "markdown",
      "id": "25a502ed",
      "metadata": {
        "id": "25a502ed"
      },
      "source": [
        "About Perceptron : https://analyticsindiamag.com/perceptron-is-the-only-neural-network-without-any-hidden-layer/\n",
        "\n",
        "For Perceptron from scratch : https://towardsdatascience.com/perceptron-algorithm-in-python-f3ac89d2e537\n",
        "\n",
        "Dataset : https://archive.ics.uci.edu/ml/datasets/credit+approval"
      ]
    }
  ],
  "metadata": {
    "colab": {
      "provenance": []
    },
    "kernelspec": {
      "display_name": "Python 3 (ipykernel)",
      "language": "python",
      "name": "python3"
    },
    "language_info": {
      "codemirror_mode": {
        "name": "ipython",
        "version": 3
      },
      "file_extension": ".py",
      "mimetype": "text/x-python",
      "name": "python",
      "nbconvert_exporter": "python",
      "pygments_lexer": "ipython3",
      "version": "3.11.6"
    }
  },
  "nbformat": 4,
  "nbformat_minor": 5
}
