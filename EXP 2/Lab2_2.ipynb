{
  "cells": [
    {
      "cell_type": "markdown",
      "id": "8e82c06f",
      "metadata": {
        "id": "8e82c06f"
      },
      "source": [
        "<ins><b>Neural Network & Deep Learning </b></ins>\n",
        "\n",
        "\n",
        "\n",
        "\n",
        "\n",
        "<ins><b>Lab-2:</b></ins> Multilayer Perceptron and Hyperparameter Tuning"
      ]
    },
    {
      "cell_type": "markdown",
      "id": "abaae8a1",
      "metadata": {
        "id": "abaae8a1"
      },
      "source": [
        "- Experiment the performance of the Multilayer Perceptron on the dataset used for Perceptron Implementation.\n",
        "- Moreover, tune a Multilayer Perceptron on the Adult Dataset."
      ]
    },
    {
      "cell_type": "markdown",
      "id": "95650274",
      "metadata": {
        "id": "95650274"
      },
      "source": [
        "# Importing the required modules"
      ]
    },
    {
      "cell_type": "code",
      "execution_count": 1,
      "id": "92e4a82c",
      "metadata": {
        "id": "92e4a82c"
      },
      "outputs": [],
      "source": [
        "# Modules used for data handling and linear algebra operations.\n",
        "import pandas as pd\n",
        "import numpy as np\n",
        "\n",
        "# Modules used for data visualization.\n",
        "import matplotlib.pyplot as plt\n",
        "import seaborn as sns\n",
        "sns.set_style()\n",
        "\n",
        "# Modules used for preprocessing\n",
        "from sklearn.preprocessing import OneHotEncoder\n",
        "\n",
        "# Modules used for Machine Learning models.\n",
        "from sklearn.linear_model import Perceptron\n",
        "from sklearn.neural_network import MLPClassifier\n",
        "\n",
        "# Modules used for hyperparameter tuning.\n",
        "from sklearn.model_selection import GridSearchCV\n",
        "from sklearn.model_selection import RandomizedSearchCV\n",
        "\n",
        "# Models used for evaluating the model.\n",
        "from sklearn import metrics\n",
        "from sklearn.model_selection import cross_val_score\n",
        "\n",
        "# Suppressing the warnings.\n",
        "import warnings\n",
        "warnings.filterwarnings('ignore')"
      ]
    },
    {
      "cell_type": "markdown",
      "id": "59f40ffe",
      "metadata": {
        "id": "59f40ffe"
      },
      "source": [
        "# Comparision of the Perceptron and MLP on Credit Card Approval Dataset"
      ]
    },
    {
      "cell_type": "markdown",
      "id": "bcd45dce",
      "metadata": {
        "id": "bcd45dce"
      },
      "source": [
        "## Reading the dataset"
      ]
    },
    {
      "cell_type": "code",
      "execution_count": 2,
      "id": "df298373",
      "metadata": {
        "id": "df298373"
      },
      "outputs": [],
      "source": [
        "df = pd.read_csv(\"cirrhosis.csv\", header=None)"
      ]
    },
    {
      "cell_type": "markdown",
      "id": "5a4a1425",
      "metadata": {
        "id": "5a4a1425"
      },
      "source": [
        "## Glimpse into the dataset"
      ]
    },
    {
      "cell_type": "code",
      "execution_count": 3,
      "id": "a7e7656c",
      "metadata": {
        "id": "a7e7656c",
        "outputId": "07994ba4-10c8-42fe-d462-af92f2bc4522"
      },
      "outputs": [
        {
          "data": {
            "text/html": [
              "<div>\n",
              "<style scoped>\n",
              "    .dataframe tbody tr th:only-of-type {\n",
              "        vertical-align: middle;\n",
              "    }\n",
              "\n",
              "    .dataframe tbody tr th {\n",
              "        vertical-align: top;\n",
              "    }\n",
              "\n",
              "    .dataframe thead th {\n",
              "        text-align: right;\n",
              "    }\n",
              "</style>\n",
              "<table border=\"1\" class=\"dataframe\">\n",
              "  <thead>\n",
              "    <tr style=\"text-align: right;\">\n",
              "      <th></th>\n",
              "      <th>0</th>\n",
              "      <th>1</th>\n",
              "      <th>2</th>\n",
              "      <th>3</th>\n",
              "      <th>4</th>\n",
              "      <th>5</th>\n",
              "      <th>6</th>\n",
              "      <th>7</th>\n",
              "      <th>8</th>\n",
              "      <th>9</th>\n",
              "      <th>10</th>\n",
              "      <th>11</th>\n",
              "      <th>12</th>\n",
              "      <th>13</th>\n",
              "      <th>14</th>\n",
              "      <th>15</th>\n",
              "      <th>16</th>\n",
              "      <th>17</th>\n",
              "      <th>18</th>\n",
              "      <th>19</th>\n",
              "    </tr>\n",
              "  </thead>\n",
              "  <tbody>\n",
              "    <tr>\n",
              "      <th>0</th>\n",
              "      <td>ID</td>\n",
              "      <td>N_Days</td>\n",
              "      <td>Status</td>\n",
              "      <td>Drug</td>\n",
              "      <td>Age</td>\n",
              "      <td>Sex</td>\n",
              "      <td>Ascites</td>\n",
              "      <td>Hepatomegaly</td>\n",
              "      <td>Spiders</td>\n",
              "      <td>Edema</td>\n",
              "      <td>Bilirubin</td>\n",
              "      <td>Cholesterol</td>\n",
              "      <td>Albumin</td>\n",
              "      <td>Copper</td>\n",
              "      <td>Alk_Phos</td>\n",
              "      <td>SGOT</td>\n",
              "      <td>Tryglicerides</td>\n",
              "      <td>Platelets</td>\n",
              "      <td>Prothrombin</td>\n",
              "      <td>Stage</td>\n",
              "    </tr>\n",
              "    <tr>\n",
              "      <th>1</th>\n",
              "      <td>1</td>\n",
              "      <td>400</td>\n",
              "      <td>D</td>\n",
              "      <td>D-penicillamine</td>\n",
              "      <td>21464</td>\n",
              "      <td>F</td>\n",
              "      <td>Y</td>\n",
              "      <td>Y</td>\n",
              "      <td>Y</td>\n",
              "      <td>Y</td>\n",
              "      <td>14.5</td>\n",
              "      <td>261</td>\n",
              "      <td>2.6</td>\n",
              "      <td>156</td>\n",
              "      <td>1718</td>\n",
              "      <td>137.95</td>\n",
              "      <td>172</td>\n",
              "      <td>190</td>\n",
              "      <td>12.2</td>\n",
              "      <td>4</td>\n",
              "    </tr>\n",
              "    <tr>\n",
              "      <th>2</th>\n",
              "      <td>2</td>\n",
              "      <td>4500</td>\n",
              "      <td>C</td>\n",
              "      <td>D-penicillamine</td>\n",
              "      <td>20617</td>\n",
              "      <td>F</td>\n",
              "      <td>N</td>\n",
              "      <td>Y</td>\n",
              "      <td>Y</td>\n",
              "      <td>N</td>\n",
              "      <td>1.1</td>\n",
              "      <td>302</td>\n",
              "      <td>4.14</td>\n",
              "      <td>54</td>\n",
              "      <td>7394.8</td>\n",
              "      <td>113.52</td>\n",
              "      <td>88</td>\n",
              "      <td>221</td>\n",
              "      <td>10.6</td>\n",
              "      <td>3</td>\n",
              "    </tr>\n",
              "    <tr>\n",
              "      <th>3</th>\n",
              "      <td>3</td>\n",
              "      <td>1012</td>\n",
              "      <td>D</td>\n",
              "      <td>D-penicillamine</td>\n",
              "      <td>25594</td>\n",
              "      <td>M</td>\n",
              "      <td>N</td>\n",
              "      <td>N</td>\n",
              "      <td>N</td>\n",
              "      <td>S</td>\n",
              "      <td>1.4</td>\n",
              "      <td>176</td>\n",
              "      <td>3.48</td>\n",
              "      <td>210</td>\n",
              "      <td>516</td>\n",
              "      <td>96.1</td>\n",
              "      <td>55</td>\n",
              "      <td>151</td>\n",
              "      <td>12</td>\n",
              "      <td>4</td>\n",
              "    </tr>\n",
              "    <tr>\n",
              "      <th>4</th>\n",
              "      <td>4</td>\n",
              "      <td>1925</td>\n",
              "      <td>D</td>\n",
              "      <td>D-penicillamine</td>\n",
              "      <td>19994</td>\n",
              "      <td>F</td>\n",
              "      <td>N</td>\n",
              "      <td>Y</td>\n",
              "      <td>Y</td>\n",
              "      <td>S</td>\n",
              "      <td>1.8</td>\n",
              "      <td>244</td>\n",
              "      <td>2.54</td>\n",
              "      <td>64</td>\n",
              "      <td>6121.8</td>\n",
              "      <td>60.63</td>\n",
              "      <td>92</td>\n",
              "      <td>183</td>\n",
              "      <td>10.3</td>\n",
              "      <td>4</td>\n",
              "    </tr>\n",
              "  </tbody>\n",
              "</table>\n",
              "</div>"
            ],
            "text/plain": [
              "   0       1       2                3      4    5        6             7   \\\n",
              "0  ID  N_Days  Status             Drug    Age  Sex  Ascites  Hepatomegaly   \n",
              "1   1     400       D  D-penicillamine  21464    F        Y             Y   \n",
              "2   2    4500       C  D-penicillamine  20617    F        N             Y   \n",
              "3   3    1012       D  D-penicillamine  25594    M        N             N   \n",
              "4   4    1925       D  D-penicillamine  19994    F        N             Y   \n",
              "\n",
              "        8      9          10           11       12      13        14      15  \\\n",
              "0  Spiders  Edema  Bilirubin  Cholesterol  Albumin  Copper  Alk_Phos    SGOT   \n",
              "1        Y      Y       14.5          261      2.6     156      1718  137.95   \n",
              "2        Y      N        1.1          302     4.14      54    7394.8  113.52   \n",
              "3        N      S        1.4          176     3.48     210       516    96.1   \n",
              "4        Y      S        1.8          244     2.54      64    6121.8   60.63   \n",
              "\n",
              "              16         17           18     19  \n",
              "0  Tryglicerides  Platelets  Prothrombin  Stage  \n",
              "1            172        190         12.2      4  \n",
              "2             88        221         10.6      3  \n",
              "3             55        151           12      4  \n",
              "4             92        183         10.3      4  "
            ]
          },
          "execution_count": 3,
          "metadata": {},
          "output_type": "execute_result"
        }
      ],
      "source": [
        "df.head()"
      ]
    },
    {
      "cell_type": "code",
      "execution_count": 4,
      "id": "7b7a7520",
      "metadata": {},
      "outputs": [],
      "source": [
        "headers = df.iloc[0]\n",
        "df  = pd.DataFrame(df.values[1:], columns=headers)"
      ]
    },
    {
      "cell_type": "code",
      "execution_count": 5,
      "id": "7c5cb41d",
      "metadata": {},
      "outputs": [
        {
          "data": {
            "text/html": [
              "<div>\n",
              "<style scoped>\n",
              "    .dataframe tbody tr th:only-of-type {\n",
              "        vertical-align: middle;\n",
              "    }\n",
              "\n",
              "    .dataframe tbody tr th {\n",
              "        vertical-align: top;\n",
              "    }\n",
              "\n",
              "    .dataframe thead th {\n",
              "        text-align: right;\n",
              "    }\n",
              "</style>\n",
              "<table border=\"1\" class=\"dataframe\">\n",
              "  <thead>\n",
              "    <tr style=\"text-align: right;\">\n",
              "      <th></th>\n",
              "      <th>ID</th>\n",
              "      <th>N_Days</th>\n",
              "      <th>Status</th>\n",
              "      <th>Drug</th>\n",
              "      <th>Age</th>\n",
              "      <th>Sex</th>\n",
              "      <th>Ascites</th>\n",
              "      <th>Hepatomegaly</th>\n",
              "      <th>Spiders</th>\n",
              "      <th>Edema</th>\n",
              "      <th>Bilirubin</th>\n",
              "      <th>Cholesterol</th>\n",
              "      <th>Albumin</th>\n",
              "      <th>Copper</th>\n",
              "      <th>Alk_Phos</th>\n",
              "      <th>SGOT</th>\n",
              "      <th>Tryglicerides</th>\n",
              "      <th>Platelets</th>\n",
              "      <th>Prothrombin</th>\n",
              "      <th>Stage</th>\n",
              "    </tr>\n",
              "  </thead>\n",
              "  <tbody>\n",
              "    <tr>\n",
              "      <th>0</th>\n",
              "      <td>1</td>\n",
              "      <td>400</td>\n",
              "      <td>D</td>\n",
              "      <td>D-penicillamine</td>\n",
              "      <td>21464</td>\n",
              "      <td>F</td>\n",
              "      <td>Y</td>\n",
              "      <td>Y</td>\n",
              "      <td>Y</td>\n",
              "      <td>Y</td>\n",
              "      <td>14.5</td>\n",
              "      <td>261</td>\n",
              "      <td>2.6</td>\n",
              "      <td>156</td>\n",
              "      <td>1718</td>\n",
              "      <td>137.95</td>\n",
              "      <td>172</td>\n",
              "      <td>190</td>\n",
              "      <td>12.2</td>\n",
              "      <td>4</td>\n",
              "    </tr>\n",
              "    <tr>\n",
              "      <th>1</th>\n",
              "      <td>2</td>\n",
              "      <td>4500</td>\n",
              "      <td>C</td>\n",
              "      <td>D-penicillamine</td>\n",
              "      <td>20617</td>\n",
              "      <td>F</td>\n",
              "      <td>N</td>\n",
              "      <td>Y</td>\n",
              "      <td>Y</td>\n",
              "      <td>N</td>\n",
              "      <td>1.1</td>\n",
              "      <td>302</td>\n",
              "      <td>4.14</td>\n",
              "      <td>54</td>\n",
              "      <td>7394.8</td>\n",
              "      <td>113.52</td>\n",
              "      <td>88</td>\n",
              "      <td>221</td>\n",
              "      <td>10.6</td>\n",
              "      <td>3</td>\n",
              "    </tr>\n",
              "    <tr>\n",
              "      <th>2</th>\n",
              "      <td>3</td>\n",
              "      <td>1012</td>\n",
              "      <td>D</td>\n",
              "      <td>D-penicillamine</td>\n",
              "      <td>25594</td>\n",
              "      <td>M</td>\n",
              "      <td>N</td>\n",
              "      <td>N</td>\n",
              "      <td>N</td>\n",
              "      <td>S</td>\n",
              "      <td>1.4</td>\n",
              "      <td>176</td>\n",
              "      <td>3.48</td>\n",
              "      <td>210</td>\n",
              "      <td>516</td>\n",
              "      <td>96.1</td>\n",
              "      <td>55</td>\n",
              "      <td>151</td>\n",
              "      <td>12</td>\n",
              "      <td>4</td>\n",
              "    </tr>\n",
              "    <tr>\n",
              "      <th>3</th>\n",
              "      <td>4</td>\n",
              "      <td>1925</td>\n",
              "      <td>D</td>\n",
              "      <td>D-penicillamine</td>\n",
              "      <td>19994</td>\n",
              "      <td>F</td>\n",
              "      <td>N</td>\n",
              "      <td>Y</td>\n",
              "      <td>Y</td>\n",
              "      <td>S</td>\n",
              "      <td>1.8</td>\n",
              "      <td>244</td>\n",
              "      <td>2.54</td>\n",
              "      <td>64</td>\n",
              "      <td>6121.8</td>\n",
              "      <td>60.63</td>\n",
              "      <td>92</td>\n",
              "      <td>183</td>\n",
              "      <td>10.3</td>\n",
              "      <td>4</td>\n",
              "    </tr>\n",
              "    <tr>\n",
              "      <th>4</th>\n",
              "      <td>5</td>\n",
              "      <td>1504</td>\n",
              "      <td>CL</td>\n",
              "      <td>Placebo</td>\n",
              "      <td>13918</td>\n",
              "      <td>F</td>\n",
              "      <td>N</td>\n",
              "      <td>Y</td>\n",
              "      <td>Y</td>\n",
              "      <td>N</td>\n",
              "      <td>3.4</td>\n",
              "      <td>279</td>\n",
              "      <td>3.53</td>\n",
              "      <td>143</td>\n",
              "      <td>671</td>\n",
              "      <td>113.15</td>\n",
              "      <td>72</td>\n",
              "      <td>136</td>\n",
              "      <td>10.9</td>\n",
              "      <td>3</td>\n",
              "    </tr>\n",
              "  </tbody>\n",
              "</table>\n",
              "</div>"
            ],
            "text/plain": [
              "0 ID N_Days Status             Drug    Age Sex Ascites Hepatomegaly Spiders  \\\n",
              "0  1    400      D  D-penicillamine  21464   F       Y            Y       Y   \n",
              "1  2   4500      C  D-penicillamine  20617   F       N            Y       Y   \n",
              "2  3   1012      D  D-penicillamine  25594   M       N            N       N   \n",
              "3  4   1925      D  D-penicillamine  19994   F       N            Y       Y   \n",
              "4  5   1504     CL          Placebo  13918   F       N            Y       Y   \n",
              "\n",
              "0 Edema Bilirubin Cholesterol Albumin Copper Alk_Phos    SGOT Tryglicerides  \\\n",
              "0     Y      14.5         261     2.6    156     1718  137.95           172   \n",
              "1     N       1.1         302    4.14     54   7394.8  113.52            88   \n",
              "2     S       1.4         176    3.48    210      516    96.1            55   \n",
              "3     S       1.8         244    2.54     64   6121.8   60.63            92   \n",
              "4     N       3.4         279    3.53    143      671  113.15            72   \n",
              "\n",
              "0 Platelets Prothrombin Stage  \n",
              "0       190        12.2     4  \n",
              "1       221        10.6     3  \n",
              "2       151          12     4  \n",
              "3       183        10.3     4  \n",
              "4       136        10.9     3  "
            ]
          },
          "execution_count": 5,
          "metadata": {},
          "output_type": "execute_result"
        }
      ],
      "source": [
        "df.head()"
      ]
    },
    {
      "cell_type": "code",
      "execution_count": 6,
      "id": "748c07d9",
      "metadata": {
        "id": "748c07d9",
        "outputId": "05d4dbf2-1594-4474-c6c8-bec987f5263a"
      },
      "outputs": [
        {
          "name": "stdout",
          "output_type": "stream",
          "text": [
            "<class 'pandas.core.frame.DataFrame'>\n",
            "RangeIndex: 418 entries, 0 to 417\n",
            "Data columns (total 20 columns):\n",
            " #   Column         Non-Null Count  Dtype \n",
            "---  ------         --------------  ----- \n",
            " 0   ID             418 non-null    object\n",
            " 1   N_Days         418 non-null    object\n",
            " 2   Status         418 non-null    object\n",
            " 3   Drug           312 non-null    object\n",
            " 4   Age            418 non-null    object\n",
            " 5   Sex            418 non-null    object\n",
            " 6   Ascites        312 non-null    object\n",
            " 7   Hepatomegaly   312 non-null    object\n",
            " 8   Spiders        312 non-null    object\n",
            " 9   Edema          418 non-null    object\n",
            " 10  Bilirubin      418 non-null    object\n",
            " 11  Cholesterol    284 non-null    object\n",
            " 12  Albumin        418 non-null    object\n",
            " 13  Copper         310 non-null    object\n",
            " 14  Alk_Phos       312 non-null    object\n",
            " 15  SGOT           312 non-null    object\n",
            " 16  Tryglicerides  282 non-null    object\n",
            " 17  Platelets      407 non-null    object\n",
            " 18  Prothrombin    416 non-null    object\n",
            " 19  Stage          412 non-null    object\n",
            "dtypes: object(20)\n",
            "memory usage: 65.4+ KB\n"
          ]
        }
      ],
      "source": [
        "df.info()"
      ]
    },
    {
      "cell_type": "markdown",
      "id": "9903e415",
      "metadata": {
        "id": "9903e415"
      },
      "source": [
        "## Data Type Distribution"
      ]
    },
    {
      "cell_type": "code",
      "execution_count": 7,
      "id": "019e285c",
      "metadata": {
        "id": "019e285c",
        "outputId": "4e6e6c9e-07c7-4659-de6e-328fb5dd0837"
      },
      "outputs": [
        {
          "data": {
            "image/png": "[encoded data removed]",
            "text/plain": [
              "<Figure size 640x480 with 1 Axes>"
            ]
          },
          "metadata": {},
          "output_type": "display_data"
        }
      ],
      "source": [
        "df.dtypes.value_counts().plot(kind=\"bar\",\n",
        "                              title=\"Types of Data\",\n",
        "                              xlabel=\"Data Type\",\n",
        "                              ylabel=\"No.of columns\",\n",
        "                              rot=0,\n",
        "                              color=[\"crimson\",\"orange\"])\n",
        "plt.show()"
      ]
    },
    {
      "cell_type": "markdown",
      "id": "647efcc7",
      "metadata": {
        "id": "647efcc7"
      },
      "source": [
        "Most of columns are categorical while the others are numerical."
      ]
    },
    {
      "cell_type": "markdown",
      "id": "cdb21e38",
      "metadata": {
        "id": "cdb21e38"
      },
      "source": [
        "## Seggragation of Columns"
      ]
    },
    {
      "cell_type": "code",
      "execution_count": 8,
      "id": "4328a639",
      "metadata": {
        "id": "4328a639"
      },
      "outputs": [],
      "source": [
        "cat_cols = []\n",
        "num_cols = []\n",
        "\n",
        "for i in df.columns:\n",
        "    if df[i].dtype == \"O\":\n",
        "        cat_cols.append(i)\n",
        "    else:\n",
        "        num_cols.append(i)"
      ]
    },
    {
      "cell_type": "markdown",
      "id": "8f3c4370",
      "metadata": {
        "id": "8f3c4370"
      },
      "source": [
        "## Missing Values Analysis"
      ]
    },
    {
      "cell_type": "code",
      "execution_count": 9,
      "id": "1bc0f341",
      "metadata": {
        "id": "1bc0f341"
      },
      "outputs": [],
      "source": [
        "null_freq = []\n",
        "for i in df.columns:\n",
        "    f = dict(df[i].value_counts())\n",
        "    if \"?\" in f.keys():\n",
        "        null_freq.append(f[\"?\"]*100/len(df))\n",
        "    else:\n",
        "        null_freq.append(0)"
      ]
    },
    {
      "cell_type": "code",
      "execution_count": 10,
      "id": "7fecc79b",
      "metadata": {
        "id": "7fecc79b",
        "outputId": "dc8dd508-a3a7-4888-a44c-31342a25be71"
      },
      "outputs": [
        {
          "data": {
            "image/png": "[encoded data removed]",
            "text/plain": [
              "<Figure size 640x480 with 1 Axes>"
            ]
          },
          "metadata": {},
          "output_type": "display_data"
        }
      ],
      "source": [
        "pd.Series(dict(zip(df.columns,null_freq))).plot(kind=\"bar\",\n",
        "                                                rot=90,\n",
        "                                                title=\"Missing Value Frequency\",\n",
        "                                                xlabel=\"Column Name\",\n",
        "                                                ylabel=\"Percentage of missing values\",\n",
        "                                                color=[\"orange\",\"crimson\"])\n",
        "plt.show()"
      ]
    },
    {
      "cell_type": "markdown",
      "id": "c3e5decb",
      "metadata": {
        "id": "c3e5decb"
      },
      "source": [
        "Only 2% of the rows are null and hence directly dropping them is feasible compared to imputation."
      ]
    },
    {
      "cell_type": "markdown",
      "id": "b29005a2",
      "metadata": {
        "id": "b29005a2"
      },
      "source": [
        "## Target Variable Analysis"
      ]
    },
    {
      "cell_type": "code",
      "execution_count": 11,
      "id": "bc52a9fe",
      "metadata": {
        "id": "bc52a9fe",
        "outputId": "0d06e8c3-2385-45b0-c92d-b430a1b791d5"
      },
      "outputs": [
        {
          "data": {
            "image/png": "[encoded data removed]",
            "text/plain": [
              "<Figure size 640x480 with 1 Axes>"
            ]
          },
          "metadata": {},
          "output_type": "display_data"
        }
      ],
      "source": [
        "df['Stage'].value_counts().plot(kind=\"bar\",\n",
        "                           title=\"Class Distribution\",\n",
        "                           xlabel=\"Status of Credit Card Approval\",\n",
        "                           ylabel=\"Frequency of the Status\",\n",
        "                           color=[\"crimson\",\"orange\"],\n",
        "                           rot=0)\n",
        "plt.show()"
      ]
    },
    {
      "cell_type": "markdown",
      "id": "c4328d74",
      "metadata": {
        "id": "c4328d74"
      },
      "source": [
        "The dataset is biased to class \"-\" since it has higher instances of that class compared to others."
      ]
    },
    {
      "cell_type": "markdown",
      "id": "491c434a",
      "metadata": {
        "id": "491c434a"
      },
      "source": [
        "## Pre-processing"
      ]
    },
    {
      "cell_type": "markdown",
      "id": "3244f4d8",
      "metadata": {
        "id": "3244f4d8"
      },
      "source": [
        "### Handling Missing Values"
      ]
    },
    {
      "cell_type": "code",
      "execution_count": 12,
      "id": "16d42de6",
      "metadata": {
        "id": "16d42de6"
      },
      "outputs": [],
      "source": [
        "df = df.replace({\"?\":None})"
      ]
    },
    {
      "cell_type": "code",
      "execution_count": 13,
      "id": "3007a83c",
      "metadata": {
        "id": "3007a83c"
      },
      "outputs": [],
      "source": [
        "df = df.dropna()"
      ]
    },
    {
      "cell_type": "markdown",
      "id": "32b7f2b5",
      "metadata": {
        "id": "32b7f2b5"
      },
      "source": [
        "### Encoding the categorical variables"
      ]
    },
    {
      "cell_type": "code",
      "execution_count": 14,
      "id": "0fa829fb",
      "metadata": {
        "id": "0fa829fb"
      },
      "outputs": [],
      "source": [
        "encoder = OneHotEncoder(sparse=False)\n",
        "for i in cat_cols:\n",
        "    df[i] = encoder.fit_transform(df[i].values.reshape(-1,1))"
      ]
    },
    {
      "cell_type": "code",
      "execution_count": 15,
      "id": "fe4263f3",
      "metadata": {
        "id": "fe4263f3"
      },
      "outputs": [],
      "source": [
        "df = df.reset_index()"
      ]
    },
    {
      "cell_type": "markdown",
      "id": "e0ae6720",
      "metadata": {
        "id": "e0ae6720"
      },
      "source": [
        "## Train-Test Split"
      ]
    },
    {
      "cell_type": "code",
      "execution_count": 16,
      "id": "6f29a0d3",
      "metadata": {
        "id": "6f29a0d3",
        "outputId": "b5ae38d0-44c8-4eb7-babb-b80cb30e66a5"
      },
      "outputs": [
        {
          "data": {
            "text/plain": [
              "184    0.0\n",
              "15     0.0\n",
              "55     1.0\n",
              "74     0.0\n",
              "188    0.0\n",
              "      ... \n",
              "71     0.0\n",
              "238    0.0\n",
              "210    0.0\n",
              "265    0.0\n",
              "258    0.0\n",
              "Name: Stage, Length: 83, dtype: float64"
            ]
          },
          "execution_count": 16,
          "metadata": {},
          "output_type": "execute_result"
        }
      ],
      "source": [
        "from sklearn.model_selection import train_test_split\n",
        "X_train,X_test,y_train,y_test = train_test_split(df,\n",
        "    df['Stage'],\n",
        "    test_size = 0.30,\n",
        "    train_size=0.70,\n",
        "    random_state = 0\n",
        ")\n",
        "X_train.pop('Stage')\n",
        "X_test.pop('Stage')"
      ]
    },
    {
      "cell_type": "markdown",
      "id": "48e5c9bf",
      "metadata": {
        "id": "48e5c9bf"
      },
      "source": [
        "## Perceptron"
      ]
    },
    {
      "cell_type": "markdown",
      "id": "acdeba61",
      "metadata": {
        "id": "acdeba61"
      },
      "source": [
        "### Training and Fitting the model"
      ]
    },
    {
      "cell_type": "code",
      "execution_count": 17,
      "id": "67f75d0e",
      "metadata": {
        "id": "67f75d0e"
      },
      "outputs": [],
      "source": [
        "clf = Perceptron(random_state=0)"
      ]
    },
    {
      "cell_type": "code",
      "execution_count": 18,
      "id": "43ac2f11",
      "metadata": {
        "id": "43ac2f11",
        "outputId": "a84a64ee-8ed7-4ef2-806e-3851382efb3b"
      },
      "outputs": [
        {
          "data": {
            "text/html": [
              "<style>#sk-container-id-1 {color: black;}#sk-container-id-1 pre{padding: 0;}#sk-container-id-1 div.sk-toggleable {background-color: white;}#sk-container-id-1 label.sk-toggleable__label {cursor: pointer;display: block;width: 100%;margin-bottom: 0;padding: 0.3em;box-sizing: border-box;text-align: center;}#sk-container-id-1 label.sk-toggleable__label-arrow:before {content: \"▸\";float: left;margin-right: 0.25em;color: #696969;}#sk-container-id-1 label.sk-toggleable__label-arrow:hover:before {color: black;}#sk-container-id-1 div.sk-estimator:hover label.sk-toggleable__label-arrow:before {color: black;}#sk-container-id-1 div.sk-toggleable__content {max-height: 0;max-width: 0;overflow: hidden;text-align: left;background-color: #f0f8ff;}#sk-container-id-1 div.sk-toggleable__content pre {margin: 0.2em;color: black;border-radius: 0.25em;background-color: #f0f8ff;}#sk-container-id-1 input.sk-toggleable__control:checked~div.sk-toggleable__content {max-height: 200px;max-width: 100%;overflow: auto;}#sk-container-id-1 input.sk-toggleable__control:checked~label.sk-toggleable__label-arrow:before {content: \"▾\";}#sk-container-id-1 div.sk-estimator input.sk-toggleable__control:checked~label.sk-toggleable__label {background-color: #d4ebff;}#sk-container-id-1 div.sk-label input.sk-toggleable__control:checked~label.sk-toggleable__label {background-color: #d4ebff;}#sk-container-id-1 input.sk-hidden--visually {border: 0;clip: rect(1px 1px 1px 1px);clip: rect(1px, 1px, 1px, 1px);height: 1px;margin: -1px;overflow: hidden;padding: 0;position: absolute;width: 1px;}#sk-container-id-1 div.sk-estimator {font-family: monospace;background-color: #f0f8ff;border: 1px dotted black;border-radius: 0.25em;box-sizing: border-box;margin-bottom: 0.5em;}#sk-container-id-1 div.sk-estimator:hover {background-color: #d4ebff;}#sk-container-id-1 div.sk-parallel-item::after {content: \"\";width: 100%;border-bottom: 1px solid gray;flex-grow: 1;}#sk-container-id-1 div.sk-label:hover label.sk-toggleable__label {background-color: #d4ebff;}#sk-container-id-1 div.sk-serial::before {content: \"\";position: absolute;border-left: 1px solid gray;box-sizing: border-box;top: 0;bottom: 0;left: 50%;z-index: 0;}#sk-container-id-1 div.sk-serial {display: flex;flex-direction: column;align-items: center;background-color: white;padding-right: 0.2em;padding-left: 0.2em;position: relative;}#sk-container-id-1 div.sk-item {position: relative;z-index: 1;}#sk-container-id-1 div.sk-parallel {display: flex;align-items: stretch;justify-content: center;background-color: white;position: relative;}#sk-container-id-1 div.sk-item::before, #sk-container-id-1 div.sk-parallel-item::before {content: \"\";position: absolute;border-left: 1px solid gray;box-sizing: border-box;top: 0;bottom: 0;left: 50%;z-index: -1;}#sk-container-id-1 div.sk-parallel-item {display: flex;flex-direction: column;z-index: 1;position: relative;background-color: white;}#sk-container-id-1 div.sk-parallel-item:first-child::after {align-self: flex-end;width: 50%;}#sk-container-id-1 div.sk-parallel-item:last-child::after {align-self: flex-start;width: 50%;}#sk-container-id-1 div.sk-parallel-item:only-child::after {width: 0;}#sk-container-id-1 div.sk-dashed-wrapped {border: 1px dashed gray;margin: 0 0.4em 0.5em 0.4em;box-sizing: border-box;padding-bottom: 0.4em;background-color: white;}#sk-container-id-1 div.sk-label label {font-family: monospace;font-weight: bold;display: inline-block;line-height: 1.2em;}#sk-container-id-1 div.sk-label-container {text-align: center;}#sk-container-id-1 div.sk-container {/* jupyter's `normalize.less` sets `[hidden] { display: none; }` but bootstrap.min.css set `[hidden] { display: none !important; }` so we also need the `!important` here to be able to override the default hidden behavior on the sphinx rendered scikit-learn.org. See: https://github.com/scikit-learn/scikit-learn/issues/21755 */display: inline-block !important;position: relative;}#sk-container-id-1 div.sk-text-repr-fallback {display: none;}</style><div id=\"sk-container-id-1\" class=\"sk-top-container\"><div class=\"sk-text-repr-fallback\"><pre>Perceptron()</pre><b>In a Jupyter environment, please rerun this cell to show the HTML representation or trust the notebook. <br />On GitHub, the HTML representation is unable to render, please try loading this page with nbviewer.org.</b></div><div class=\"sk-container\" hidden><div class=\"sk-item\"><div class=\"sk-estimator sk-toggleable\"><input class=\"sk-toggleable__control sk-hidden--visually\" id=\"sk-estimator-id-1\" type=\"checkbox\" checked><label for=\"sk-estimator-id-1\" class=\"sk-toggleable__label sk-toggleable__label-arrow\">Perceptron</label><div class=\"sk-toggleable__content\"><pre>Perceptron()</pre></div></div></div></div></div>"
            ],
            "text/plain": [
              "Perceptron()"
            ]
          },
          "execution_count": 18,
          "metadata": {},
          "output_type": "execute_result"
        }
      ],
      "source": [
        "clf.fit(X_train,y_train)"
      ]
    },
    {
      "cell_type": "markdown",
      "id": "b2a960be",
      "metadata": {
        "id": "b2a960be"
      },
      "source": [
        "### Validating the model"
      ]
    },
    {
      "cell_type": "markdown",
      "id": "b58dbd15",
      "metadata": {
        "id": "b58dbd15"
      },
      "source": [
        "#### Predictions from the model on the train and test dataset"
      ]
    },
    {
      "cell_type": "code",
      "execution_count": 19,
      "id": "fef31f98",
      "metadata": {
        "id": "fef31f98"
      },
      "outputs": [],
      "source": [
        "y_pred_train = clf.predict(X_train)\n",
        "y_pred_test = clf.predict(X_test)"
      ]
    },
    {
      "cell_type": "markdown",
      "id": "178b259b",
      "metadata": {
        "id": "178b259b"
      },
      "source": [
        "#### Accuracy on the train dataset"
      ]
    },
    {
      "cell_type": "code",
      "execution_count": 20,
      "id": "9befa2ca",
      "metadata": {
        "id": "9befa2ca",
        "outputId": "0fe0c12c-ab27-4201-c1f9-24ce2a2de195"
      },
      "outputs": [
        {
          "data": {
            "text/plain": [
              "0.9481865284974094"
            ]
          },
          "execution_count": 20,
          "metadata": {},
          "output_type": "execute_result"
        }
      ],
      "source": [
        "metrics.accuracy_score(y_true=y_train,y_pred=y_pred_train)"
      ]
    },
    {
      "cell_type": "markdown",
      "id": "dbe51ec4",
      "metadata": {
        "id": "dbe51ec4"
      },
      "source": [
        "#### Accuracy on the test dataset"
      ]
    },
    {
      "cell_type": "code",
      "execution_count": 21,
      "id": "46f00999",
      "metadata": {
        "id": "46f00999",
        "outputId": "cca03e25-5b76-402c-a30c-cc5b410d992f"
      },
      "outputs": [
        {
          "data": {
            "text/plain": [
              "0.9518072289156626"
            ]
          },
          "execution_count": 21,
          "metadata": {},
          "output_type": "execute_result"
        }
      ],
      "source": [
        "metrics.accuracy_score(y_true=y_test,y_pred=y_pred_test)"
      ]
    },
    {
      "cell_type": "markdown",
      "id": "733685c5",
      "metadata": {
        "id": "733685c5"
      },
      "source": [
        "## Multilayer Perceptron"
      ]
    },
    {
      "cell_type": "code",
      "execution_count": 22,
      "id": "7c8e7542",
      "metadata": {
        "id": "7c8e7542"
      },
      "outputs": [],
      "source": [
        "clf = MLPClassifier(hidden_layer_sizes=(100), max_iter=300,activation = 'relu',solver='adam',random_state=1).fit(X_train, y_train)"
      ]
    },
    {
      "cell_type": "code",
      "execution_count": 23,
      "id": "03d006ad",
      "metadata": {},
      "outputs": [
        {
          "data": {
            "image/png": "[encoded data removed]",
            "text/plain": [
              "<Figure size 1000x500 with 2 Axes>"
            ]
          },
          "metadata": {},
          "output_type": "display_data"
        }
      ],
      "source": [
        "from sklearn.neural_network import MLPClassifier\n",
        "import matplotlib.pyplot as plt\n",
        "\n",
        "# Assuming X_train, X_test, y_train, y_test are already defined\n",
        "\n",
        "# Create an MLPClassifier with specified parameters\n",
        "clf = MLPClassifier(hidden_layer_sizes=(100), max_iter=300, activation='relu', solver='adam', random_state=1)\n",
        "\n",
        "# Training the model with epochs\n",
        "epochs = 50  # Change this value as needed\n",
        "train_accuracy, test_accuracy = [], []\n",
        "train_loss, test_loss = [], []\n",
        "\n",
        "for epoch in range(epochs):\n",
        "    clf.partial_fit(X_train, y_train, classes=np.unique(y_train))\n",
        "    \n",
        "    # Training accuracy and loss\n",
        "    train_accuracy.append(clf.score(X_train, y_train))\n",
        "    train_loss.append(clf.loss_)\n",
        "    \n",
        "    # Testing accuracy and loss\n",
        "    test_accuracy.append(clf.score(X_test, y_test))\n",
        "    test_loss.append(clf.loss_)\n",
        "\n",
        "# Plotting accuracy\n",
        "plt.figure(figsize=(10, 5))\n",
        "\n",
        "plt.subplot(1, 2, 1)\n",
        "plt.plot(range(epochs), train_accuracy, label='Training Accuracy')\n",
        "plt.plot(range(epochs), test_accuracy, label='Testing Accuracy')\n",
        "plt.xlabel('Epochs')\n",
        "plt.ylabel('Accuracy')\n",
        "plt.legend()\n",
        "\n",
        "# Plotting loss\n",
        "plt.subplot(1, 2, 2)\n",
        "plt.plot(range(epochs), train_loss, label='Training Loss')\n",
        "plt.plot(range(epochs), test_loss, label='Testing Loss')\n",
        "plt.xlabel('Epochs')\n",
        "plt.ylabel('Loss')\n",
        "plt.legend()\n",
        "\n",
        "plt.tight_layout()\n",
        "plt.show()\n"
      ]
    },
    {
      "cell_type": "markdown",
      "id": "f6b634b8",
      "metadata": {
        "id": "f6b634b8"
      },
      "source": [
        "### Validating the model"
      ]
    },
    {
      "cell_type": "markdown",
      "id": "9237893d",
      "metadata": {
        "id": "9237893d"
      },
      "source": [
        "#### Predictions from the model"
      ]
    },
    {
      "cell_type": "code",
      "execution_count": 24,
      "id": "92e7247a",
      "metadata": {
        "id": "92e7247a"
      },
      "outputs": [],
      "source": [
        "y_pred_train = clf.predict(X_train)\n",
        "y_pred_test = clf.predict(X_test)"
      ]
    },
    {
      "cell_type": "markdown",
      "id": "d4ed6bc1",
      "metadata": {
        "id": "d4ed6bc1"
      },
      "source": [
        "#### Accuracy on the train dataset"
      ]
    },
    {
      "cell_type": "code",
      "execution_count": 25,
      "id": "47532e10",
      "metadata": {
        "id": "47532e10",
        "outputId": "7690947f-6fda-438e-cc5e-7424505ca109"
      },
      "outputs": [
        {
          "data": {
            "text/plain": [
              "0.9378238341968912"
            ]
          },
          "execution_count": 25,
          "metadata": {},
          "output_type": "execute_result"
        }
      ],
      "source": [
        "metrics.accuracy_score(y_true=y_train,y_pred=y_pred_train)"
      ]
    },
    {
      "cell_type": "markdown",
      "id": "21be6390",
      "metadata": {
        "id": "21be6390"
      },
      "source": [
        "#### Accuracy on the test dataset"
      ]
    },
    {
      "cell_type": "code",
      "execution_count": 26,
      "id": "5a3f6347",
      "metadata": {
        "id": "5a3f6347",
        "outputId": "394d7a42-7c44-4353-a2c1-60bbfd102f4f"
      },
      "outputs": [
        {
          "data": {
            "text/plain": [
              "0.927710843373494"
            ]
          },
          "execution_count": 26,
          "metadata": {},
          "output_type": "execute_result"
        }
      ],
      "source": [
        "metrics.accuracy_score(y_true=y_test,y_pred=y_pred_test)"
      ]
    },
    {
      "cell_type": "markdown",
      "id": "c5d16764",
      "metadata": {
        "id": "c5d16764"
      },
      "source": [
        "## Comparative Inferences"
      ]
    },
    {
      "cell_type": "markdown",
      "id": "f05ba37d",
      "metadata": {
        "id": "f05ba37d"
      },
      "source": [
        "- The Perceptron model gives an accuracy of 67% and 75% on the test and train dataset respectively.\n",
        "- The MLP model gives an accuracy of 78% and 79% on the test and train dataset respectively.\n",
        "- Addition of hidden layers gives better results indicating the dataset is not linearly separable.\n",
        "- The MLP is able to learn a non-linear decision boundary compared to Perceptron which is a linear classifier."
      ]
    }
  ],
  "metadata": {
    "colab": {
      "provenance": []
    },
    "kernelspec": {
      "display_name": "Python 3 (ipykernel)",
      "language": "python",
      "name": "python3"
    },
    "language_info": {
      "codemirror_mode": {
        "name": "ipython",
        "version": 3
      },
      "file_extension": ".py",
      "mimetype": "text/x-python",
      "name": "python",
      "nbconvert_exporter": "python",
      "pygments_lexer": "ipython3",
      "version": "3.11.6"
    }
  },
  "nbformat": 4,
  "nbformat_minor": 5
}
