{
  "cells": [
    {
      "cell_type": "code",
      "execution_count": 156,
      "id": "e1222e8f",
      "metadata": {},
      "outputs": [],
      "source": [
        "# Samarth Borade\n",
        "# BTI SEM 10 \n",
        "# C009\n",
        "# EXP 1\n",
        "# Aim: Implementing Multilayer Perceptron "
      ]
    },
    {
      "cell_type": "markdown",
      "id": "8e82c06f",
      "metadata": {
        "id": "8e82c06f"
      },
      "source": [
        "<ins><b>Neural Network & Deep Learning </b></ins>\n",
        "\n",
        "\n",
        "\n",
        "\n",
        "\n",
        "<ins><b>Lab-2:</b></ins> Multilayer Perceptron and Hyperparameter Tuning"
      ]
    },
    {
      "cell_type": "markdown",
      "id": "abaae8a1",
      "metadata": {
        "id": "abaae8a1"
      },
      "source": [
        "- Experiment the performance of the Multilayer Perceptron on the dataset used for Perceptron Implementation.\n",
        "- Moreover, tune a Multilayer Perceptron on the Adult Dataset."
      ]
    },
    {
      "cell_type": "markdown",
      "id": "95650274",
      "metadata": {
        "id": "95650274"
      },
      "source": [
        "# Importing the required modules"
      ]
    },
    {
      "cell_type": "code",
      "execution_count": 157,
      "id": "92e4a82c",
      "metadata": {
        "id": "92e4a82c"
      },
      "outputs": [],
      "source": [
        "# Modules used for data handling and linear algebra operations.\n",
        "import pandas as pd\n",
        "import numpy as np\n",
        "\n",
        "# Modules used for data visualization.\n",
        "import matplotlib.pyplot as plt\n",
        "import seaborn as sns\n",
        "sns.set_style()\n",
        "\n",
        "# Modules used for preprocessing\n",
        "from sklearn.preprocessing import OneHotEncoder\n",
        "\n",
        "# Modules used for Machine Learning models.\n",
        "from sklearn.linear_model import Perceptron\n",
        "from sklearn.neural_network import MLPClassifier\n",
        "\n",
        "# Modules used for hyperparameter tuning.\n",
        "from sklearn.model_selection import GridSearchCV\n",
        "from sklearn.model_selection import RandomizedSearchCV\n",
        "\n",
        "# Models used for evaluating the model.\n",
        "from sklearn import metrics\n",
        "from sklearn.model_selection import cross_val_score\n",
        "\n",
        "# Suppressing the warnings.\n",
        "import warnings\n",
        "warnings.filterwarnings('ignore')"
      ]
    },
    {
      "cell_type": "markdown",
      "id": "59f40ffe",
      "metadata": {
        "id": "59f40ffe"
      },
      "source": [
        "# Comparision of the Perceptron and MLP on Credit Card Approval Dataset"
      ]
    },
    {
      "cell_type": "markdown",
      "id": "bcd45dce",
      "metadata": {
        "id": "bcd45dce"
      },
      "source": [
        "## Reading the dataset"
      ]
    },
    {
      "cell_type": "code",
      "execution_count": 158,
      "id": "df298373",
      "metadata": {
        "id": "df298373"
      },
      "outputs": [],
      "source": [
        "df = pd.read_csv(\"crx.csv\", header=None)"
      ]
    },
    {
      "cell_type": "markdown",
      "id": "5a4a1425",
      "metadata": {
        "id": "5a4a1425"
      },
      "source": [
        "## Glimpse into the dataset"
      ]
    },
    {
      "cell_type": "code",
      "execution_count": 159,
      "id": "a7e7656c",
      "metadata": {
        "id": "a7e7656c",
        "outputId": "07994ba4-10c8-42fe-d462-af92f2bc4522"
      },
      "outputs": [
        {
          "data": {
            "text/html": [
              "<div>\n",
              "<style scoped>\n",
              "    .dataframe tbody tr th:only-of-type {\n",
              "        vertical-align: middle;\n",
              "    }\n",
              "\n",
              "    .dataframe tbody tr th {\n",
              "        vertical-align: top;\n",
              "    }\n",
              "\n",
              "    .dataframe thead th {\n",
              "        text-align: right;\n",
              "    }\n",
              "</style>\n",
              "<table border=\"1\" class=\"dataframe\">\n",
              "  <thead>\n",
              "    <tr style=\"text-align: right;\">\n",
              "      <th></th>\n",
              "      <th>0</th>\n",
              "      <th>1</th>\n",
              "      <th>2</th>\n",
              "      <th>3</th>\n",
              "      <th>4</th>\n",
              "      <th>5</th>\n",
              "      <th>6</th>\n",
              "      <th>7</th>\n",
              "      <th>8</th>\n",
              "      <th>9</th>\n",
              "      <th>10</th>\n",
              "      <th>11</th>\n",
              "      <th>12</th>\n",
              "      <th>13</th>\n",
              "      <th>14</th>\n",
              "      <th>15</th>\n",
              "    </tr>\n",
              "  </thead>\n",
              "  <tbody>\n",
              "    <tr>\n",
              "      <th>0</th>\n",
              "      <td>a1</td>\n",
              "      <td>a2</td>\n",
              "      <td>s3</td>\n",
              "      <td>a4</td>\n",
              "      <td>a5</td>\n",
              "      <td>a6</td>\n",
              "      <td>a7</td>\n",
              "      <td>a8</td>\n",
              "      <td>a9</td>\n",
              "      <td>a10</td>\n",
              "      <td>a11</td>\n",
              "      <td>a12</td>\n",
              "      <td>a13</td>\n",
              "      <td>a14</td>\n",
              "      <td>a15</td>\n",
              "      <td>a16</td>\n",
              "    </tr>\n",
              "    <tr>\n",
              "      <th>1</th>\n",
              "      <td>b</td>\n",
              "      <td>30.83</td>\n",
              "      <td>0</td>\n",
              "      <td>u</td>\n",
              "      <td>g</td>\n",
              "      <td>w</td>\n",
              "      <td>v</td>\n",
              "      <td>1.25</td>\n",
              "      <td>t</td>\n",
              "      <td>t</td>\n",
              "      <td>1</td>\n",
              "      <td>f</td>\n",
              "      <td>g</td>\n",
              "      <td>202</td>\n",
              "      <td>0</td>\n",
              "      <td>+</td>\n",
              "    </tr>\n",
              "    <tr>\n",
              "      <th>2</th>\n",
              "      <td>a</td>\n",
              "      <td>58.67</td>\n",
              "      <td>4.46</td>\n",
              "      <td>u</td>\n",
              "      <td>g</td>\n",
              "      <td>q</td>\n",
              "      <td>h</td>\n",
              "      <td>3.04</td>\n",
              "      <td>t</td>\n",
              "      <td>t</td>\n",
              "      <td>6</td>\n",
              "      <td>f</td>\n",
              "      <td>g</td>\n",
              "      <td>43</td>\n",
              "      <td>560</td>\n",
              "      <td>+</td>\n",
              "    </tr>\n",
              "    <tr>\n",
              "      <th>3</th>\n",
              "      <td>a</td>\n",
              "      <td>24.5</td>\n",
              "      <td>0.5</td>\n",
              "      <td>u</td>\n",
              "      <td>g</td>\n",
              "      <td>q</td>\n",
              "      <td>h</td>\n",
              "      <td>1.5</td>\n",
              "      <td>t</td>\n",
              "      <td>f</td>\n",
              "      <td>0</td>\n",
              "      <td>f</td>\n",
              "      <td>g</td>\n",
              "      <td>280</td>\n",
              "      <td>824</td>\n",
              "      <td>+</td>\n",
              "    </tr>\n",
              "    <tr>\n",
              "      <th>4</th>\n",
              "      <td>b</td>\n",
              "      <td>27.83</td>\n",
              "      <td>1.54</td>\n",
              "      <td>u</td>\n",
              "      <td>g</td>\n",
              "      <td>w</td>\n",
              "      <td>v</td>\n",
              "      <td>3.75</td>\n",
              "      <td>t</td>\n",
              "      <td>t</td>\n",
              "      <td>5</td>\n",
              "      <td>t</td>\n",
              "      <td>g</td>\n",
              "      <td>100</td>\n",
              "      <td>3</td>\n",
              "      <td>+</td>\n",
              "    </tr>\n",
              "  </tbody>\n",
              "</table>\n",
              "</div>"
            ],
            "text/plain": [
              "   0      1     2   3   4   5   6     7   8    9    10   11   12   13   14  \\\n",
              "0  a1     a2    s3  a4  a5  a6  a7    a8  a9  a10  a11  a12  a13  a14  a15   \n",
              "1   b  30.83     0   u   g   w   v  1.25   t    t    1    f    g  202    0   \n",
              "2   a  58.67  4.46   u   g   q   h  3.04   t    t    6    f    g   43  560   \n",
              "3   a   24.5   0.5   u   g   q   h   1.5   t    f    0    f    g  280  824   \n",
              "4   b  27.83  1.54   u   g   w   v  3.75   t    t    5    t    g  100    3   \n",
              "\n",
              "    15  \n",
              "0  a16  \n",
              "1    +  \n",
              "2    +  \n",
              "3    +  \n",
              "4    +  "
            ]
          },
          "execution_count": 159,
          "metadata": {},
          "output_type": "execute_result"
        }
      ],
      "source": [
        "df.head()"
      ]
    },
    {
      "cell_type": "code",
      "execution_count": 160,
      "id": "7b7a7520",
      "metadata": {},
      "outputs": [],
      "source": [
        "headers = df.iloc[0]\n",
        "df  = pd.DataFrame(df.values[1:], columns=headers)"
      ]
    },
    {
      "cell_type": "code",
      "execution_count": 161,
      "id": "7c5cb41d",
      "metadata": {},
      "outputs": [
        {
          "data": {
            "text/html": [
              "<div>\n",
              "<style scoped>\n",
              "    .dataframe tbody tr th:only-of-type {\n",
              "        vertical-align: middle;\n",
              "    }\n",
              "\n",
              "    .dataframe tbody tr th {\n",
              "        vertical-align: top;\n",
              "    }\n",
              "\n",
              "    .dataframe thead th {\n",
              "        text-align: right;\n",
              "    }\n",
              "</style>\n",
              "<table border=\"1\" class=\"dataframe\">\n",
              "  <thead>\n",
              "    <tr style=\"text-align: right;\">\n",
              "      <th></th>\n",
              "      <th>a1</th>\n",
              "      <th>a2</th>\n",
              "      <th>s3</th>\n",
              "      <th>a4</th>\n",
              "      <th>a5</th>\n",
              "      <th>a6</th>\n",
              "      <th>a7</th>\n",
              "      <th>a8</th>\n",
              "      <th>a9</th>\n",
              "      <th>a10</th>\n",
              "      <th>a11</th>\n",
              "      <th>a12</th>\n",
              "      <th>a13</th>\n",
              "      <th>a14</th>\n",
              "      <th>a15</th>\n",
              "      <th>a16</th>\n",
              "    </tr>\n",
              "  </thead>\n",
              "  <tbody>\n",
              "    <tr>\n",
              "      <th>0</th>\n",
              "      <td>b</td>\n",
              "      <td>30.83</td>\n",
              "      <td>0</td>\n",
              "      <td>u</td>\n",
              "      <td>g</td>\n",
              "      <td>w</td>\n",
              "      <td>v</td>\n",
              "      <td>1.25</td>\n",
              "      <td>t</td>\n",
              "      <td>t</td>\n",
              "      <td>1</td>\n",
              "      <td>f</td>\n",
              "      <td>g</td>\n",
              "      <td>202</td>\n",
              "      <td>0</td>\n",
              "      <td>+</td>\n",
              "    </tr>\n",
              "    <tr>\n",
              "      <th>1</th>\n",
              "      <td>a</td>\n",
              "      <td>58.67</td>\n",
              "      <td>4.46</td>\n",
              "      <td>u</td>\n",
              "      <td>g</td>\n",
              "      <td>q</td>\n",
              "      <td>h</td>\n",
              "      <td>3.04</td>\n",
              "      <td>t</td>\n",
              "      <td>t</td>\n",
              "      <td>6</td>\n",
              "      <td>f</td>\n",
              "      <td>g</td>\n",
              "      <td>43</td>\n",
              "      <td>560</td>\n",
              "      <td>+</td>\n",
              "    </tr>\n",
              "    <tr>\n",
              "      <th>2</th>\n",
              "      <td>a</td>\n",
              "      <td>24.5</td>\n",
              "      <td>0.5</td>\n",
              "      <td>u</td>\n",
              "      <td>g</td>\n",
              "      <td>q</td>\n",
              "      <td>h</td>\n",
              "      <td>1.5</td>\n",
              "      <td>t</td>\n",
              "      <td>f</td>\n",
              "      <td>0</td>\n",
              "      <td>f</td>\n",
              "      <td>g</td>\n",
              "      <td>280</td>\n",
              "      <td>824</td>\n",
              "      <td>+</td>\n",
              "    </tr>\n",
              "    <tr>\n",
              "      <th>3</th>\n",
              "      <td>b</td>\n",
              "      <td>27.83</td>\n",
              "      <td>1.54</td>\n",
              "      <td>u</td>\n",
              "      <td>g</td>\n",
              "      <td>w</td>\n",
              "      <td>v</td>\n",
              "      <td>3.75</td>\n",
              "      <td>t</td>\n",
              "      <td>t</td>\n",
              "      <td>5</td>\n",
              "      <td>t</td>\n",
              "      <td>g</td>\n",
              "      <td>100</td>\n",
              "      <td>3</td>\n",
              "      <td>+</td>\n",
              "    </tr>\n",
              "    <tr>\n",
              "      <th>4</th>\n",
              "      <td>b</td>\n",
              "      <td>20.17</td>\n",
              "      <td>5.625</td>\n",
              "      <td>u</td>\n",
              "      <td>g</td>\n",
              "      <td>w</td>\n",
              "      <td>v</td>\n",
              "      <td>1.71</td>\n",
              "      <td>t</td>\n",
              "      <td>f</td>\n",
              "      <td>0</td>\n",
              "      <td>f</td>\n",
              "      <td>s</td>\n",
              "      <td>120</td>\n",
              "      <td>0</td>\n",
              "      <td>+</td>\n",
              "    </tr>\n",
              "  </tbody>\n",
              "</table>\n",
              "</div>"
            ],
            "text/plain": [
              "0 a1     a2     s3 a4 a5 a6 a7    a8 a9 a10 a11 a12 a13  a14  a15 a16\n",
              "0  b  30.83      0  u  g  w  v  1.25  t   t   1   f   g  202    0   +\n",
              "1  a  58.67   4.46  u  g  q  h  3.04  t   t   6   f   g   43  560   +\n",
              "2  a   24.5    0.5  u  g  q  h   1.5  t   f   0   f   g  280  824   +\n",
              "3  b  27.83   1.54  u  g  w  v  3.75  t   t   5   t   g  100    3   +\n",
              "4  b  20.17  5.625  u  g  w  v  1.71  t   f   0   f   s  120    0   +"
            ]
          },
          "execution_count": 161,
          "metadata": {},
          "output_type": "execute_result"
        }
      ],
      "source": [
        "df.head()"
      ]
    },
    {
      "cell_type": "code",
      "execution_count": 162,
      "id": "748c07d9",
      "metadata": {
        "id": "748c07d9",
        "outputId": "05d4dbf2-1594-4474-c6c8-bec987f5263a"
      },
      "outputs": [
        {
          "name": "stdout",
          "output_type": "stream",
          "text": [
            "<class 'pandas.core.frame.DataFrame'>\n",
            "RangeIndex: 690 entries, 0 to 689\n",
            "Data columns (total 16 columns):\n",
            " #   Column  Non-Null Count  Dtype \n",
            "---  ------  --------------  ----- \n",
            " 0   a1      690 non-null    object\n",
            " 1   a2      690 non-null    object\n",
            " 2   s3      690 non-null    object\n",
            " 3   a4      690 non-null    object\n",
            " 4   a5      690 non-null    object\n",
            " 5   a6      690 non-null    object\n",
            " 6   a7      690 non-null    object\n",
            " 7   a8      690 non-null    object\n",
            " 8   a9      690 non-null    object\n",
            " 9   a10     690 non-null    object\n",
            " 10  a11     690 non-null    object\n",
            " 11  a12     690 non-null    object\n",
            " 12  a13     690 non-null    object\n",
            " 13  a14     690 non-null    object\n",
            " 14  a15     690 non-null    object\n",
            " 15  a16     690 non-null    object\n",
            "dtypes: object(16)\n",
            "memory usage: 86.4+ KB\n"
          ]
        }
      ],
      "source": [
        "df.info()"
      ]
    },
    {
      "cell_type": "markdown",
      "id": "9903e415",
      "metadata": {
        "id": "9903e415"
      },
      "source": [
        "## Data Type Distribution"
      ]
    },
    {
      "cell_type": "code",
      "execution_count": 163,
      "id": "019e285c",
      "metadata": {
        "id": "019e285c",
        "outputId": "4e6e6c9e-07c7-4659-de6e-328fb5dd0837"
      },
      "outputs": [
        {
          "data": {
            "image/png": "[encoded data removed]",
            "text/plain": [
              "<Figure size 640x480 with 1 Axes>"
            ]
          },
          "metadata": {},
          "output_type": "display_data"
        }
      ],
      "source": [
        "df.dtypes.value_counts().plot(kind=\"bar\",\n",
        "                              title=\"Types of Data\",\n",
        "                              xlabel=\"Data Type\",\n",
        "                              ylabel=\"No.of columns\",\n",
        "                              rot=0,\n",
        "                              color=[\"crimson\",\"orange\"])\n",
        "plt.show()"
      ]
    },
    {
      "cell_type": "markdown",
      "id": "647efcc7",
      "metadata": {
        "id": "647efcc7"
      },
      "source": [
        "Most of columns are categorical while the others are numerical."
      ]
    },
    {
      "cell_type": "markdown",
      "id": "cdb21e38",
      "metadata": {
        "id": "cdb21e38"
      },
      "source": [
        "## Seggragation of Columns"
      ]
    },
    {
      "cell_type": "code",
      "execution_count": 164,
      "id": "4328a639",
      "metadata": {
        "id": "4328a639"
      },
      "outputs": [],
      "source": [
        "cat_cols = []\n",
        "num_cols = []\n",
        "\n",
        "for i in df.columns:\n",
        "    if df[i].dtype == \"O\":\n",
        "        cat_cols.append(i)\n",
        "    else:\n",
        "        num_cols.append(i)"
      ]
    },
    {
      "cell_type": "markdown",
      "id": "8f3c4370",
      "metadata": {
        "id": "8f3c4370"
      },
      "source": [
        "## Missing Values Analysis"
      ]
    },
    {
      "cell_type": "code",
      "execution_count": 165,
      "id": "1bc0f341",
      "metadata": {
        "id": "1bc0f341"
      },
      "outputs": [],
      "source": [
        "null_freq = []\n",
        "for i in df.columns:\n",
        "    f = dict(df[i].value_counts())\n",
        "    if \"?\" in f.keys():\n",
        "        null_freq.append(f[\"?\"]*100/len(df))\n",
        "    else:\n",
        "        null_freq.append(0)"
      ]
    },
    {
      "cell_type": "code",
      "execution_count": 166,
      "id": "7fecc79b",
      "metadata": {
        "id": "7fecc79b",
        "outputId": "dc8dd508-a3a7-4888-a44c-31342a25be71"
      },
      "outputs": [
        {
          "data": {
            "image/png": "[encoded data removed]",
            "text/plain": [
              "<Figure size 640x480 with 1 Axes>"
            ]
          },
          "metadata": {},
          "output_type": "display_data"
        }
      ],
      "source": [
        "pd.Series(dict(zip(df.columns,null_freq))).plot(kind=\"bar\",\n",
        "                                                rot=0,\n",
        "                                                title=\"Missing Value Frequency\",\n",
        "                                                xlabel=\"Column Name\",\n",
        "                                                ylabel=\"Percentage of missing values\",\n",
        "                                                color=[\"orange\",\"crimson\"])\n",
        "plt.show()"
      ]
    },
    {
      "cell_type": "markdown",
      "id": "c3e5decb",
      "metadata": {
        "id": "c3e5decb"
      },
      "source": [
        "Only 2% of the rows are null and hence directly dropping them is feasible compared to imputation."
      ]
    },
    {
      "cell_type": "markdown",
      "id": "b29005a2",
      "metadata": {
        "id": "b29005a2"
      },
      "source": [
        "## Target Variable Analysis"
      ]
    },
    {
      "cell_type": "code",
      "execution_count": 167,
      "id": "bc52a9fe",
      "metadata": {
        "id": "bc52a9fe",
        "outputId": "0d06e8c3-2385-45b0-c92d-b430a1b791d5"
      },
      "outputs": [
        {
          "data": {
            "image/png": "[encoded data removed]",
            "text/plain": [
              "<Figure size 640x480 with 1 Axes>"
            ]
          },
          "metadata": {},
          "output_type": "display_data"
        }
      ],
      "source": [
        "df['a16'].value_counts().plot(kind=\"bar\",\n",
        "                           title=\"Class Distribution\",\n",
        "                           xlabel=\"Status of Credit Card Approval\",\n",
        "                           ylabel=\"Frequency of the Status\",\n",
        "                           color=[\"crimson\",\"orange\"],\n",
        "                           rot=0)\n",
        "plt.show()"
      ]
    },
    {
      "cell_type": "markdown",
      "id": "c4328d74",
      "metadata": {
        "id": "c4328d74"
      },
      "source": [
        "The dataset is biased to class \"-\" since it has higher instances of that class compared to others."
      ]
    },
    {
      "cell_type": "markdown",
      "id": "491c434a",
      "metadata": {
        "id": "491c434a"
      },
      "source": [
        "## Pre-processing"
      ]
    },
    {
      "cell_type": "markdown",
      "id": "3244f4d8",
      "metadata": {
        "id": "3244f4d8"
      },
      "source": [
        "### Handling Missing Values"
      ]
    },
    {
      "cell_type": "code",
      "execution_count": 168,
      "id": "16d42de6",
      "metadata": {
        "id": "16d42de6"
      },
      "outputs": [],
      "source": [
        "df = df.replace({\"?\":None})"
      ]
    },
    {
      "cell_type": "code",
      "execution_count": 169,
      "id": "3007a83c",
      "metadata": {
        "id": "3007a83c"
      },
      "outputs": [],
      "source": [
        "df = df.dropna()"
      ]
    },
    {
      "cell_type": "markdown",
      "id": "32b7f2b5",
      "metadata": {
        "id": "32b7f2b5"
      },
      "source": [
        "### Encoding the categorical variables"
      ]
    },
    {
      "cell_type": "code",
      "execution_count": 170,
      "id": "0fa829fb",
      "metadata": {
        "id": "0fa829fb"
      },
      "outputs": [],
      "source": [
        "encoder = OneHotEncoder(sparse=False)\n",
        "for i in cat_cols:\n",
        "    df[i] = encoder.fit_transform(df[i].values.reshape(-1,1))"
      ]
    },
    {
      "cell_type": "code",
      "execution_count": 171,
      "id": "fe4263f3",
      "metadata": {
        "id": "fe4263f3"
      },
      "outputs": [],
      "source": [
        "df = df.reset_index()"
      ]
    },
    {
      "cell_type": "markdown",
      "id": "e0ae6720",
      "metadata": {
        "id": "e0ae6720"
      },
      "source": [
        "## Train-Test Split"
      ]
    },
    {
      "cell_type": "code",
      "execution_count": 172,
      "id": "6f29a0d3",
      "metadata": {
        "id": "6f29a0d3",
        "outputId": "b5ae38d0-44c8-4eb7-babb-b80cb30e66a5"
      },
      "outputs": [
        {
          "data": {
            "text/plain": [
              "535    1.0\n",
              "492    1.0\n",
              "14     1.0\n",
              "247    0.0\n",
              "85     0.0\n",
              "      ... \n",
              "178    1.0\n",
              "603    0.0\n",
              "312    0.0\n",
              "172    1.0\n",
              "97     0.0\n",
              "Name: a16, Length: 196, dtype: float64"
            ]
          },
          "execution_count": 172,
          "metadata": {},
          "output_type": "execute_result"
        }
      ],
      "source": [
        "from sklearn.model_selection import train_test_split\n",
        "X_train,X_test,y_train,y_test = train_test_split(df,\n",
        "    df['a16'],\n",
        "    test_size = 0.30,\n",
        "    train_size=0.70,\n",
        "    random_state = 0\n",
        ")\n",
        "X_train.pop('a16')\n",
        "X_test.pop('a16')"
      ]
    },
    {
      "cell_type": "markdown",
      "id": "48e5c9bf",
      "metadata": {
        "id": "48e5c9bf"
      },
      "source": [
        "## Perceptron"
      ]
    },
    {
      "cell_type": "markdown",
      "id": "acdeba61",
      "metadata": {
        "id": "acdeba61"
      },
      "source": [
        "### Training and Fitting the model"
      ]
    },
    {
      "cell_type": "code",
      "execution_count": 173,
      "id": "67f75d0e",
      "metadata": {
        "id": "67f75d0e"
      },
      "outputs": [],
      "source": [
        "clf = Perceptron(random_state=0)"
      ]
    },
    {
      "cell_type": "code",
      "execution_count": 174,
      "id": "43ac2f11",
      "metadata": {
        "id": "43ac2f11",
        "outputId": "a84a64ee-8ed7-4ef2-806e-3851382efb3b"
      },
      "outputs": [
        {
          "data": {
            "text/plain": [
              "Perceptron()"
            ]
          },
          "execution_count": 174,
          "metadata": {},
          "output_type": "execute_result"
        }
      ],
      "source": [
        "clf.fit(X_train,y_train)"
      ]
    },
    {
      "cell_type": "markdown",
      "id": "b2a960be",
      "metadata": {
        "id": "b2a960be"
      },
      "source": [
        "### Validating the model"
      ]
    },
    {
      "cell_type": "markdown",
      "id": "b58dbd15",
      "metadata": {
        "id": "b58dbd15"
      },
      "source": [
        "#### Predictions from the model on the train and test dataset"
      ]
    },
    {
      "cell_type": "code",
      "execution_count": 175,
      "id": "fef31f98",
      "metadata": {
        "id": "fef31f98"
      },
      "outputs": [],
      "source": [
        "y_pred_train = clf.predict(X_train)\n",
        "y_pred_test = clf.predict(X_test)"
      ]
    },
    {
      "cell_type": "markdown",
      "id": "178b259b",
      "metadata": {
        "id": "178b259b"
      },
      "source": [
        "#### Accuracy on the train dataset"
      ]
    },
    {
      "cell_type": "code",
      "execution_count": 176,
      "id": "9befa2ca",
      "metadata": {
        "id": "9befa2ca",
        "outputId": "0fe0c12c-ab27-4201-c1f9-24ce2a2de195"
      },
      "outputs": [
        {
          "data": {
            "text/plain": [
              "0.9234135667396062"
            ]
          },
          "execution_count": 176,
          "metadata": {},
          "output_type": "execute_result"
        }
      ],
      "source": [
        "metrics.accuracy_score(y_true=y_train,y_pred=y_pred_train)"
      ]
    },
    {
      "cell_type": "markdown",
      "id": "dbe51ec4",
      "metadata": {
        "id": "dbe51ec4"
      },
      "source": [
        "#### Accuracy on the test dataset"
      ]
    },
    {
      "cell_type": "code",
      "execution_count": 177,
      "id": "46f00999",
      "metadata": {
        "id": "46f00999",
        "outputId": "cca03e25-5b76-402c-a30c-cc5b410d992f"
      },
      "outputs": [
        {
          "data": {
            "text/plain": [
              "0.9387755102040817"
            ]
          },
          "execution_count": 177,
          "metadata": {},
          "output_type": "execute_result"
        }
      ],
      "source": [
        "metrics.accuracy_score(y_true=y_test,y_pred=y_pred_test)"
      ]
    },
    {
      "cell_type": "markdown",
      "id": "733685c5",
      "metadata": {
        "id": "733685c5"
      },
      "source": [
        "## Multilayer Perceptron"
      ]
    },
    {
      "cell_type": "code",
      "execution_count": 178,
      "id": "7c8e7542",
      "metadata": {
        "id": "7c8e7542"
      },
      "outputs": [],
      "source": [
        "clf = MLPClassifier(hidden_layer_sizes=(100), max_iter=300,activation = 'relu',solver='adam',random_state=1).fit(X_train, y_train)"
      ]
    },
    {
      "cell_type": "markdown",
      "id": "f6b634b8",
      "metadata": {
        "id": "f6b634b8"
      },
      "source": [
        "### Validating the model"
      ]
    },
    {
      "cell_type": "markdown",
      "id": "9237893d",
      "metadata": {
        "id": "9237893d"
      },
      "source": [
        "#### Predictions from the model"
      ]
    },
    {
      "cell_type": "code",
      "execution_count": 179,
      "id": "92e7247a",
      "metadata": {
        "id": "92e7247a"
      },
      "outputs": [],
      "source": [
        "y_pred_train = clf.predict(X_train)\n",
        "y_pred_test = clf.predict(X_test)"
      ]
    },
    {
      "cell_type": "markdown",
      "id": "d4ed6bc1",
      "metadata": {
        "id": "d4ed6bc1"
      },
      "source": [
        "#### Accuracy on the train dataset"
      ]
    },
    {
      "cell_type": "code",
      "execution_count": 180,
      "id": "47532e10",
      "metadata": {
        "id": "47532e10",
        "outputId": "7690947f-6fda-438e-cc5e-7424505ca109"
      },
      "outputs": [
        {
          "data": {
            "text/plain": [
              "1.0"
            ]
          },
          "execution_count": 180,
          "metadata": {},
          "output_type": "execute_result"
        }
      ],
      "source": [
        "metrics.accuracy_score(y_true=y_train,y_pred=y_pred_train)"
      ]
    },
    {
      "cell_type": "markdown",
      "id": "21be6390",
      "metadata": {
        "id": "21be6390"
      },
      "source": [
        "#### Accuracy on the test dataset"
      ]
    },
    {
      "cell_type": "code",
      "execution_count": 181,
      "id": "5a3f6347",
      "metadata": {
        "id": "5a3f6347",
        "outputId": "394d7a42-7c44-4353-a2c1-60bbfd102f4f"
      },
      "outputs": [
        {
          "data": {
            "text/plain": [
              "1.0"
            ]
          },
          "execution_count": 181,
          "metadata": {},
          "output_type": "execute_result"
        }
      ],
      "source": [
        "metrics.accuracy_score(y_true=y_test,y_pred=y_pred_test)"
      ]
    },
    {
      "cell_type": "markdown",
      "id": "c5d16764",
      "metadata": {
        "id": "c5d16764"
      },
      "source": [
        "## Comparative Inferences"
      ]
    },
    {
      "cell_type": "markdown",
      "id": "f05ba37d",
      "metadata": {
        "id": "f05ba37d"
      },
      "source": [
        "- The Perceptron model gives an accuracy of 67% and 75% on the test and train dataset respectively.\n",
        "- The MLP model gives an accuracy of 78% and 79% on the test and train dataset respectively.\n",
        "- Addition of hidden layers gives better results indicating the dataset is not linearly separable.\n",
        "- The MLP is able to learn a non-linear decision boundary compared to Perceptron which is a linear classifier."
      ]
    }
  ],
  "metadata": {
    "colab": {
      "provenance": []
    },
    "kernelspec": {
      "display_name": "Python 3 (ipykernel)",
      "language": "python",
      "name": "python3"
    },
    "language_info": {
      "codemirror_mode": {
        "name": "ipython",
        "version": 3
      },
      "file_extension": ".py",
      "mimetype": "text/x-python",
      "name": "python",
      "nbconvert_exporter": "python",
      "pygments_lexer": "ipython3",
      "version": "3.9.13"
    }
  },
  "nbformat": 4,
  "nbformat_minor": 5
}
